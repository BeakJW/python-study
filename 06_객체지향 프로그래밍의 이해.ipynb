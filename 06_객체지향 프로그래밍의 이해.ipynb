{
 "cells": [
  {
   "cell_type": "markdown",
   "id": "2785893e",
   "metadata": {},
   "source": [
    "### LAB06 ‒ 객체지향 프로그래밍의 이해"
   ]
  },
  {
   "cell_type": "code",
   "execution_count": 2,
   "id": "47ddf1f2",
   "metadata": {},
   "outputs": [],
   "source": [
    "class Dragoon:\n",
    "    speed = None\n",
    "    hp = None\n",
    "    attack = None\n",
    "    defense = None"
   ]
  },
  {
   "cell_type": "code",
   "execution_count": 3,
   "id": "06900e02",
   "metadata": {},
   "outputs": [
    {
     "name": "stdout",
     "output_type": "stream",
     "text": [
      "speed:10,hp:100,attack:20,defense:4\n"
     ]
    }
   ],
   "source": [
    "dg1 = Dragoon()\n",
    "\n",
    "dg1.speed = 10\n",
    "dg1.hp = 100\n",
    "dg1.attack = 20\n",
    "dg1.defense = 4\n",
    "\n",
    "tpl = \"speed:{0},hp:{1},attack:{2},defense:{3}\"\n",
    "print(tpl.format(dg1.speed,dg1.hp,dg1.attack,dg1.defense))"
   ]
  },
  {
   "cell_type": "code",
   "execution_count": 20,
   "id": "6a42fe6f",
   "metadata": {},
   "outputs": [
    {
     "name": "stdout",
     "output_type": "stream",
     "text": [
      "speed:20,hp:100,attack:40,defense:44\n"
     ]
    }
   ],
   "source": [
    "dg1.speed += 1\n",
    "dg1.hp += 10\n",
    "dg1.attack += 2\n",
    "dg1.defense += 4\n",
    "\n",
    "dg1.hp -= 10\n",
    "\n",
    "tpl = \"speed:{0},hp:{1},attack:{2},defense:{3}\"\n",
    "print(tpl.format(dg1.speed,dg1.hp,dg1.attack,dg1.defense))"
   ]
  },
  {
   "cell_type": "code",
   "execution_count": 13,
   "id": "5d570426",
   "metadata": {},
   "outputs": [],
   "source": [
    "class Probe:\n",
    "    def move(self,x,y):\n",
    "        print(\"좌표는 ({0},{1})로 이동합니다\".format(x,y))\n",
    "\n",
    "    def mineral(self):\n",
    "        print(\"광물을 채집합니다.(+10)\")\n",
    "        return 10\n",
    "    \n",
    "    def gas(self):\n",
    "        print(\"가스를 채집합니다.(+5)\")\n",
    "        return 5"
   ]
  },
  {
   "cell_type": "code",
   "execution_count": 19,
   "id": "e4fcb21a",
   "metadata": {},
   "outputs": [
    {
     "name": "stdout",
     "output_type": "stream",
     "text": [
      "좌표는 (10,10)로 이동합니다\n",
      "광물을 채집합니다.(+10)\n",
      "광물을 채집합니다.(+10)\n",
      "광물을 채집합니다.(+10)\n",
      "가스를 채집합니다.(+5)\n",
      "가스를 채집합니다.(+5)\n",
      "채취된 미네랄: 30, 채취된 가스 : 10\n"
     ]
    }
   ],
   "source": [
    "probe1 = Probe()\n",
    "\n",
    "probe1.move(10,10)\n",
    "\n",
    "my_mineral = 0\n",
    "my_mineral += probe1.mineral()\n",
    "my_mineral += probe1.mineral()\n",
    "my_mineral += probe1.mineral()\n",
    "\n",
    "my_gas = 0\n",
    "my_gas += probe1.gas()\n",
    "my_gas += probe1.gas()\n",
    "\n",
    "print(\"채취된 미네랄: {0}, 채취된 가스 : {1}\".format(my_mineral,my_gas))"
   ]
  },
  {
   "cell_type": "code",
   "execution_count": 27,
   "id": "bbe69c6e",
   "metadata": {},
   "outputs": [],
   "source": [
    "class Zealot:\n",
    "    hp = None\n",
    "    dps = None\n",
    "\n",
    "    def state(self):\n",
    "        print(\"상태확인 >>> hp:{0},dps:{1}\".format(self.hp,self.dps))\n",
    "\n",
    "    def level_up(self):\n",
    "        self.hp +=10\n",
    "        self.dps +=2\n",
    "        print(\"레벨업을 하여 체력(+10), 공격력이(+2)이 증가합니다.\")\n",
    "\n",
    "    def attacked(self,enemy_attack):\n",
    "        self.hp -= enemy_attack\n",
    "        print(\"{0}의 공격을 받아 hp가 {1}만큼 감소합니다\".format(enemy_attack,self.hp))"
   ]
  },
  {
   "cell_type": "code",
   "execution_count": 28,
   "id": "ff863705",
   "metadata": {},
   "outputs": [
    {
     "name": "stdout",
     "output_type": "stream",
     "text": [
      "상태확인 >>> hp:100,dps:20\n",
      "30의 공격을 받아 hp가 70만큼 감소합니다\n",
      "상태확인 >>> hp:70,dps:20\n",
      "레벨업을 하여 체력(+10), 공격력이(+2)이 증가합니다.\n",
      "상태확인 >>> hp:80,dps:22\n"
     ]
    }
   ],
   "source": [
    "zealot1 = Zealot()\n",
    "zealot1.hp = 100\n",
    "zealot1.dps = 20\n",
    "\n",
    "zealot1.state()\n",
    "zealot1.attacked(30)\n",
    "zealot1.state()\n",
    "zealot1.level_up()\n",
    "zealot1.state()"
   ]
  },
  {
   "cell_type": "code",
   "execution_count": 33,
   "id": "c6089118",
   "metadata": {},
   "outputs": [],
   "source": [
    "class Marine:\n",
    "    name = None\n",
    "    hp = None\n",
    "\n",
    "    def __init__(self,name,hp):\n",
    "        self.name = name\n",
    "        self.hp = hp\n",
    "        print(\"[{0}] You wanna piece me boy?\".format(self.name))\n",
    "\n",
    "    def state(self):\n",
    "        print(\"[{0}] hp: {1}\".format(self.name,self.hp))\n",
    "    \n",
    "    def level_up(self):\n",
    "        self.hp +=5\n",
    "        print(\"[{0}] 레벨업을 하여 체력(+5)이 증가합니다\".format(self.name))\n",
    "\n",
    "    def attacked(self, enemy_attack):\n",
    "        self.hp -= enemy_attack\n",
    "        print(\"[{0}] 적의 공격을 받아 hp가 {1} 감소합니다\".format(self.name,enemy_attack))"
   ]
  },
  {
   "cell_type": "code",
   "execution_count": 35,
   "id": "b687fe7e",
   "metadata": {},
   "outputs": [
    {
     "name": "stdout",
     "output_type": "stream",
     "text": [
      "[마린1] You wanna piece me boy?\n",
      "[마린2] You wanna piece me boy?\n",
      "[마린1] hp: 100\n",
      "[마린2] hp: 100\n",
      "[마린1] 적의 공격을 받아 hp가 30 감소합니다\n",
      "[마린2] 적의 공격을 받아 hp가 30 감소합니다\n",
      "[마린1] hp: 70\n",
      "[마린2] hp: 70\n",
      "[마린1] 레벨업을 하여 체력(+5)이 증가합니다\n",
      "[마린2] 레벨업을 하여 체력(+5)이 증가합니다\n",
      "[마린1] hp: 75\n",
      "[마린2] hp: 75\n"
     ]
    }
   ],
   "source": [
    "m1 = Marine(\"마린1\",100)\n",
    "m2 = Marine(\"마린2\",100)\n",
    "\n",
    "m1.state()\n",
    "m2.state()\n",
    "\n",
    "m1.attacked(30)\n",
    "m2.attacked(30)\n",
    "\n",
    "m1.state()\n",
    "m2.state()\n",
    "\n",
    "m1.level_up()\n",
    "m2.level_up()\n",
    "\n",
    "m1.state()\n",
    "m2.state()"
   ]
  },
  {
   "cell_type": "markdown",
   "id": "726429b3",
   "metadata": {},
   "source": [
    "## 정보 은닉화"
   ]
  },
  {
   "cell_type": "code",
   "execution_count": 51,
   "id": "1ce1ff2d",
   "metadata": {},
   "outputs": [],
   "source": [
    "class Vulture:\n",
    "    __name = None\n",
    "    __hp = None\n",
    "    __dps = None\n",
    "\n",
    "    @property\n",
    "    def name(self):\n",
    "        return self.__name\n",
    "    \n",
    "    @name.setter\n",
    "    def name(self,value):\n",
    "        self.__name = value\n",
    "\n",
    "    @property\n",
    "    def hp(self):\n",
    "        return self.__hp\n",
    "    \n",
    "    @hp.setter\n",
    "    def hp(self,value):\n",
    "        if value < 1:\n",
    "            value = 1\n",
    "        self.__hp = value\n",
    "\n",
    "    @property\n",
    "    def dps(self):\n",
    "        return self.__dps\n",
    "    \n",
    "    @dps.setter\n",
    "    def dps(self,value):\n",
    "        if value <1:\n",
    "            value = 1\n",
    "        self.__dps = value\n",
    "    \n",
    "    def __init__(self, name = None, hp = 0, dps = 0):\n",
    "        self.name = name\n",
    "        self.hp = hp\n",
    "        self.dps = dps\n",
    "        print(\"[{0}] Alright! Bring it on!\".format(self.name))\n",
    "\n",
    "    def status(self):\n",
    "        print(\"[{0}] hp: {1}, dps: {2}\".format(self.name,self.hp,self.dps))\n",
    "\n",
    "    def level_up(self):\n",
    "        self.hp += 5\n",
    "        self.dps +=1\n",
    "        print(\"[{0}]이 레벨업을 하여 체력(+5) 공격력(+1)이 증가합니다\".format(self.name))\n",
    "\n",
    "    def attacked(self,enmey_attack):\n",
    "        self.hp -= enmey_attack\n",
    "        print(\"[{0}]이 적의 공격을 받아 hp가 {1}만큼 감소하였습니다\".format(self.name,enmey_attack))\n",
    "\n",
    "    def attack(self,targer):\n",
    "        print(\"[{0}] 이 {1}에게 초당 {2}만큼의 피해를 주었습니다.\".format(self.name,targer,self.dps))"
   ]
  },
  {
   "cell_type": "code",
   "execution_count": 55,
   "id": "b18c77c7",
   "metadata": {},
   "outputs": [
    {
     "name": "stdout",
     "output_type": "stream",
     "text": [
      "[벌처1] Alright! Bring it on!\n",
      "[벌처2] Alright! Bring it on!\n",
      "[벌처1] hp: 100, dps: 1\n",
      "[벌처2] hp: 100, dps: 1\n",
      "[벌처1]이 적의 공격을 받아 hp가 30만큼 감소하였습니다\n",
      "[벌처2]이 적의 공격을 받아 hp가 30만큼 감소하였습니다\n",
      "[벌처1]이 레벨업을 하여 체력(+5) 공격력(+1)이 증가합니다\n",
      "[벌처2]이 레벨업을 하여 체력(+5) 공격력(+1)이 증가합니다\n",
      "[벌처1] hp: 75, dps: 2\n",
      "[벌처1] hp: 75, dps: 2\n",
      "[벌처1] 이 저글링1에게 초당 2만큼의 피해를 주었습니다.\n",
      "[벌처2] 이 저글링2에게 초당 2만큼의 피해를 주었습니다.\n"
     ]
    }
   ],
   "source": [
    "v1 = Vulture(\"벌처1\",100)\n",
    "v2 = Vulture(\"벌처2\",100,-1)\n",
    "\n",
    "v1.status()\n",
    "v2.status()\n",
    "\n",
    "v1.attacked(30)\n",
    "v2.attacked(30)\n",
    "\n",
    "v1.level_up()\n",
    "v2.level_up()\n",
    "\n",
    "v1.status()\n",
    "v1.status()\n",
    "\n",
    "v1.attack(\"저글링1\")\n",
    "v2.attack(\"저글링2\")"
   ]
  },
  {
   "cell_type": "markdown",
   "id": "f896854d",
   "metadata": {},
   "source": [
    "## 클래스 상속"
   ]
  },
  {
   "cell_type": "code",
   "execution_count": 56,
   "id": "a2be953f",
   "metadata": {},
   "outputs": [],
   "source": [
    "class Terran:\n",
    "    name = None\n",
    "    hp = None\n",
    "\n",
    "    def __init__(self,name,hp):\n",
    "        self.name = name\n",
    "        self.hp = hp\n",
    "\n",
    "    def info(self):\n",
    "        return \"[%s] HP: %d\" %(self.name,self.hp)"
   ]
  },
  {
   "cell_type": "code",
   "execution_count": 57,
   "id": "337ac15e",
   "metadata": {},
   "outputs": [
    {
     "name": "stdout",
     "output_type": "stream",
     "text": [
      "[마린1] HP: 45\n",
      "[마린1] 총을 쏴 100의 데미지를 입힘\n"
     ]
    }
   ],
   "source": [
    "class Marine(Terran):\n",
    "    def shoot(self,attack):\n",
    "        return \"[%s] 총을 쏴 %d의 데미지를 입힘\" %(self.name,attack)\n",
    "    \n",
    "m = Marine('마린1',45)\n",
    "print(m.info())\n",
    "print(m.shoot(100))"
   ]
  },
  {
   "cell_type": "code",
   "execution_count": 61,
   "id": "d712cb32",
   "metadata": {},
   "outputs": [],
   "source": [
    "class Medic(Terran):\n",
    "    mana = None\n",
    "\n",
    "    def __init__(self,name,hp,mana):\n",
    "        super().__init__(name,hp)\n",
    "\n",
    "        self.mana = mana\n",
    "\n",
    "    def info_ex(self):\n",
    "        info_msg = super().info()\n",
    "        info_msg += \",MANA: %d\"%self.mana\n",
    "        return info_msg\n",
    "\n",
    "    def heel(self,target):\n",
    "        self.mana -= 5\n",
    "        return \"[%s] %s의 체력을 회복시킵니다. (-5 마나)\" %(self.name,target)"
   ]
  },
  {
   "cell_type": "code",
   "execution_count": 62,
   "id": "80b9a2be",
   "metadata": {},
   "outputs": [
    {
     "name": "stdout",
     "output_type": "stream",
     "text": [
      "[메딕1] HP: 30,MANA: 100\n",
      "[메딕1] 마린1의 체력을 회복시킵니다. (-5 마나)\n"
     ]
    }
   ],
   "source": [
    "md = Medic('메딕1',30,100)\n",
    "print(md.info_ex())\n",
    "print(md.heel('마린1'))"
   ]
  },
  {
   "cell_type": "code",
   "execution_count": 63,
   "id": "aafe4be9",
   "metadata": {},
   "outputs": [
    {
     "name": "stdout",
     "output_type": "stream",
     "text": [
      "[탱크1] HP: 150, 상태: 아머드모드\n",
      "[탱크1] HP: 150, 상태: 시즈모드\n"
     ]
    }
   ],
   "source": [
    "class SiegeTank(Terran):\n",
    "    siege_mode = None\n",
    "\n",
    "    def __init__(self, name, hp = 150, siege_mode = False):\n",
    "        super().__init__(name, hp)\n",
    "        self.siege_mode = siege_mode\n",
    "\n",
    "    def set_siege(self, on):\n",
    "        self.siege_mode  = bool(on)\n",
    "\n",
    "    def info(self):\n",
    "        base = super().info()\n",
    "\n",
    "        if self.siege_mode:\n",
    "            mode = '시즈모드'\n",
    "        else:\n",
    "            mode = '아머드모드'\n",
    "        return base + \", 상태: \" + mode\n",
    "    \n",
    "t = SiegeTank('탱크1')\n",
    "print(t.info())\n",
    "t.set_siege(True)\n",
    "print(t.info())"
   ]
  },
  {
   "cell_type": "code",
   "execution_count": null,
   "id": "1fae8360",
   "metadata": {},
   "outputs": [],
   "source": []
  }
 ],
 "metadata": {
  "kernelspec": {
   "display_name": "Python 3",
   "language": "python",
   "name": "python3"
  },
  "language_info": {
   "codemirror_mode": {
    "name": "ipython",
    "version": 3
   },
   "file_extension": ".py",
   "mimetype": "text/x-python",
   "name": "python",
   "nbconvert_exporter": "python",
   "pygments_lexer": "ipython3",
   "version": "3.13.9"
  }
 },
 "nbformat": 4,
 "nbformat_minor": 5
}
