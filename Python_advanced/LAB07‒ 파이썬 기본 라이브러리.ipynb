{
 "cells": [
  {
   "cell_type": "markdown",
   "id": "90d1934f",
   "metadata": {},
   "source": [
    "### LAB01‒ 파이썬 기본 라이브러리"
   ]
  },
  {
   "cell_type": "markdown",
   "id": "80f5419a",
   "metadata": {},
   "source": [
    "## 2.라이브러리 활용"
   ]
  },
  {
   "cell_type": "code",
   "execution_count": 1,
   "id": "fd9b0633",
   "metadata": {},
   "outputs": [
    {
     "name": "stdout",
     "output_type": "stream",
     "text": [
      "7\n",
      "-1\n"
     ]
    }
   ],
   "source": [
    "## 중요\n",
    "## 상위 폴더의 라이브러리는 참조를 못함\n",
    "\n",
    "from mylibrary import MyMod1\n",
    "\n",
    "print(MyMod1.plus(3,4))\n",
    "print(MyMod1.minus(3,4))"
   ]
  },
  {
   "cell_type": "code",
   "execution_count": 2,
   "id": "5a727c16",
   "metadata": {},
   "outputs": [
    {
     "name": "stdout",
     "output_type": "stream",
     "text": [
      "45\n",
      "15\n"
     ]
    }
   ],
   "source": [
    "from mylibrary import MyMod3\n",
    "\n",
    "print(MyMod3.my_calc.plus(30,15))\n",
    "print(MyMod3.my_calc.minus(30,15))"
   ]
  },
  {
   "cell_type": "code",
   "execution_count": 3,
   "id": "5d48bfa9",
   "metadata": {},
   "outputs": [
    {
     "name": "stdout",
     "output_type": "stream",
     "text": [
      "7\n",
      "-1\n"
     ]
    }
   ],
   "source": [
    "from mylibrary import MyMod1 as hello\n",
    "\n",
    "print(hello.plus(3,4))\n",
    "print(hello.minus(3,4))"
   ]
  },
  {
   "cell_type": "code",
   "execution_count": 4,
   "id": "c105ba20",
   "metadata": {},
   "outputs": [
    {
     "name": "stdout",
     "output_type": "stream",
     "text": [
      "--------생성자가 실행되었습니다-----\n",
      "이름: 파이썬학생 / 이메일: jnwoo97@naver.com\n"
     ]
    }
   ],
   "source": [
    "from mylibrary import MyMod2 as User\n",
    "\n",
    "mem = User.Member(\"파이썬학생\",\"jnwoo97@naver.com\")\n",
    "\n",
    "mem.view_info()"
   ]
  },
  {
   "cell_type": "code",
   "execution_count": 5,
   "id": "aa13479a",
   "metadata": {},
   "outputs": [
    {
     "name": "stdout",
     "output_type": "stream",
     "text": [
      "45\n",
      "15\n"
     ]
    }
   ],
   "source": [
    "from mylibrary import MyMod3 as MyObject\n",
    "\n",
    "print(MyObject.my_calc.plus(30,15))\n",
    "print(MyObject.my_calc.minus(30,15))\n",
    "\n"
   ]
  },
  {
   "cell_type": "code",
   "execution_count": 6,
   "id": "9de66f96",
   "metadata": {},
   "outputs": [
    {
     "name": "stdout",
     "output_type": "stream",
     "text": [
      "7\n"
     ]
    }
   ],
   "source": [
    "from mylibrary.MyMod1 import plus\n",
    "\n",
    "print(plus(3,4))"
   ]
  },
  {
   "cell_type": "code",
   "execution_count": 7,
   "id": "698bc595",
   "metadata": {},
   "outputs": [
    {
     "name": "stdout",
     "output_type": "stream",
     "text": [
      "45\n",
      "15\n"
     ]
    }
   ],
   "source": [
    "from mylibrary.MyMod3 import my_calc\n",
    "\n",
    "print(my_calc.plus(30,15))\n",
    "print(my_calc.minus(30,15))"
   ]
  },
  {
   "cell_type": "code",
   "execution_count": 8,
   "id": "2131b69f",
   "metadata": {},
   "outputs": [
    {
     "name": "stdout",
     "output_type": "stream",
     "text": [
      "45\n",
      "--------생성자가 실행되었습니다-----\n",
      "이름: 백진우 / 이메일: hdlhasd@naver.com\n",
      "70\n",
      "38\n"
     ]
    }
   ],
   "source": [
    "from mylibrary.MyMod1 import plus as 더하기\n",
    "from mylibrary.MyMod2 import Member as 회원클래스\n",
    "from mylibrary.MyMod3 import my_calc as 계산기\n",
    "\n",
    "print(더하기(30,15))\n",
    "\n",
    "회원 = 회원클래스(\"백진우\",\"hdlhasd@naver.com\")\n",
    "회원.view_info()\n",
    "\n",
    "print(계산기.plus(30,40))\n",
    "print(계산기.minus(50,12))"
   ]
  },
  {
   "cell_type": "markdown",
   "id": "69591b5f",
   "metadata": {},
   "source": [
    "## 3. 파일/폴더 관련 기능"
   ]
  },
  {
   "cell_type": "code",
   "execution_count": 9,
   "id": "974575bf",
   "metadata": {},
   "outputs": [
    {
     "name": "stdout",
     "output_type": "stream",
     "text": [
      "darwin\n"
     ]
    }
   ],
   "source": [
    "import sys\n",
    "import os\n",
    "\n",
    "print(sys.platform)"
   ]
  },
  {
   "cell_type": "code",
   "execution_count": 10,
   "id": "1bd99b67",
   "metadata": {},
   "outputs": [
    {
     "name": "stdout",
     "output_type": "stream",
     "text": [
      "['mylibrary', 'LAB01‒ 파이썬 기본 라이브러리.ipynb']\n"
     ]
    }
   ],
   "source": [
    "ls = os.listdir('./')\n",
    "print(ls)"
   ]
  },
  {
   "cell_type": "code",
   "execution_count": 11,
   "id": "e2161ece",
   "metadata": {},
   "outputs": [
    {
     "name": "stdout",
     "output_type": "stream",
     "text": [
      "False\n"
     ]
    }
   ],
   "source": [
    "k = os.path.exists('./hello')\n",
    "print(k)"
   ]
  },
  {
   "cell_type": "code",
   "execution_count": 12,
   "id": "899a2fb0",
   "metadata": {},
   "outputs": [
    {
     "name": "stdout",
     "output_type": "stream",
     "text": [
      "/Users/jinwoo/python-study/Python_advanced/hello\n"
     ]
    }
   ],
   "source": [
    "print(os.path.abspath('./hello'))"
   ]
  },
  {
   "cell_type": "code",
   "execution_count": 13,
   "id": "3fe9ac78",
   "metadata": {},
   "outputs": [
    {
     "name": "stdout",
     "output_type": "stream",
     "text": [
      "hello 폴더를 생성했습니다\n"
     ]
    }
   ],
   "source": [
    "if os.path.exists('./hello') == False:\n",
    "    #없다면 생성\n",
    "    os.mkdir('./hello')\n",
    "    print('hello 폴더를 생성했습니다')\n",
    "else:\n",
    "    #있다면 삭제 --> 빈 폴더만 삭제 가능\n",
    "    os.rmdir('./hello')\n",
    "    print('hello 폴더 삭제하였습니다')"
   ]
  },
  {
   "cell_type": "code",
   "execution_count": 14,
   "id": "888826d4",
   "metadata": {},
   "outputs": [
    {
     "name": "stdout",
     "output_type": "stream",
     "text": [
      "['mylibrary', 'hello', 'LAB01‒ 파이썬 기본 라이브러리.ipynb']\n"
     ]
    }
   ],
   "source": [
    "import glob as gl\n",
    "\n",
    "ls = gl.glob('*')\n",
    "print(ls)"
   ]
  },
  {
   "cell_type": "code",
   "execution_count": 15,
   "id": "6df68bc7",
   "metadata": {},
   "outputs": [
    {
     "name": "stdout",
     "output_type": "stream",
     "text": [
      "['LAB01‒ 파이썬 기본 라이브러리.ipynb']\n"
     ]
    }
   ],
   "source": [
    "ls = gl.glob('*.ipynb')\n",
    "print(ls)"
   ]
  },
  {
   "cell_type": "code",
   "execution_count": 16,
   "id": "0fbd14d5",
   "metadata": {},
   "outputs": [
    {
     "name": "stdout",
     "output_type": "stream",
     "text": [
      "['LAB01‒ 파이썬 기본 라이브러리.ipynb']\n"
     ]
    }
   ],
   "source": [
    "ls = gl.glob('*1*')\n",
    "print(ls)"
   ]
  },
  {
   "cell_type": "code",
   "execution_count": 17,
   "id": "4f9cb00d",
   "metadata": {},
   "outputs": [
    {
     "name": "stdout",
     "output_type": "stream",
     "text": [
      "python 폴더와 하위 폴더들을 생성 했습니다.\n"
     ]
    }
   ],
   "source": [
    "import shutil # 파일 폴더 관련 작업에 확장된 기능을 제공\n",
    "\n",
    "if os.path.exists('Python') == False:\n",
    "    os.makedirs('python/test/hello/world',exist_ok=True)\n",
    "    print('python 폴더와 하위 폴더들을 생성 했습니다.')\n",
    "\n",
    "else:\n",
    "    shutil.rmtree('python')\n",
    "    print('python 폴더가 삭제 되었습니다.')\n"
   ]
  },
  {
   "cell_type": "code",
   "execution_count": 18,
   "id": "269904d3",
   "metadata": {},
   "outputs": [
    {
     "name": "stdout",
     "output_type": "stream",
     "text": [
      "python 폴더가 ../craeted폴더로 이동되었습니다\n"
     ]
    }
   ],
   "source": [
    "if os.path.exists('python'):\n",
    "    shutil.move('python','../created')\n",
    "    print('python 폴더가 ../craeted폴더로 이동되었습니다')"
   ]
  },
  {
   "cell_type": "code",
   "execution_count": 19,
   "id": "5a0200b7",
   "metadata": {},
   "outputs": [
    {
     "name": "stdout",
     "output_type": "stream",
     "text": [
      "헬로텍스트 파일 생성 완료\n",
      "헬로 텍스트가 월드 텍스트로 복사됨\n"
     ]
    }
   ],
   "source": [
    "if os.path.exists('hello.txt') == False:\n",
    "    with open(\"Hello.txt\",\"w\",encoding=\"utf-8\") as f:\n",
    "        f.write(\"인생은 짧다\")\n",
    "        print('헬로텍스트 파일 생성 완료')\n",
    "\n",
    "    shutil.copy('hello.txt','world.txt')\n",
    "    print('헬로 텍스트가 월드 텍스트로 복사됨')\n",
    "\n",
    "else:\n",
    "    os.remove('hello.txt')\n",
    "    print('hello.txt가 삭제되었습니다')\n",
    "    os.remove('world.txt')\n",
    "    print(\"world.txt삭제 완료\")"
   ]
  },
  {
   "cell_type": "code",
   "execution_count": 20,
   "id": "b3a09301",
   "metadata": {},
   "outputs": [
    {
     "name": "stdout",
     "output_type": "stream",
     "text": [
      "2025-10-24 15:13:51.444940\n"
     ]
    }
   ],
   "source": [
    "#모듈 참조\n",
    "# -> 날짜 처리 모듈(datetime)에 대한 dt라는 별칭 적용\n",
    "import datetime as dt\n",
    "\n",
    "now_time = dt.datetime.now()\n",
    "print(now_time)"
   ]
  },
  {
   "cell_type": "code",
   "execution_count": 21,
   "id": "cb1921e0",
   "metadata": {},
   "outputs": [
    {
     "name": "stdout",
     "output_type": "stream",
     "text": [
      "오늘은 2025년 10월 24일 입니다.\n"
     ]
    }
   ],
   "source": [
    "msg = \"오늘은 %d년 %d월 %d일 입니다.\"\n",
    "print(msg%(now_time.year,now_time.month,now_time.day))"
   ]
  },
  {
   "cell_type": "code",
   "execution_count": 22,
   "id": "941d379c",
   "metadata": {},
   "outputs": [
    {
     "name": "stdout",
     "output_type": "stream",
     "text": [
      "지금은 15시 13분 51초 입니다.\n"
     ]
    }
   ],
   "source": [
    "msg = \"지금은 %d시 %d분 %d초 입니다.\"\n",
    "print(msg%(now_time.hour,now_time.minute,now_time.second))"
   ]
  },
  {
   "cell_type": "code",
   "execution_count": 23,
   "id": "f71bf09a",
   "metadata": {},
   "outputs": [
    {
     "name": "stdout",
     "output_type": "stream",
     "text": [
      "4\n"
     ]
    }
   ],
   "source": [
    "d = now_time.weekday()\n",
    "print(d)\n",
    "\n",
    "days = (\"월\",'화','수','목','금','토','일')"
   ]
  },
  {
   "cell_type": "code",
   "execution_count": 24,
   "id": "e7d312c0",
   "metadata": {},
   "outputs": [
    {
     "name": "stdout",
     "output_type": "stream",
     "text": [
      "금\n"
     ]
    }
   ],
   "source": [
    "print(days[d])"
   ]
  },
  {
   "cell_type": "code",
   "execution_count": 25,
   "id": "d4598c5b",
   "metadata": {},
   "outputs": [
    {
     "name": "stdout",
     "output_type": "stream",
     "text": [
      "2025-10-24 15:13:51\n"
     ]
    }
   ],
   "source": [
    "print(now_time.strftime(\"%Y-%m-%d %H:%M:%S\"))"
   ]
  },
  {
   "cell_type": "code",
   "execution_count": 26,
   "id": "4be404a3",
   "metadata": {},
   "outputs": [
    {
     "name": "stdout",
     "output_type": "stream",
     "text": [
      "25-10-24일 15시:13분:51초\n"
     ]
    }
   ],
   "source": [
    "print(now_time.strftime(\"%y-%m-%d일 %H시:%M분:%S초\"))"
   ]
  },
  {
   "cell_type": "code",
   "execution_count": 28,
   "id": "2333a376",
   "metadata": {},
   "outputs": [
    {
     "name": "stdout",
     "output_type": "stream",
     "text": [
      "18-08-30일 13시:26분:55초\n"
     ]
    }
   ],
   "source": [
    "someday = dt.datetime(2018,8,30,13,26,55)\n",
    "day_str = someday.strftime(\"%y-%m-%d일 %H시:%M분:%S초\")\n",
    "print(day_str)"
   ]
  },
  {
   "cell_type": "code",
   "execution_count": 33,
   "id": "77fc2abb",
   "metadata": {},
   "outputs": [
    {
     "name": "stdout",
     "output_type": "stream",
     "text": [
      "2017-01-02 14:44:00\n"
     ]
    }
   ],
   "source": [
    "date_str = \"2017년 01월 02일 14시 44분\"\n",
    "\n",
    "# 문자열 → datetime 객체\n",
    "oldday = dt.datetime.strptime(date_str, \"%Y년 %m월 %d일 %H시 %M분\")\n",
    "\n",
    "# datetime 객체 → 문자열\n",
    "print(oldday.strftime(\"%Y-%m-%d %H:%M:%S\"))"
   ]
  },
  {
   "cell_type": "code",
   "execution_count": 34,
   "id": "b26db8b5",
   "metadata": {},
   "outputs": [
    {
     "name": "stdout",
     "output_type": "stream",
     "text": [
      "25-10-24 15:46:50\n",
      "18-10-16 15:46:50\n"
     ]
    }
   ],
   "source": [
    "foo = dt.datetime.now()\n",
    "print(foo.strftime(\"%y-%m-%d %H:%M:%S\"))\n",
    "change_date = foo.replace(year=2018, day=16, hour=15)\n",
    "print(change_date.strftime(\"%y-%m-%d %H:%M:%S\"))"
   ]
  },
  {
   "cell_type": "code",
   "execution_count": 35,
   "id": "d96f559a",
   "metadata": {},
   "outputs": [
    {
     "name": "stdout",
     "output_type": "stream",
     "text": [
      "68 days, 8:12:59.232950\n"
     ]
    }
   ],
   "source": [
    "# 두 날짜 만들기\n",
    "# -> 오늘날짜\n",
    "dt1 = dt.datetime.now()\n",
    "# -> 내년 1월1일 자정\n",
    "dt2 = dt.datetime(dt1.year+1, 1, 1, 0, 0, 0)\n",
    "# 두 날짜의 차를 구한 결과는 timedelta 객체형식이 된다.\n",
    "# -> datetime 모듈에 정의되어 있는 객체형식임.\n",
    "td = dt2 - dt1\n",
    "# -> ex) 25 days, 21:04:12.386733\n",
    "print(td)"
   ]
  },
  {
   "cell_type": "code",
   "execution_count": 36,
   "id": "ed15cda9",
   "metadata": {},
   "outputs": [
    {
     "name": "stdout",
     "output_type": "stream",
     "text": [
      "68\n",
      "29579\n",
      "올해는 68일 남았습니다.\n"
     ]
    }
   ],
   "source": [
    "# 날짜만 추출\n",
    "print(td.days) # ex) 245일\n",
    "# 날짜를 제외하고 시간,분,초 단위를 모두 초로 합산한 값.\n",
    "print(td.seconds) # ex) 9800초\n",
    "print(\"올해는 %d일 남았습니다.\" % td.days)"
   ]
  },
  {
   "cell_type": "code",
   "execution_count": 37,
   "id": "7a73bac2",
   "metadata": {},
   "outputs": [
    {
     "name": "stdout",
     "output_type": "stream",
     "text": [
      "5904779.23295\n"
     ]
    }
   ],
   "source": [
    "result = td.total_seconds()\n",
    "print(result)"
   ]
  },
  {
   "cell_type": "code",
   "execution_count": 38,
   "id": "6b061f9c",
   "metadata": {},
   "outputs": [
    {
     "name": "stdout",
     "output_type": "stream",
     "text": [
      "2026-02-01 16:47:38\n"
     ]
    }
   ],
   "source": [
    "# timedelta 객체 만들기(더하거나 뺄 값) --> 100일+3600초\n",
    "d = dt.timedelta(days=100, seconds=3600)\n",
    "# 특정시각(혹은 현재시각)에 timedelta 객체를 더해 연산결과를 얻을 수 있다.\n",
    "now_time = dt.datetime.now()\n",
    "# 연산 결과는 datetime 객체가 된다.\n",
    "after_time = now_time + d\n",
    "print(after_time.strftime(\"%Y-%m-%d %H:%M:%S\"))"
   ]
  },
  {
   "cell_type": "code",
   "execution_count": 40,
   "id": "ba0971b0",
   "metadata": {},
   "outputs": [
    {
     "name": "stdout",
     "output_type": "stream",
     "text": [
      "hello.txt (이)가 첨부되었습니다.\n",
      "world.txt (이)가 첨부되었습니다.\n"
     ]
    },
    {
     "data": {
      "text/plain": [
       "<bound method SMTP.quit of <smtplib.SMTP object at 0x10cab78c0>>"
      ]
     },
     "execution_count": 40,
     "metadata": {},
     "output_type": "execute_result"
    }
   ],
   "source": [
    "import os\n",
    "\n",
    "from smtplib import SMTP\n",
    "\n",
    "from email.mime.text import MIMEText\n",
    "\n",
    "from email.mime.application import MIMEApplication\n",
    "\n",
    "from email.mime.multipart import MIMEMultipart\n",
    "\n",
    "from_addr = \"babujinwoo97@naver.com\"\n",
    "\n",
    "to_addr = \"cby1999@naver.com\"\n",
    "\n",
    "subject = \"로또에 당첨되었습니다!\"\n",
    "\n",
    "content = \"\"\" 안녕하세요 파이썬 코드로 발송하는 이메일 코드 입니다\n",
    "잘 발송이 되었다면 카톡으로 답장 주세요\n",
    "감사합니다\n",
    "\"\"\"\n",
    "\n",
    "files = [\"hello.txt\",\"world.txt\"]\n",
    "\n",
    "content_type = \"plain\"\n",
    "\n",
    "username=\"babujinwoo97\"\n",
    "\n",
    "password = \"96T8S55QW1MD\"\n",
    "\n",
    "\n",
    "# 구글 발송 서버 주소와 포트 (고정값)\n",
    "#smtp = \"smtp.gmail.com\"\n",
    "#port = 587\n",
    "\n",
    "\n",
    "smtp = \"smtp.naver.com\"\n",
    "port = 456\n",
    "\n",
    "msg = MIMEMultipart()\n",
    "\n",
    "msg['Subject'] = subject\n",
    "msg['from'] = from_addr\n",
    "msg['To'] = to_addr\n",
    "\n",
    "msg.attach(MIMEText(content,content_type))\n",
    "\n",
    "if files:\n",
    "    for file_item in files:\n",
    "        if os.path.exists(file_item):\n",
    "            with open(file_item,'rb') as f:\n",
    "                basename = os.path.basename(file_item)\n",
    "                part = MIMEApplication(f.read(),Name = basename)\n",
    "\n",
    "                part['Content-Disposition'] = 'attachment; filename=\"%s\"' % basename\n",
    "                msg.attach(part)\n",
    "\n",
    "                print(basename,\"(이)가 첨부되었습니다.\")\n",
    "\n",
    "mail = SMTP(smtp)\n",
    "\n",
    "mail.ehlo()\n",
    "\n",
    "mail.starttls()\n",
    "\n",
    "mail.login(username,password)\n",
    "\n",
    "mail.sendmail(from_addr, to_addr, msg.as_string())\n",
    "\n",
    "mail.quit\n",
    "\n"
   ]
  },
  {
   "cell_type": "code",
   "execution_count": null,
   "id": "213da69d",
   "metadata": {},
   "outputs": [],
   "source": []
  }
 ],
 "metadata": {
  "kernelspec": {
   "display_name": "Python 3",
   "language": "python",
   "name": "python3"
  },
  "language_info": {
   "codemirror_mode": {
    "name": "ipython",
    "version": 3
   },
   "file_extension": ".py",
   "mimetype": "text/x-python",
   "name": "python",
   "nbconvert_exporter": "python",
   "pygments_lexer": "ipython3",
   "version": "3.13.9"
  }
 },
 "nbformat": 4,
 "nbformat_minor": 5
}
