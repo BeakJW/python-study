{
 "cells": [
  {
   "cell_type": "markdown",
   "id": "6f2550b7",
   "metadata": {},
   "source": [
    "### LAB8 메일링 리스트, 데이터베이스 연동-1"
   ]
  },
  {
   "cell_type": "markdown",
   "id": "d31ac357",
   "metadata": {},
   "source": [
    "# 1.메일 발송 모듈 제작"
   ]
  },
  {
   "cell_type": "code",
   "execution_count": 8,
   "id": "0e742eaf",
   "metadata": {},
   "outputs": [],
   "source": [
    "from mylibrary import MyMailer\n",
    "import datetime as dt\n",
    "import time\n",
    "import concurrent.futures as futures"
   ]
  },
  {
   "cell_type": "code",
   "execution_count": 2,
   "id": "08f49f14",
   "metadata": {},
   "outputs": [
    {
     "name": "stdout",
     "output_type": "stream",
     "text": [
      "2025 10 27\n"
     ]
    }
   ],
   "source": [
    "today = dt.datetime.now()\n",
    "year = today.year\n",
    "month = today.month\n",
    "day = today.day\n",
    "print(year,month,day)"
   ]
  },
  {
   "cell_type": "code",
   "execution_count": 3,
   "id": "afc126b6",
   "metadata": {},
   "outputs": [],
   "source": [
    "fromAddr = \"운영지원팀 <babujinwoo97@gmail.com>\"\n",
    "subjectTmpl = \"{name}님의 {yy}년 {mm}월 급여 명세서 입니당\""
   ]
  },
  {
   "cell_type": "code",
   "execution_count": 4,
   "id": "ec5817ab",
   "metadata": {},
   "outputs": [
    {
     "name": "stdout",
     "output_type": "stream",
     "text": [
      "안녕하세요 {name}님\n",
      "\n",
      "{yy}년도 {mm}월 급여명세서와 결산보고서 보내드립니다.\n",
      "\n",
      "귀하의 노고에 감사드립니다.\n",
      "\n",
      "- {yy}년 {mm}월 {dd}일 / 운영지원팀 드림\n"
     ]
    }
   ],
   "source": [
    "with open('mail/content.txt','r',encoding='utf-8') as f:\n",
    "    contentTmpl = f.read()\n",
    "    print(contentTmpl)"
   ]
  },
  {
   "cell_type": "code",
   "execution_count": 5,
   "id": "a8dcd7c7",
   "metadata": {},
   "outputs": [
    {
     "name": "stdout",
     "output_type": "stream",
     "text": [
      "document.pptx (이)가 첨부되었습니다.\n",
      "pay1.xlsx (이)가 첨부되었습니다.\n",
      "document.pptx (이)가 첨부되었습니다.\n",
      "pay2.xlsx (이)가 첨부되었습니다.\n",
      "document.pptx (이)가 첨부되었습니다.\n",
      "pay3.xlsx (이)가 첨부되었습니다.\n",
      "document.pptx (이)가 첨부되었습니다.\n",
      "pay4.xlsx (이)가 첨부되었습니다.\n",
      "document.pptx (이)가 첨부되었습니다.\n",
      "pay5.xlsx (이)가 첨부되었습니다.\n"
     ]
    }
   ],
   "source": [
    "with open(\"mail/mail_list.csv\",\"r\",encoding=\"euc-kr\") as f:\n",
    "    csv = f.readlines()\n",
    "\n",
    "    for line in csv:\n",
    "        name,email,file1,file2 = line.strip().split(\",\")\n",
    "        #print(name,email,file1,file2)\n",
    "\n",
    "        toAddr = \"{name} <{email}>\".format(name=name,email=email)\n",
    "        #print(toAddr)\n",
    "\n",
    "        subject = subjectTmpl.format(name=name,yy=year,mm=month)\n",
    "        #print(subject)\n",
    "\n",
    "        content = contentTmpl.format(name=name,yy=year,mm=month,dd=day)\n",
    "        #print(content)\n",
    "\n",
    "        MyMailer.sendMail(fromAddr, toAddr, subject, content, [file1, file2])"
   ]
  },
  {
   "cell_type": "code",
   "execution_count": 9,
   "id": "9f08f5a2",
   "metadata": {},
   "outputs": [
    {
     "name": "stdout",
     "output_type": "stream",
     "text": [
      "2025 10 27\n",
      "document.pptx (이)가 첨부되었습니다.\n",
      "document.pptx (이)가 첨부되었습니다.\n",
      "document.pptx (이)가 첨부되었습니다.\n",
      "document.pptx (이)가 첨부되었습니다.\n",
      "document.pptx (이)가 첨부되었습니다.\n",
      "pay4.xlsx (이)가 첨부되었습니다.\n",
      "pay3.xlsx (이)가 첨부되었습니다.\n",
      "pay5.xlsx (이)가 첨부되었습니다.\n",
      "pay1.xlsx (이)가 첨부되었습니다.\n",
      "pay2.xlsx (이)가 첨부되었습니다.\n",
      "작업에 소요된 시간은 총 5초 입니다.\n"
     ]
    }
   ],
   "source": [
    "today = dt.datetime.now()\n",
    "year = today.year\n",
    "month = today.month\n",
    "day = today.day\n",
    "print(year,month,day)\n",
    "\n",
    "fromAddr = \"운영지원팀 <babujinwoo97@gmail.com>\"\n",
    "subjectTmpl = \"{name}님의 {yy}년 {mm}월 급여 명세서 입니당\"\n",
    "\n",
    "startTime = dt.datetime.now()\n",
    "\n",
    "with open(\"mail/mail_list.csv\",\"r\",encoding=\"euc-kr\") as f:\n",
    "    csv = f.readlines()\n",
    "\n",
    "    with futures.ThreadPoolExecutor(max_workers=10)as executor:\n",
    "        for line in csv:\n",
    "            name,email,file1,file2 = line.strip().split(\",\")\n",
    "            toAddr = \"{name} <{email}>\".format(name=name,email=email)\n",
    "            subject = subjectTmpl.format(name=name,yy=year,mm=month)\n",
    "            content = contentTmpl.format(name=name,yy=year,mm=month,dd=day)\n",
    "\n",
    "            #MyMailer.sendMail(fromAddr, toAddr, subject, content, [file1, file2])\n",
    "            executor.submit(MyMailer.sendMail,fromAddr, toAddr, subject, content, [file1, file2])\n",
    "\n",
    "endTime = dt.datetime.now()\n",
    "workTime = endTime - startTime\n",
    "print(\"작업에 소요된 시간은 총 %s초 입니다.\"%workTime.seconds)"
   ]
  },
  {
   "cell_type": "code",
   "execution_count": 10,
   "id": "f7b29022",
   "metadata": {},
   "outputs": [],
   "source": [
    "def timework(name,seconds):\n",
    "    print(\"[%s] 작업을 %d초 동안 수행합니다.\"%(name,seconds))\n",
    "\n",
    "    for i in range(0,seconds):\n",
    "        time.sleep(1)\n",
    "        print(\"[%s] %d초...\"%(name,i+1))\n",
    "\n",
    "    print(\"[%s] 작업이 종료되었습니다.\"%name)"
   ]
  },
  {
   "cell_type": "code",
   "execution_count": 12,
   "id": "b0b967e2",
   "metadata": {},
   "outputs": [
    {
     "name": "stdout",
     "output_type": "stream",
     "text": [
      "[A] 작업을 3초 동안 수행합니다.\n",
      "[A] 1초...\n",
      "[A] 2초...\n",
      "[A] 3초...\n",
      "[A] 작업이 종료되었습니다.\n",
      "[B] 작업을 5초 동안 수행합니다.\n",
      "[B] 1초...\n",
      "[B] 2초...\n",
      "[B] 3초...\n",
      "[B] 4초...\n",
      "[B] 5초...\n",
      "[B] 작업이 종료되었습니다.\n",
      "[C] 작업을 2초 동안 수행합니다.\n",
      "[C] 1초...\n",
      "[C] 2초...\n",
      "[C] 작업이 종료되었습니다.\n",
      "작업에 소요된 시간은 총 10초 입니다\n"
     ]
    }
   ],
   "source": [
    "startTime = dt.datetime.now()\n",
    "\n",
    "timework(\"A\",3)\n",
    "timework(\"B\",5)\n",
    "timework(\"C\",2)\n",
    "\n",
    "endTime = dt.datetime.now()\n",
    "workTime = endTime - startTime\n",
    "print(\"작업에 소요된 시간은 총 %s초 입니다\"%workTime.seconds)"
   ]
  },
  {
   "cell_type": "code",
   "execution_count": 14,
   "id": "2af547b5",
   "metadata": {},
   "outputs": [
    {
     "name": "stdout",
     "output_type": "stream",
     "text": [
      "[A] 작업을 3초 동안 수행합니다.\n",
      "[B] 작업을 5초 동안 수행합니다.\n",
      "[C] 작업을 2초 동안 수행합니다.\n",
      "[C] 1초...[A] 1초...\n",
      "[B] 1초...\n",
      "\n",
      "[A] 2초...[B] 2초...\n",
      "[C] 2초...\n",
      "[C] 작업이 종료되었습니다.\n",
      "\n",
      "[B] 3초...[A] 3초...\n",
      "[A] 작업이 종료되었습니다.\n",
      "\n",
      "[B] 4초...\n",
      "[B] 5초...\n",
      "[B] 작업이 종료되었습니다.\n",
      "작업에 소요된 시간은 총 5초 입니다.\n"
     ]
    }
   ],
   "source": [
    "startTime = dt.datetime.now()\n",
    "with futures.ThreadPoolExecutor(max_workers=3) as executor:\n",
    "    executor.submit(timework, \"A\", 3)\n",
    "    executor.submit(timework, \"B\", 5)\n",
    "    executor.submit(timework, \"C\", 2)\n",
    "    \n",
    "endTime = dt.datetime.now()\n",
    "workTime = endTime - startTime\n",
    "print(\"작업에 소요된 시간은 총 %s초 입니다.\" % workTime.seconds)"
   ]
  },
  {
   "cell_type": "code",
   "execution_count": 15,
   "id": "06e8ae82",
   "metadata": {},
   "outputs": [],
   "source": [
    "import random\n",
    "\n",
    "def randomWork(name):\n",
    "    randomSecond = random.randrange(1,9)\n",
    "\n",
    "    print(\"[%s] 작업을 %d초 동안 수행합니다\"%(name,randomSecond))\n",
    "\n",
    "    for i in range(0,randomSecond):\n",
    "        time.sleep(1)\n",
    "        print(\"[%s] %d초...\"%(name, i+1))\n",
    "\n",
    "    print(\"[%s] 작업이 종료되었습니다\"%name)\n",
    "\n",
    "    return randomSecond"
   ]
  },
  {
   "cell_type": "code",
   "execution_count": 20,
   "id": "1f697eb1",
   "metadata": {},
   "outputs": [
    {
     "name": "stdout",
     "output_type": "stream",
     "text": [
      "[Lee] 작업을 6초 동안 수행합니다\n",
      "[Kim] 작업을 3초 동안 수행합니다\n",
      "[Hong] 작업을 8초 동안 수행합니다\n",
      "[Lee] 1초...[Kim] 1초...\n",
      "\n",
      "[Hong] 1초...\n",
      "[Kim] 2초...\n",
      "[Lee] 2초...\n",
      "[Hong] 2초...\n",
      "[Lee] 3초...[Kim] 3초...\n",
      "[Kim] 작업이 종료되었습니다\n",
      "[Park] 작업을 8초 동안 수행합니다\n",
      "\n",
      "[Hong] 3초...\n",
      "[Park] 1초...[Lee] 4초...\n",
      "\n",
      "[Hong] 4초...\n",
      "[Lee] 5초...\n",
      "[Park] 2초...\n",
      "[Hong] 5초...\n",
      "[Park] 3초...\n",
      "[Lee] 6초...\n",
      "[Lee] 작업이 종료되었습니다\n",
      "[Nam] 작업을 8초 동안 수행합니다\n",
      "[Hong] 6초...\n",
      "[Park] 4초...[Nam] 1초...\n",
      "\n",
      "[Hong] 7초...\n",
      "[Park] 5초...\n",
      "[Nam] 2초...\n",
      "[Hong] 8초...\n",
      "[Hong] 작업이 종료되었습니다\n",
      "[Park] 6초...[Nam] 3초...\n",
      "\n",
      "[Park] 7초...[Nam] 4초...\n",
      "\n",
      "[Nam] 5초...[Park] 8초...\n",
      "[Park] 작업이 종료되었습니다\n",
      "\n",
      "[Nam] 6초...\n",
      "[Nam] 7초...\n",
      "[Nam] 8초...\n",
      "[Nam] 작업이 종료되었습니다\n",
      "비동기 처리가 총 33초의 작업을 수행하였습니다.\n",
      "작업에 소요된 시간은 총 14초 입니다\n"
     ]
    }
   ],
   "source": [
    "startTime = dt.datetime.now()\n",
    "\n",
    "names = ['Lee','Kim','Hong','Park','Nam'] # 작업을 수행할 리스트\n",
    "processes=[] # 비동기 프로세스를 저장할 리스트\n",
    "resultSet= [] # 비동기 작업의 결과를 저장할 빈 리스트\n",
    "\n",
    "with futures.ThreadPoolExecutor(max_workers=3) as executor:\n",
    "    for n in names:\n",
    "        pro = executor.submit(randomWork, n)\n",
    "        processes.append(pro)\n",
    "    \n",
    "    for p in processes:\n",
    "        result = p.result()\n",
    "        resultSet.append(result)\n",
    "\n",
    "print(\"비동기 처리가 총 %d초의 작업을 수행하였습니다.\"%sum(resultSet))\n",
    "\n",
    "endTime = dt.datetime.now()\n",
    "workTime = endTime - startTime\n",
    "print(\"작업에 소요된 시간은 총 %s초 입니다\" %workTime.seconds)"
   ]
  },
  {
   "cell_type": "code",
   "execution_count": null,
   "id": "30bf33a6",
   "metadata": {},
   "outputs": [],
   "source": []
  }
 ],
 "metadata": {
  "kernelspec": {
   "display_name": "Python 3",
   "language": "python",
   "name": "python3"
  },
  "language_info": {
   "codemirror_mode": {
    "name": "ipython",
    "version": 3
   },
   "file_extension": ".py",
   "mimetype": "text/x-python",
   "name": "python",
   "nbconvert_exporter": "python",
   "pygments_lexer": "ipython3",
   "version": "3.13.9"
  }
 },
 "nbformat": 4,
 "nbformat_minor": 5
}
