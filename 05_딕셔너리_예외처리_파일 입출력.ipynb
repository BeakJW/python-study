{
 "cells": [
  {
   "cell_type": "markdown",
   "id": "84d097e8",
   "metadata": {},
   "source": [
    "### LAB05 ‒ 딕셔너리 / 예외처리 / 파일 입출력"
   ]
  },
  {
   "cell_type": "code",
   "execution_count": null,
   "id": "de126c58",
   "metadata": {},
   "outputs": [],
   "source": [
    "mydic = { \"name\": \"철수\", \"phone\": \"010-1234-5678\", \"birth\": \"0115\" }"
   ]
  },
  {
   "cell_type": "code",
   "execution_count": null,
   "id": "c04df1ee",
   "metadata": {},
   "outputs": [],
   "source": [
    "print(mydic)"
   ]
  },
  {
   "cell_type": "code",
   "execution_count": null,
   "id": "9ae76965",
   "metadata": {},
   "outputs": [],
   "source": [
    "phone = mydic[\"phone\"]\n",
    "print(phone)"
   ]
  },
  {
   "cell_type": "code",
   "execution_count": null,
   "id": "9c0ad2b9",
   "metadata": {},
   "outputs": [],
   "source": [
    "mydic[\"name\"] = \"호영\" # 특정 원소의 값을 변경\n",
    "print(mydic)"
   ]
  },
  {
   "cell_type": "code",
   "execution_count": null,
   "id": "a85ea3e9",
   "metadata": {},
   "outputs": [],
   "source": [
    "foo = {\"a\":100, \"b\":200}\n",
    "foo[\"c\"] = 300\n",
    "print(foo)"
   ]
  },
  {
   "cell_type": "code",
   "execution_count": null,
   "id": "cd9dc283",
   "metadata": {},
   "outputs": [],
   "source": [
    "grade = [\n",
    "{\"name\": \"철수\", \"kor\": 95, \"eng\": 88},\n",
    "{\"name\": \"영희\", \"kor\": 92, \"eng\": 90},\n",
    "{\"name\": \"철민\", \"kor\": 88, \"eng\": 76}\n",
    "]\n",
    "\n",
    "print(\"0번째 원소: %s\" % grade[0])\n",
    "print(\"1번째 원소: %s\" % grade[1])\n",
    "print(\"2번째 원소: %s\" % grade[2])"
   ]
  },
  {
   "cell_type": "code",
   "execution_count": null,
   "id": "7b4afb00",
   "metadata": {},
   "outputs": [],
   "source": [
    "tpl = \"{0}의 국어점수:{1}, 영어점수: {2}\"\n",
    "print( tpl.format(grade[0][\"name\"], grade[0][\"kor\"], grade[0][\"eng\"]) )\n",
    "print( tpl.format(grade[1][\"name\"], grade[1][\"kor\"], grade[1][\"eng\"]) )\n",
    "print( tpl.format(grade[2][\"name\"], grade[2][\"kor\"], grade[2][\"eng\"]) )"
   ]
  },
  {
   "cell_type": "code",
   "execution_count": null,
   "id": "25e92168",
   "metadata": {},
   "outputs": [],
   "source": [
    "student = {\n",
    "\"name\": ['철수', '민수', '호영'],\n",
    "\"age\": [16, 17, 19],\n",
    "\"height\": [172.4, 168.2, 170.5]\n",
    "}\n",
    "tpl = \"[%s] 나이: %d세, 키: %0.1fcm\"\n",
    "print(tpl % (student['name'][0], student['age'][0], student['height'][0]))\n",
    "print(tpl % (student['name'][1], student['age'][1], student['height'][1]))\n",
    "print(tpl % (student['name'][2], student['age'][2], student['height'][2]))"
   ]
  },
  {
   "cell_type": "code",
   "execution_count": null,
   "id": "08523794",
   "metadata": {},
   "outputs": [],
   "source": [
    "phone = {\n",
    "            \"apple\": {\n",
    "            \"name\": \"iPhone\",\n",
    "            \"price\": \"200$\"\n",
    "        },\n",
    "            \"samsung\": {\n",
    "            \"name\": \"Galluxy\",\n",
    "            \"price\": \"200만원\"\n",
    "        }       \n",
    "        }\n",
    "        \n",
    "tpl = \"%s의 가격은 %s입니다.\"\n",
    "\n",
    "print(tpl % (phone['apple']['name'], phone['apple']['price']))\n",
    "print(tpl % (phone['samsung']['name'], phone['samsung']['price']))"
   ]
  },
  {
   "cell_type": "code",
   "execution_count": null,
   "id": "ac28012e",
   "metadata": {},
   "outputs": [],
   "source": [
    "review = {\n",
    "    \"items\":[\n",
    "        {\"email\":\"user1@python.com\", \"comment\": \"good\"},\n",
    "        {\"email\":\"user2@python.com\", \"comment\": \"모여\"},\n",
    "        {\"email\":\"user3@python.com\", \"comment\": \"별로\"}\n",
    "    ]\n",
    "}\n",
    "\n",
    "tpl = \"email:{0},comment: {1}\"\n",
    "for item in review[\"items\"]:\n",
    "    print(tpl.format(item[\"email\"],item[\"comment\"]))"
   ]
  },
  {
   "cell_type": "code",
   "execution_count": null,
   "id": "f27e8795",
   "metadata": {},
   "outputs": [],
   "source": [
    "lectures ={\n",
    "    \"title\":\"파이썬 프로그래밍\",\n",
    "    \"subject\":[\n",
    "        {\"no\":1,\"date\":\"1일차\",\"title\":\"프로그래밍 언어의 이해\"},\n",
    "        {\"no\":2,\"date\":\"2일차\",\"title\":\"변수와 연산자\"},\n",
    "        {\"no\":3,\"date\":\"3일차\",\"title\":\"함수의 이해\"},\n",
    "        {\"no\":4,\"date\":\"4일차\",\"title\":\"조건문\"},\n",
    "    ]\n",
    "}\n",
    "\n",
    "print(lectures.get(\"subject\"))"
   ]
  },
  {
   "cell_type": "code",
   "execution_count": null,
   "id": "b8f49738",
   "metadata": {},
   "outputs": [],
   "source": [
    "print([lectures])"
   ]
  },
  {
   "cell_type": "code",
   "execution_count": null,
   "id": "46ddabf7",
   "metadata": {},
   "outputs": [],
   "source": [
    "print(lectures[\"title\"])"
   ]
  },
  {
   "cell_type": "code",
   "execution_count": null,
   "id": "73d61744",
   "metadata": {},
   "outputs": [],
   "source": [
    "tpl= \"No.{0} - {1} : {2}\"\n",
    "for subject in lectures[\"subject\"]:\n",
    "    print(tpl.format(subject[\"no\"],subject[\"date\"],subject[\"title\"]))"
   ]
  },
  {
   "cell_type": "markdown",
   "id": "019642e6",
   "metadata": {},
   "source": [
    "## 2. 딕셔너리의 활용"
   ]
  },
  {
   "cell_type": "code",
   "execution_count": null,
   "id": "0e556f4b",
   "metadata": {},
   "outputs": [],
   "source": [
    "point = {\"korean\":98,\"math\":77,\"english\":82}\n",
    "print(point)"
   ]
  },
  {
   "cell_type": "code",
   "execution_count": null,
   "id": "3a8f0942",
   "metadata": {},
   "outputs": [],
   "source": [
    "del(point[\"english\"])\n",
    "print(point)"
   ]
  },
  {
   "cell_type": "code",
   "execution_count": null,
   "id": "68be7f5c",
   "metadata": {},
   "outputs": [],
   "source": [
    "dic = { \"name\": \"철수\", \"phone\": \"010-1234-5678\", \"birth\": \"0115\" }\n",
    "\n",
    "print(dic.get(\"name\"))"
   ]
  },
  {
   "cell_type": "code",
   "execution_count": null,
   "id": "5828a390",
   "metadata": {},
   "outputs": [],
   "source": [
    "print(foo.get(\"c\",300))"
   ]
  },
  {
   "cell_type": "code",
   "execution_count": null,
   "id": "bf010100",
   "metadata": {},
   "outputs": [],
   "source": [
    "성적표 = {\"국어\": 92, \"수학\": 88, \"영어\": 72}\n",
    "\n",
    "keys = 성적표.keys()\n",
    "print(keys)"
   ]
  },
  {
   "cell_type": "code",
   "execution_count": null,
   "id": "dee15484",
   "metadata": {},
   "outputs": [],
   "source": [
    "keys_list = list(keys)\n",
    "print(keys_list)"
   ]
  },
  {
   "cell_type": "code",
   "execution_count": null,
   "id": "da008b60",
   "metadata": {},
   "outputs": [],
   "source": [
    "keyList = list(성적표.keys())\n",
    "keyList"
   ]
  },
  {
   "cell_type": "code",
   "execution_count": null,
   "id": "582585c5",
   "metadata": {},
   "outputs": [],
   "source": [
    "성적표 = {\"국어\": 92, \"수학\": 88, \"영어\": 72}\n",
    "\n",
    "values  = 성적표.values()\n",
    "print(values)"
   ]
  },
  {
   "cell_type": "code",
   "execution_count": null,
   "id": "c1ee95cb",
   "metadata": {},
   "outputs": [],
   "source": [
    "values_list = list(values)\n",
    "print(values_list)"
   ]
  },
  {
   "cell_type": "code",
   "execution_count": null,
   "id": "3c7e0015",
   "metadata": {},
   "outputs": [],
   "source": [
    "valueList = list(성적표.values())\n",
    "valueList"
   ]
  },
  {
   "cell_type": "code",
   "execution_count": null,
   "id": "8399463e",
   "metadata": {},
   "outputs": [],
   "source": [
    "성적표1 = {\"국어\": 92, \"수학\": 88, \"영어\": 72}\n",
    "성적표2 = {\"물리\": 78, \"화학\": 82}\n",
    "\n",
    "성적표1.update(성적표2)\n",
    "print(성적표1)"
   ]
  },
  {
   "cell_type": "code",
   "execution_count": null,
   "id": "35d092d2",
   "metadata": {},
   "outputs": [],
   "source": [
    "성적표최종 = 성적표1.copy\n",
    "print(성적표최종)"
   ]
  },
  {
   "cell_type": "code",
   "execution_count": null,
   "id": "6472432e",
   "metadata": {},
   "outputs": [],
   "source": [
    "성적표최종 = 성적표1.copy()\n",
    "print(성적표최종)"
   ]
  },
  {
   "cell_type": "code",
   "execution_count": null,
   "id": "34f04fa0",
   "metadata": {},
   "outputs": [],
   "source": [
    "bar = {\"a\":100,\"b\":200}\n",
    "print(bar)\n",
    "\n",
    "bar.clear()\n",
    "print(bar)"
   ]
  },
  {
   "cell_type": "markdown",
   "id": "51c584a5",
   "metadata": {},
   "source": [
    "## 3. 예외처리"
   ]
  },
  {
   "cell_type": "code",
   "execution_count": null,
   "id": "0cdee848",
   "metadata": {},
   "outputs": [],
   "source": [
    "x=int(input(\"숫자를 입력하세요\"))\n",
    "y = 100/x\n",
    "print(\"결과는 %d입니다.\" %y)"
   ]
  },
  {
   "cell_type": "code",
   "execution_count": null,
   "id": "08e326ea",
   "metadata": {},
   "outputs": [],
   "source": [
    "mylist = [82,13,41,31,32]\n",
    "mysum = 0\n",
    "\n",
    "x = int(input(\"인원 수를 입력하세여\"))\n",
    "\n",
    "for i in range(x):\n",
    "    mysum +=mylist[i]\n",
    "print(\"합계는 %d입니다\" %mysum)"
   ]
  },
  {
   "cell_type": "code",
   "execution_count": null,
   "id": "4034db36",
   "metadata": {},
   "outputs": [],
   "source": [
    "x = int(input(\"숫자를 입력하세요.\")) # 입력창에 숫자 0을 입력\n",
    "# 입력값이 0인 경우에 대비해야 함\n",
    "if x == 0:\n",
    "    print(\"0으로 나눌 수 없습니다.\")\n",
    "else:\n",
    "    y = 100 / x\n",
    "    print(\"결과는 %d입니다.\" % y)"
   ]
  },
  {
   "cell_type": "code",
   "execution_count": null,
   "id": "5ffa8fd9",
   "metadata": {},
   "outputs": [],
   "source": [
    "try:\n",
    "    x = int(input(\"숫자를 입력하세요.\"))\n",
    "    y = 100 / x\n",
    "    print(\"결과는 %d입니다.\" % y)\n",
    "except:\n",
    "    print(\"에러가 발생했습니다.\")"
   ]
  },
  {
   "cell_type": "code",
   "execution_count": null,
   "id": "51a28c5f",
   "metadata": {},
   "outputs": [],
   "source": [
    "try:\n",
    "    x = int(input(\"숫자를 입력하세요.\"))\n",
    "    y = 100 / x\n",
    "    print(\"결과는 %d입니다.\" % y)\n",
    "except ValueError:\n",
    "    print(\"숫자만 입력하세요.\")\n",
    "except ZeroDivisionError:\n",
    "    print(\"0으로 나눌 수 없습니다.\")\n",
    "except Exception:\n",
    "    print(\"알 수 없는 에러가 발생했습니다.\")"
   ]
  },
  {
   "cell_type": "code",
   "execution_count": null,
   "id": "01d815af",
   "metadata": {},
   "outputs": [],
   "source": [
    "try:\n",
    "    x = int(input(\"숫자를 입력하세요.\"))\n",
    "    y = 100 / x\n",
    "    print(\"결과는 %d입니다.\" % y)\n",
    "except ValueError as verr:\n",
    "    print(\"숫자만 입력하세요.\", verr)\n",
    "except ZeroDivisionError as zerr:\n",
    "    print(\"0으로 나눌 수 없습니다.\", zerr)\n",
    "except Exception as err:\n",
    "    print(\"알 수 없는 에러가 발생했습니다.\", err)"
   ]
  },
  {
   "cell_type": "code",
   "execution_count": null,
   "id": "3df43d69",
   "metadata": {},
   "outputs": [],
   "source": [
    "try:\n",
    "    x = int(input(\"숫자를 입력하세요.\"))\n",
    "    y = 100 / x\n",
    "    print(\"결과는 %d입니다.\" % y)\n",
    "except ValueError as verr:\n",
    "    print(\"숫자만 입력하세요.\", verr)\n",
    "except ZeroDivisionError as zerr:\n",
    "    print(\"0으로 나눌 수 없습니다.\", zerr)\n",
    "except Exception as err:\n",
    "    print(\"알 수 없는 에러가 발생했습니다.\", err)\n",
    "finally:\n",
    "    print(\"처리가 완료되었습니다.\")"
   ]
  },
  {
   "cell_type": "code",
   "execution_count": null,
   "id": "a9ee9e38",
   "metadata": {},
   "outputs": [],
   "source": [
    "try:\n",
    "    x = int(input(\"숫자를 입력하세요.\"))\n",
    "    y = 100 / x\n",
    "    print(\"결과는 %d입니다.\" % y)\n",
    "except Exception as e:\n",
    "    print(\"에러가 발생했습니다.\", e)\n",
    "finally:\n",
    "    print(\"처리가 완료되었습니다.\")"
   ]
  },
  {
   "cell_type": "code",
   "execution_count": null,
   "id": "e59bee6c",
   "metadata": {},
   "outputs": [],
   "source": [
    "mylist = [12,31,51,23,57]\n",
    "mysum = 0\n",
    "\n",
    "try:\n",
    "    x= int(input(\"인원을 입력하시오\"))\n",
    "\n",
    "    for i in range(x):\n",
    "        mysum +=mylist[i]\n",
    "    print(\"합계는 %d입니다\" %mysum)\n",
    "except Exception as e:\n",
    "    print(\"에러가 발생했습니다\")\n",
    "finally:\n",
    "    print(\"처리가 완료되었습니다\")"
   ]
  },
  {
   "cell_type": "markdown",
   "id": "8bbcb27f",
   "metadata": {},
   "source": [
    "## 4.파일 입출력"
   ]
  },
  {
   "cell_type": "code",
   "execution_count": 1,
   "id": "c37f6835",
   "metadata": {},
   "outputs": [],
   "source": [
    "f = open(\"Helloworld.txt\",\"w\",encoding='utf-8')\n",
    "\n",
    "f.write(\"Hello Python!!!!!!\\n\")\n",
    "f.write(\"안녕하세요 파이썬!!\\n\")\n",
    "\n",
    "f.close()"
   ]
  },
  {
   "cell_type": "code",
   "execution_count": 4,
   "id": "d429716a",
   "metadata": {},
   "outputs": [
    {
     "name": "stdout",
     "output_type": "stream",
     "text": [
      "Hello Python!!!!!!\n",
      "안녕하세요 파이썬!!\n",
      "\n"
     ]
    }
   ],
   "source": [
    "f = open(\"Helloworld.txt\",\"r\",encoding='utf-8')\n",
    "\n",
    "data = f.read()\n",
    "print(data)\n",
    "\n",
    "f.close()"
   ]
  },
  {
   "cell_type": "code",
   "execution_count": 11,
   "id": "6821d314",
   "metadata": {},
   "outputs": [
    {
     "name": "stdout",
     "output_type": "stream",
     "text": [
      "파일이 저장되었습니다.\n"
     ]
    }
   ],
   "source": [
    "with open(\"Helloworld.txt\",\"w\",encoding='utf-8') as f:\n",
    "    for i in range(0,10):\n",
    "        f.write(\"%d >>\" %i)\n",
    "        f.write(\"Life is too short,\" )\n",
    "        f.write(\"you need phthon\\n\")\n",
    "\n",
    "    print(\"파일이 저장되었습니다.\")"
   ]
  },
  {
   "cell_type": "code",
   "execution_count": 12,
   "id": "2d8bb5a9",
   "metadata": {},
   "outputs": [
    {
     "name": "stdout",
     "output_type": "stream",
     "text": [
      "0 >>Life is too short,you need phthon\n",
      "1 >>Life is too short,you need phthon\n",
      "2 >>Life is too short,you need phthon\n",
      "3 >>Life is too short,you need phthon\n",
      "4 >>Life is too short,you need phthon\n",
      "5 >>Life is too short,you need phthon\n",
      "6 >>Life is too short,you need phthon\n",
      "7 >>Life is too short,you need phthon\n",
      "8 >>Life is too short,you need phthon\n",
      "9 >>Life is too short,you need phthon\n",
      "\n"
     ]
    }
   ],
   "source": [
    "with open(\"Helloworld.txt\",\"r\",encoding='utf-8') as f:\n",
    "    data = f.read()\n",
    "    print(data)"
   ]
  },
  {
   "cell_type": "code",
   "execution_count": 14,
   "id": "3ecde951",
   "metadata": {},
   "outputs": [
    {
     "name": "stdout",
     "output_type": "stream",
     "text": [
      "['0 >>Life is too short,you need phthon\\n', '1 >>Life is too short,you need phthon\\n', '2 >>Life is too short,you need phthon\\n', '3 >>Life is too short,you need phthon\\n', '4 >>Life is too short,you need phthon\\n', '5 >>Life is too short,you need phthon\\n', '6 >>Life is too short,you need phthon\\n', '7 >>Life is too short,you need phthon\\n', '8 >>Life is too short,you need phthon\\n', '9 >>Life is too short,you need phthon\\n']\n",
      "------------------------------\n",
      "읽어들인 데이터는 총 10줄 입니다.\n",
      "0 >>Life is too short,you need phthon\n",
      "1 >>Life is too short,you need phthon\n",
      "2 >>Life is too short,you need phthon\n",
      "3 >>Life is too short,you need phthon\n",
      "4 >>Life is too short,you need phthon\n",
      "5 >>Life is too short,you need phthon\n",
      "6 >>Life is too short,you need phthon\n",
      "7 >>Life is too short,you need phthon\n",
      "8 >>Life is too short,you need phthon\n",
      "9 >>Life is too short,you need phthon\n"
     ]
    }
   ],
   "source": [
    "with open(\"Helloworld.txt\",\"r\",encoding='utf-8') as f:\n",
    "    lines = f.readlines()\n",
    "    print(lines)\n",
    "    print(\"-\"*30)\n",
    "\n",
    "    size = len(lines)\n",
    "    print(\"읽어들인 데이터는 총 %d줄 입니다.\"%size)\n",
    "\n",
    "    for item in lines:\n",
    "        print(item.strip())"
   ]
  },
  {
   "cell_type": "markdown",
   "id": "baacc8cc",
   "metadata": {},
   "source": [
    "## 5.CSV파일 다루기 (1)"
   ]
  },
  {
   "cell_type": "code",
   "execution_count": 15,
   "id": "0b15e164",
   "metadata": {},
   "outputs": [],
   "source": [
    "grade = [\n",
    "    {\"name\":\"철수\",\"kor\":95,\"eng\":88,\"math\":72},\n",
    "    {\"name\":\"영희\",\"kor\":45,\"eng\":18,\"math\":52},\n",
    "    {\"name\":\"철민\",\"kor\":35,\"eng\":58,\"math\":82}\n",
    "]\n",
    "\n",
    "tpl = \"{0},{1},{2},{3}\\n\"\n",
    "\n",
    "with open(\"grade.csv\",\"w\",encoding='utf-8') as f:\n",
    "    f.write(\"이름,국어,영어,수학\\n\")\n",
    "\n",
    "    for item in grade:\n",
    "        tmp = tpl.format(item[\"name\"],item[\"kor\"],item[\"eng\"],item[\"math\"])\n",
    "        f.write( tmp )"
   ]
  },
  {
   "cell_type": "code",
   "execution_count": 16,
   "id": "7b3ee0bb",
   "metadata": {},
   "outputs": [],
   "source": [
    "grade_dic = {\n",
    "'이름': ['철수', '영희', '민철', '수현', '호영'],\n",
    "'국어': [98, 88, 92, 63, 120],\n",
    "'영어': [76, 90, 70, 60, 50],\n",
    "'수학': [88, 62, 88, 31, 76],\n",
    "'과학': [64, 72, 45, 70, 88]\n",
    "}\n",
    "\n",
    "tpl = \"{0},{1},{2},{3},{4}\\n\"\n",
    "keys = list(grade_dic.keys())\n",
    "p= \",\"\n",
    "title = p.join(keys)\n",
    "\n",
    "with open(\"grade_dic.csv\",\"w\",encoding='euc-kr') as f:\n",
    "    f.write(title + \"\\n\")\n",
    "\n",
    "    for i in range(0, len(grade_dic['이름'])):\n",
    "        tmp = tpl.format(grade_dic['이름'][i], grade_dic['국어'][i],\n",
    "                        grade_dic['영어'][i], grade_dic['수학'][i],\n",
    "                        grade_dic['과학'][i])\n",
    "        f.write( tmp )"
   ]
  },
  {
   "cell_type": "code",
   "execution_count": 22,
   "id": "a5c38e60",
   "metadata": {},
   "outputs": [
    {
     "name": "stdout",
     "output_type": "stream",
     "text": [
      "['이름,국어,영어,수학\\n', '철수,95,88,72\\n', '영희,45,18,52\\n', '철민,35,58,82\\n']\n"
     ]
    },
    {
     "data": {
      "text/plain": [
       "[{'name': '철수', 'kor': 95, 'eng': 88, 'math': 72},\n",
       " {'name': '영희', 'kor': 45, 'eng': 18, 'math': 52},\n",
       " {'name': '철민', 'kor': 35, 'eng': 58, 'math': 82}]"
      ]
     },
     "execution_count": 22,
     "metadata": {},
     "output_type": "execute_result"
    }
   ],
   "source": [
    "csv_list = None\n",
    "\n",
    "with open(\"grade.csv\",\"r\",encoding='utf-8') as f:\n",
    "    csv_list = f.readlines()\n",
    "print(csv_list)\n",
    "\n",
    "\n",
    "\n",
    "data = []\n",
    "\n",
    "for i, line in enumerate(csv_list):\n",
    "    if i ==0:\n",
    "        continue\n",
    "    k = line.strip().split(\",\")\n",
    "\n",
    "    item = {\"name\": k[0], \"kor\": int(k[1]), \"eng\": int(k[2]),\"math\": int(k[3])}\n",
    "\n",
    "    data.append(item)\n",
    "\n",
    "data"
   ]
  },
  {
   "cell_type": "code",
   "execution_count": 28,
   "id": "dc5b4818",
   "metadata": {},
   "outputs": [
    {
     "name": "stdout",
     "output_type": "stream",
     "text": [
      "날짜,서울시 일일 확진,서울시 일일 사망,전국 일일 확진,전국 일일 사망\n",
      "2023-05-31,5987,6,24411,17\n",
      "2023-05-30,3326,1,13529,7\n",
      "2023-05-29,1393,1,6868,3\n",
      "2023-05-28,1393,1,6868,3\n",
      "--------------------------------------------------\n",
      "작업이 완료되었습니다.\n"
     ]
    }
   ],
   "source": [
    "try:\n",
    "    with open(\"covid19.csv\",\"r\",encoding='euc-kr') as f:\n",
    "\n",
    "        csv_list = f.readlines()\n",
    "\n",
    "        for i in range(5):\n",
    "            print(csv_list[i].strip())\n",
    "except Exception as e:\n",
    "    print(\"CSV 파일처리에 실패하였습니다.\".e)\n",
    "finally:\n",
    "    print(\"-\"*50)\n",
    "    print(\"작업이 완료되었습니다.\")"
   ]
  },
  {
   "cell_type": "code",
   "execution_count": null,
   "id": "95a348e8",
   "metadata": {},
   "outputs": [
    {
     "name": "stdout",
     "output_type": "stream",
     "text": [
      "서울 일 평균 확진자 수 : 5119.41명\n",
      "서울 일 평균 사망자 수 : 3.40명\n",
      "전국 일 평균 확진자 수 : 26141.33명\n",
      "전국 일 평균 사망자 수 : 19.72명\n",
      "--------------------------------------------------\n",
      "작업이 완료되었습니다.\n"
     ]
    }
   ],
   "source": [
    "try:\n",
    "    with open(\"covid19.csv\",\"r\",encoding='euc-kr') as f:\n",
    "\n",
    "        csv_list = f.readlines()\n",
    "\n",
    "        #for i in range(5):\n",
    "        #   print(csv_list[i].strip())\n",
    "        size = len(csv_list)-1\n",
    "\n",
    "        seoul_confirm_sum = 0\n",
    "        seoul_death_sum = 0\n",
    "        nation_confirm_sum = 0\n",
    "        nation_death_sum = 0\n",
    "\n",
    "        for i, line in enumerate(csv_list):\n",
    "            if i==0:\n",
    "                continue\n",
    "            k=line.strip().split(\",\")\n",
    "\n",
    "            if k[1].isnumeric():    seoul_confirm_sum += int(k[1])\n",
    "            if k[2].isnumeric():    seoul_death_sum += int(k[2])\n",
    "\n",
    "            if k[3].isnumeric():    nation_confirm_sum += int(k[3])\n",
    "            if k[4].isnumeric():    nation_death_sum += int(k[4])\n",
    "\n",
    "        print(\"서울 일 평균 확진자 수 : %.2f명\" % (seoul_confirm_sum / size))\n",
    "        print(\"서울 일 평균 사망자 수 : %.2f명\" % (seoul_death_sum / size))\n",
    "        print(\"전국 일 평균 확진자 수 : %.2f명\" % (nation_confirm_sum / size))\n",
    "        print(\"전국 일 평균 사망자 수 : %.2f명\" % (nation_death_sum / size))\n",
    "except Exception as e:\n",
    "    print(\"CSV 파일처리에 실패하였습니다.\",e)\n",
    "finally:\n",
    "    print(\"-\"*50)\n",
    "    print(\"작업이 완료되었습니다.\")"
   ]
  },
  {
   "cell_type": "code",
   "execution_count": null,
   "id": "6cc66073",
   "metadata": {},
   "outputs": [],
   "source": []
  }
 ],
 "metadata": {
  "kernelspec": {
   "display_name": "Python 3",
   "language": "python",
   "name": "python3"
  },
  "language_info": {
   "codemirror_mode": {
    "name": "ipython",
    "version": 3
   },
   "file_extension": ".py",
   "mimetype": "text/x-python",
   "name": "python",
   "nbconvert_exporter": "python",
   "pygments_lexer": "ipython3",
   "version": "3.13.9"
  }
 },
 "nbformat": 4,
 "nbformat_minor": 5
}
