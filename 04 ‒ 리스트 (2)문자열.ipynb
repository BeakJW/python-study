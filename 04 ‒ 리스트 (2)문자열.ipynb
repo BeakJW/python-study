{
 "cells": [
  {
   "cell_type": "markdown",
   "id": "9ee3e649",
   "metadata": {},
   "source": [
    "### LAB04 ‒ 리스트 (2) / 문자열"
   ]
  },
  {
   "cell_type": "code",
   "execution_count": 1,
   "id": "05bac4d9",
   "metadata": {},
   "outputs": [
    {
     "name": "stdout",
     "output_type": "stream",
     "text": [
      "0 번째 원소: 봄\n",
      "1 번째 원소: 여름\n",
      "2 번째 원소: 가을\n",
      "3 번째 원소: 겨울\n"
     ]
    }
   ],
   "source": [
    "seasons = ['봄','여름','가을','겨울']\n",
    "\n",
    "size=len(seasons)\n",
    "for i in range(0,size):\n",
    "    print(i,\"번째 원소:\",seasons[i])"
   ]
  },
  {
   "cell_type": "code",
   "execution_count": 2,
   "id": "fc591d1a",
   "metadata": {},
   "outputs": [
    {
     "name": "stdout",
     "output_type": "stream",
     "text": [
      "python\n",
      "is\n",
      "good\n"
     ]
    }
   ],
   "source": [
    "msg = ['python','is','good']\n",
    "\n",
    "for i in msg:\n",
    "    print(i)"
   ]
  },
  {
   "cell_type": "code",
   "execution_count": 3,
   "id": "ca28427b",
   "metadata": {},
   "outputs": [
    {
     "name": "stdout",
     "output_type": "stream",
     "text": [
      "총점: 235 평균: 47\n"
     ]
    }
   ],
   "source": [
    "score = [100,23,15,65,32]\n",
    "\n",
    "\n",
    "total = 0\n",
    "\n",
    "for v in score:\n",
    "    total += v\n",
    "\n",
    "avg = total//len(score)\n",
    "\n",
    "print(\"총점:\",total,\"평균:\",avg)"
   ]
  },
  {
   "cell_type": "code",
   "execution_count": 7,
   "id": "67b999ac",
   "metadata": {},
   "outputs": [
    {
     "name": "stdout",
     "output_type": "stream",
     "text": [
      "0 번쨰의 값: 서울\n",
      "1 번쨰의 값: 인천\n",
      "2 번쨰의 값: 대구\n",
      "3 번쨰의 값: 부산\n",
      "4 번쨰의 값: 광명\n"
     ]
    }
   ],
   "source": [
    "city = [\"서울\",\"인천\",\"대구\",\"부산\",\"광명\"]\n",
    "\n",
    "for i, v in enumerate(city):\n",
    "    print (i,\"번쨰의 값:\",v)"
   ]
  },
  {
   "cell_type": "code",
   "execution_count": 11,
   "id": "fc80b98c",
   "metadata": {},
   "outputs": [
    {
     "name": "stdout",
     "output_type": "stream",
     "text": [
      "size: 2\n",
      "0 번째 데이터-> [88, 12, 54, 15]\n",
      "1 번째 데이터-> [63, 76, 32, 90]\n"
     ]
    }
   ],
   "source": [
    "mydata = [[88,12,54,15],[63,76,32,90]]\n",
    "\n",
    "size = len(mydata)\n",
    "print(\"size:\", size)\n",
    "\n",
    "for i in range(0,size):\n",
    "    print(i,\"번째 데이터->\",mydata[i])"
   ]
  },
  {
   "cell_type": "code",
   "execution_count": 13,
   "id": "fa6aeb52",
   "metadata": {},
   "outputs": [
    {
     "name": "stdout",
     "output_type": "stream",
     "text": [
      "size: 2\n",
      "0 번째 데이터-> [88, 12, 54, 15]\n",
      "0 번째 데이터 ==> 총합= 169 평균 42.25\n",
      "1 번째 데이터-> [63, 76, 32, 90]\n",
      "1 번째 데이터 ==> 총합= 261 평균 65.25\n"
     ]
    }
   ],
   "source": [
    "size = len(mydata)\n",
    "print(\"size:\", size)\n",
    "\n",
    "for i in range(0,size):\n",
    "    print(i,\"번째 데이터->\",mydata[i])\n",
    "\n",
    "    total = 0\n",
    "    size = len(mydata[i])\n",
    "\n",
    "    for j in range(0,size):\n",
    "        total +=mydata[i][j]\n",
    "\n",
    "    avg = total / size\n",
    "\n",
    "    print(i,\"번째 데이터 ==> 총합=\" , total,\"평균\",avg)"
   ]
  },
  {
   "cell_type": "code",
   "execution_count": 14,
   "id": "308292de",
   "metadata": {},
   "outputs": [
    {
     "name": "stdout",
     "output_type": "stream",
     "text": [
      "이번에 출력 되는 데이터-> [88, 12, 54, 15]\n",
      "[88, 12, 54, 15] 에 대한 총합=  169 ,평균= 42.25\n",
      "이번에 출력 되는 데이터-> [63, 76, 32, 90]\n",
      "[63, 76, 32, 90] 에 대한 총합=  261 ,평균= 65.25\n"
     ]
    }
   ],
   "source": [
    "for row in mydata:\n",
    "    print(\"이번에 출력 되는 데이터->\",row)\n",
    "    \n",
    "    total = 0\n",
    "\n",
    "    for col in row:\n",
    "        total +=col\n",
    "\n",
    "    avg = total / len(row)\n",
    "\n",
    "    print(row,\"에 대한 총합= \", total,\",평균=\" ,avg)"
   ]
  },
  {
   "cell_type": "markdown",
   "id": "4a2e28d0",
   "metadata": {},
   "source": [
    "## 2. 리스트 관련 함수"
   ]
  },
  {
   "cell_type": "code",
   "execution_count": 17,
   "id": "568d8ff9",
   "metadata": {},
   "outputs": [
    {
     "name": "stdout",
     "output_type": "stream",
     "text": [
      "5\n"
     ]
    }
   ],
   "source": [
    "mylist = [1,2,3,4,5]\n",
    "print(len(mylist))"
   ]
  },
  {
   "cell_type": "code",
   "execution_count": 18,
   "id": "2729c1d7",
   "metadata": {},
   "outputs": [
    {
     "name": "stdout",
     "output_type": "stream",
     "text": [
      "[1, 3]\n"
     ]
    }
   ],
   "source": [
    "mylist = [1,2,3]\n",
    "del(mylist[1])\n",
    "print(mylist)"
   ]
  },
  {
   "cell_type": "code",
   "execution_count": 19,
   "id": "4cadc082",
   "metadata": {},
   "outputs": [],
   "source": [
    "mylist = [4,2,5,3,1]"
   ]
  },
  {
   "cell_type": "code",
   "execution_count": 20,
   "id": "9b3cb3f6",
   "metadata": {},
   "outputs": [
    {
     "name": "stdout",
     "output_type": "stream",
     "text": [
      "[4, 2, 5, 3, 1]\n"
     ]
    }
   ],
   "source": [
    "print(mylist)"
   ]
  },
  {
   "cell_type": "code",
   "execution_count": 21,
   "id": "f485700c",
   "metadata": {},
   "outputs": [
    {
     "name": "stdout",
     "output_type": "stream",
     "text": [
      "[1, 2, 3, 4, 5]\n"
     ]
    }
   ],
   "source": [
    "asc = sorted(mylist)\n",
    "print(asc)"
   ]
  },
  {
   "cell_type": "code",
   "execution_count": 22,
   "id": "11790bbe",
   "metadata": {},
   "outputs": [
    {
     "name": "stdout",
     "output_type": "stream",
     "text": [
      "[5, 4, 3, 2, 1]\n"
     ]
    }
   ],
   "source": [
    "desc = sorted(mylist,reverse=True)\n",
    "print(desc)"
   ]
  },
  {
   "cell_type": "code",
   "execution_count": 23,
   "id": "e45b83f6",
   "metadata": {},
   "outputs": [
    {
     "name": "stdout",
     "output_type": "stream",
     "text": [
      "[4, 2, 5, 3, 1]\n"
     ]
    }
   ],
   "source": [
    "print(mylist)"
   ]
  },
  {
   "cell_type": "code",
   "execution_count": 24,
   "id": "de19e481",
   "metadata": {},
   "outputs": [
    {
     "name": "stdout",
     "output_type": "stream",
     "text": [
      "3\n",
      "1\n"
     ]
    }
   ],
   "source": [
    "a=[1,2,3]\n",
    "print(max(a))\n",
    "print(min(a))"
   ]
  },
  {
   "cell_type": "code",
   "execution_count": 25,
   "id": "c10d5c3a",
   "metadata": {},
   "outputs": [
    {
     "name": "stdout",
     "output_type": "stream",
     "text": [
      "6\n"
     ]
    }
   ],
   "source": [
    "print(sum(a))"
   ]
  },
  {
   "cell_type": "code",
   "execution_count": 26,
   "id": "265e39b2",
   "metadata": {},
   "outputs": [],
   "source": [
    "avg = sum(a) / len(a)"
   ]
  },
  {
   "cell_type": "code",
   "execution_count": 27,
   "id": "1dfaca39",
   "metadata": {},
   "outputs": [
    {
     "name": "stdout",
     "output_type": "stream",
     "text": [
      "2.0\n"
     ]
    }
   ],
   "source": [
    "print(avg)"
   ]
  },
  {
   "cell_type": "code",
   "execution_count": 29,
   "id": "da5ff190",
   "metadata": {},
   "outputs": [
    {
     "name": "stdout",
     "output_type": "stream",
     "text": [
      "['p', 'y', 't', 'h', 'o', 'n']\n"
     ]
    }
   ],
   "source": [
    "a = \"python\"\n",
    "b = list(a)\n",
    "print(b)"
   ]
  },
  {
   "cell_type": "code",
   "execution_count": 30,
   "id": "b7052c68",
   "metadata": {},
   "outputs": [
    {
     "name": "stdout",
     "output_type": "stream",
     "text": [
      "[1, 2, 3]\n"
     ]
    }
   ],
   "source": [
    "c = (1,2,3)\n",
    "d = list(c)\n",
    "print(d)"
   ]
  },
  {
   "cell_type": "code",
   "execution_count": 31,
   "id": "b1e66fae",
   "metadata": {},
   "outputs": [
    {
     "name": "stdout",
     "output_type": "stream",
     "text": [
      "[10, 20, 30]\n"
     ]
    }
   ],
   "source": [
    "e = [10,20,30]\n",
    "f = list(e)\n",
    "print(f)"
   ]
  },
  {
   "cell_type": "code",
   "execution_count": 33,
   "id": "4d6f5f21",
   "metadata": {},
   "outputs": [
    {
     "name": "stdout",
     "output_type": "stream",
     "text": [
      "<class 'range'>\n",
      "range(1, 10)\n"
     ]
    }
   ],
   "source": [
    "k = range(1,10)\n",
    "print(type(k))\n",
    "print(k)"
   ]
  },
  {
   "cell_type": "code",
   "execution_count": 34,
   "id": "6eb4e53d",
   "metadata": {},
   "outputs": [
    {
     "name": "stdout",
     "output_type": "stream",
     "text": [
      "[1, 2, 3, 4, 5, 6, 7, 8, 9]\n"
     ]
    }
   ],
   "source": [
    "z = list(k)\n",
    "print(z)"
   ]
  },
  {
   "cell_type": "code",
   "execution_count": 35,
   "id": "b0ce2b48",
   "metadata": {},
   "outputs": [
    {
     "name": "stdout",
     "output_type": "stream",
     "text": [
      "[1, 4, 7]\n"
     ]
    }
   ],
   "source": [
    "k = list(range(1,10,3))\n",
    "print(k)"
   ]
  },
  {
   "cell_type": "code",
   "execution_count": 37,
   "id": "87d4944c",
   "metadata": {},
   "outputs": [
    {
     "name": "stdout",
     "output_type": "stream",
     "text": [
      "3\n"
     ]
    }
   ],
   "source": [
    "mylist = [1,2,3,2,4,2]\n",
    "c = mylist.count(2)\n",
    "print(c)"
   ]
  },
  {
   "cell_type": "code",
   "execution_count": 39,
   "id": "44a16ed3",
   "metadata": {},
   "outputs": [
    {
     "name": "stdout",
     "output_type": "stream",
     "text": [
      "3\n"
     ]
    }
   ],
   "source": [
    "mylist = [1,2,3,10,1,2,3,10]\n",
    "x = mylist.index(10)\n",
    "print(x)"
   ]
  },
  {
   "cell_type": "code",
   "execution_count": 40,
   "id": "e5267fc2",
   "metadata": {},
   "outputs": [
    {
     "name": "stdout",
     "output_type": "stream",
     "text": [
      "[1, 2, 3, [5, 6]]\n"
     ]
    }
   ],
   "source": [
    "mylist = [1,2,3]\n",
    "mylist.append([5,6])\n",
    "print(mylist)"
   ]
  },
  {
   "cell_type": "code",
   "execution_count": 41,
   "id": "8c625f3d",
   "metadata": {},
   "outputs": [
    {
     "name": "stdout",
     "output_type": "stream",
     "text": [
      "[1, 2, 3, [5, 6]]\n"
     ]
    }
   ],
   "source": [
    "mylist=[1,2,3]\n",
    "mylist.append([5,6])\n",
    "print(mylist)"
   ]
  },
  {
   "cell_type": "code",
   "execution_count": 42,
   "id": "f98a3c0e",
   "metadata": {},
   "outputs": [],
   "source": [
    "mylist = [1,2,3]\n",
    "mylist.insert(1,10)"
   ]
  },
  {
   "cell_type": "code",
   "execution_count": 43,
   "id": "3738b70d",
   "metadata": {},
   "outputs": [
    {
     "name": "stdout",
     "output_type": "stream",
     "text": [
      "[1, 10, 2, 3]\n"
     ]
    }
   ],
   "source": [
    "print(mylist)"
   ]
  },
  {
   "cell_type": "code",
   "execution_count": 44,
   "id": "f6aaa33d",
   "metadata": {},
   "outputs": [
    {
     "name": "stdout",
     "output_type": "stream",
     "text": [
      "[10, 1, 2, 3]\n"
     ]
    }
   ],
   "source": [
    "mylist = [1,2,3]\n",
    "mylist.insert(0,10)\n",
    "print(mylist)"
   ]
  },
  {
   "cell_type": "code",
   "execution_count": 45,
   "id": "0c9c2e35",
   "metadata": {},
   "outputs": [
    {
     "name": "stdout",
     "output_type": "stream",
     "text": [
      "[1, 2, 3, 10]\n"
     ]
    }
   ],
   "source": [
    "mylist = [1,2,3]\n",
    "lastindex = len(mylist)\n",
    "mylist.insert(lastindex,10)\n",
    "print(mylist)"
   ]
  },
  {
   "cell_type": "code",
   "execution_count": 47,
   "id": "acecac11",
   "metadata": {},
   "outputs": [
    {
     "name": "stdout",
     "output_type": "stream",
     "text": [
      "3\n",
      "[1, 2]\n"
     ]
    }
   ],
   "source": [
    "mylist = [1,2,3]\n",
    "k = mylist.pop()\n",
    "print(k)\n",
    "print(mylist)"
   ]
  },
  {
   "cell_type": "code",
   "execution_count": 48,
   "id": "6476c299",
   "metadata": {},
   "outputs": [
    {
     "name": "stdout",
     "output_type": "stream",
     "text": [
      "[1, 2, 3, 10, 9, 8, 7]\n"
     ]
    }
   ],
   "source": [
    "mylist = [1,2,3]\n",
    "addon = [10,9,8,7]\n",
    "mylist.extend(addon)\n",
    "print(mylist)"
   ]
  },
  {
   "cell_type": "code",
   "execution_count": 49,
   "id": "4654e61f",
   "metadata": {},
   "outputs": [
    {
     "name": "stdout",
     "output_type": "stream",
     "text": [
      "[1, 2, 3, 1, 2, 3, 10]\n"
     ]
    }
   ],
   "source": [
    "mylist = [1,2,3,10,1,2,3,10]\n",
    "mylist.remove(10)\n",
    "print(mylist)"
   ]
  },
  {
   "cell_type": "code",
   "execution_count": 50,
   "id": "e9ba3796",
   "metadata": {},
   "outputs": [
    {
     "name": "stdout",
     "output_type": "stream",
     "text": [
      "[9, 3, 5, 7, 1]\n"
     ]
    }
   ],
   "source": [
    "mylist = [1,7,5,3,9]\n",
    "mylist.reverse()\n",
    "print(mylist)"
   ]
  },
  {
   "cell_type": "code",
   "execution_count": 53,
   "id": "d84e18b1",
   "metadata": {},
   "outputs": [
    {
     "name": "stdout",
     "output_type": "stream",
     "text": [
      "[1, 2, 3, 4, 5]\n"
     ]
    }
   ],
   "source": [
    "mylist = [2,5,1,4,3]\n",
    "mylist.sort()\n",
    "print(mylist)"
   ]
  },
  {
   "cell_type": "code",
   "execution_count": 54,
   "id": "5fdd8b9b",
   "metadata": {},
   "outputs": [
    {
     "name": "stdout",
     "output_type": "stream",
     "text": [
      "[5, 4, 3, 2, 1]\n"
     ]
    }
   ],
   "source": [
    "mylist = [2,5,1,4,3]\n",
    "mylist.sort(reverse=True)\n",
    "print(mylist)"
   ]
  },
  {
   "cell_type": "code",
   "execution_count": 55,
   "id": "62e56410",
   "metadata": {},
   "outputs": [
    {
     "name": "stdout",
     "output_type": "stream",
     "text": [
      "['안녕', '파이썬', '세계야', '최고야']\n"
     ]
    }
   ],
   "source": [
    "text = \"안녕,파이썬,세계야,최고야\"\n",
    "mylist=text.split(\",\")\n",
    "print(mylist)"
   ]
  },
  {
   "cell_type": "code",
   "execution_count": 56,
   "id": "73471aca",
   "metadata": {},
   "outputs": [
    {
     "name": "stdout",
     "output_type": "stream",
     "text": [
      "a$b$c$d\n"
     ]
    }
   ],
   "source": [
    "dl = \"$\"\n",
    "mylist = [\"a\",\"b\",\"c\",\"d\"]\n",
    "text = dl.join(mylist)\n",
    "print(text)"
   ]
  },
  {
   "cell_type": "code",
   "execution_count": 60,
   "id": "e0ee0b46",
   "metadata": {},
   "outputs": [
    {
     "name": "stdout",
     "output_type": "stream",
     "text": [
      "abcd\n"
     ]
    }
   ],
   "source": [
    "empty = \"\"\n",
    "mylist = [\"a\",\"b\",\"c\",\"d\"]\n",
    "text = empty.join(mylist)\n",
    "print(text)"
   ]
  },
  {
   "cell_type": "code",
   "execution_count": 59,
   "id": "4c74b952",
   "metadata": {},
   "outputs": [
    {
     "name": "stdout",
     "output_type": "stream",
     "text": [
      "a b c d\n"
     ]
    }
   ],
   "source": [
    "space = \" \"\n",
    "mylist = [\"a\",\"b\",\"c\",\"d\"]\n",
    "text = space.join(mylist)\n",
    "print(text)"
   ]
  },
  {
   "cell_type": "code",
   "execution_count": 61,
   "id": "705bb374",
   "metadata": {},
   "outputs": [
    {
     "name": "stdout",
     "output_type": "stream",
     "text": [
      "(2, 1)\n"
     ]
    }
   ],
   "source": [
    "c = divmod(7,3)\n",
    "print(c)"
   ]
  },
  {
   "cell_type": "code",
   "execution_count": 62,
   "id": "3c93279d",
   "metadata": {},
   "outputs": [
    {
     "name": "stdout",
     "output_type": "stream",
     "text": [
      "33일 8시간\n"
     ]
    }
   ],
   "source": [
    "hours = 800\n",
    "k = divmod(800,24)\n",
    "tpl = \"{0}일 {1}시간\"\n",
    "print(tpl.format(k[0],k[1]))"
   ]
  },
  {
   "cell_type": "code",
   "execution_count": 63,
   "id": "dbadb389",
   "metadata": {},
   "outputs": [
    {
     "name": "stdout",
     "output_type": "stream",
     "text": [
      "37일 12시간\n"
     ]
    }
   ],
   "source": [
    "days, hours = divmod(900,24)\n",
    "tpl = \"{0}일 {1}시간\"\n",
    "print(tpl.format(days,hours))"
   ]
  },
  {
   "cell_type": "code",
   "execution_count": null,
   "id": "73867cf8",
   "metadata": {},
   "outputs": [
    {
     "name": "stdout",
     "output_type": "stream",
     "text": [
      "Life is too short\n",
      "You need to python\n"
     ]
    }
   ],
   "source": [
    "msg1 = \"Life is too short\"\n",
    "msg2 = \"You need to python\"\n",
    "print (msg1)\n",
    "print (msg2)"
   ]
  },
  {
   "cell_type": "code",
   "execution_count": 73,
   "id": "9dea91b3",
   "metadata": {},
   "outputs": [
    {
     "name": "stdout",
     "output_type": "stream",
     "text": [
      "H\n",
      "e\n",
      "l\n",
      "l\n",
      "o\n"
     ]
    }
   ],
   "source": [
    "mymsg = \"Hello\"\n",
    "\n",
    "for m in mymsg:\n",
    "    print(m)"
   ]
  },
  {
   "cell_type": "code",
   "execution_count": 68,
   "id": "43c37584",
   "metadata": {},
   "outputs": [
    {
     "name": "stdout",
     "output_type": "stream",
     "text": [
      "Life is \"too\" short\n"
     ]
    }
   ],
   "source": [
    "case1 = \"Life is \\\"too\\\" short\"\n",
    "print(case1)"
   ]
  },
  {
   "cell_type": "code",
   "execution_count": 71,
   "id": "528adb62",
   "metadata": {},
   "outputs": [
    {
     "name": "stdout",
     "output_type": "stream",
     "text": [
      "Life is too short\n",
      "so you need to learn python\n"
     ]
    }
   ],
   "source": [
    "print(\"Life is too short\\nso you need to learn python\")"
   ]
  },
  {
   "cell_type": "code",
   "execution_count": 74,
   "id": "112b2610",
   "metadata": {},
   "outputs": [
    {
     "name": "stdout",
     "output_type": "stream",
     "text": [
      "Life\n",
      "is\n",
      "You need Python\n",
      "Life is too short\n",
      "Life is too short, You need Python\n",
      "You need\n",
      "\n"
     ]
    }
   ],
   "source": [
    "# 실습을 위한 문자열 변수 초기화\n",
    "mystr = \"Life is too short, You need Python\"\n",
    "mystr\n",
    "'Life is too short, You need Python'\n",
    "# 앞에서 0번째 부터 4번째 전까지의 문자 추출\n",
    "print( mystr[0:4] )\n",
    "\n",
    "# 앞에서 5번째 부터 7번째 전 까지의 문자 추출\n",
    "print( mystr[5:7] )\n",
    "\n",
    "# 앞에서 19번째 부터 끝까지 추출\n",
    "print( mystr[19:] )\n",
    "\n",
    "# 처음부터 앞에서 17번 전까지의 문자 추출\n",
    "print( mystr[:17] )\n",
    "\n",
    "# 처음부터 끝까지 추출\n",
    "print( mystr[:] )\n",
    "\n",
    "# 앞에서 19번째부터 뒤에서 -7번째 전까지 추출\n",
    "print( mystr[19:-7] )\n",
    "\n",
    "# 슬라이싱에 사용되는 인덱스 번호의 순서가 잘못되면 출력되는 내용 없음\n",
    "print( mystr[7:5] )"
   ]
  },
  {
   "cell_type": "markdown",
   "id": "0a45d124",
   "metadata": {},
   "source": [
    "## 4.문자열 포메팅"
   ]
  },
  {
   "cell_type": "code",
   "execution_count": 75,
   "id": "c62e5dbb",
   "metadata": {},
   "outputs": [
    {
     "name": "stdout",
     "output_type": "stream",
     "text": [
      "나는 10000원을 가지고 있다\n"
     ]
    }
   ],
   "source": [
    "str1 = \"나는 %d원을 가지고 있다\" % 10000\n",
    "print(str1)"
   ]
  },
  {
   "cell_type": "code",
   "execution_count": 76,
   "id": "81ac2e1b",
   "metadata": {},
   "outputs": [
    {
     "name": "stdout",
     "output_type": "stream",
     "text": [
      "[123.123123]원 입니다.\n"
     ]
    }
   ],
   "source": [
    "money = 123.123123\n",
    "print(\"[%f]원 입니다.\"%money)"
   ]
  },
  {
   "cell_type": "code",
   "execution_count": 77,
   "id": "62bd00d6",
   "metadata": {},
   "outputs": [
    {
     "name": "stdout",
     "output_type": "stream",
     "text": [
      "Hello Python\n"
     ]
    }
   ],
   "source": [
    "lang = \"Python\"\n",
    "str2 = \"Hello %s\" % lang\n",
    "print(str2)"
   ]
  },
  {
   "cell_type": "code",
   "execution_count": 78,
   "id": "5b0ae913",
   "metadata": {},
   "outputs": [
    {
     "name": "stdout",
     "output_type": "stream",
     "text": [
      "정모 날짜는 2023년 1월 1일 입니다.\n",
      "약속 날짜는 2023년 3월 5일 입니다.\n"
     ]
    }
   ],
   "source": [
    "# 형식문자를 포함한 문장만 별도의 변수로 지정\n",
    "str3 = \"%s 날짜는 %d년 %d월 %d일 입니다.\"\n",
    "# 여러 형식문자를 치환할 경우 값들을 괄호로 묶는다.\n",
    "msg1 = str3 % (\"정모\", 2023, 1, 1)\n",
    "print(msg1)\n",
    "msg2 = str3 % (\"약속\", 2023, 3, 5)\n",
    "print(msg2)"
   ]
  },
  {
   "cell_type": "code",
   "execution_count": 79,
   "id": "50949308",
   "metadata": {},
   "outputs": [
    {
     "name": "stdout",
     "output_type": "stream",
     "text": [
      "[    120000]원을 입금했습니다.\n",
      "[0000120000]원을 입금했습니다.\n",
      "[      대한민국]에 살고 있습니다.\n",
      "[12345.679]원 입니다.\n",
      "[ 12345.679]원 입니다.\n",
      "[012345.679]원 입니다.\n"
     ]
    }
   ],
   "source": [
    "# 자리수 지정하기 -> 오른쪽 정렬, 빈자리는 공백으로 지정\n",
    "print(\"[%10d]원을 입금했습니다.\" % 120000)\n",
    "\n",
    "# 자리수 지정하기 -> 오른쪽 정렬, 빈자리는 0으로 지정\n",
    "print(\"[%010d]원을 입금했습니다.\" % 120000)\n",
    "\n",
    "# 문자열의 자리수 지정하기 -> 빈자리는 공백지정만 가능함.\n",
    "print(\"[%10s]에 살고 있습니다.\" % \"대한민국\")\n",
    "\n",
    "# 실습을 위한 변수\n",
    "myMoney = 12345.6789\n",
    "# 소수점 3자리까지 표현하기 -> 소수점 4째자리에서 반올림.\n",
    "print(\"[%0.3f]원 입니다.\" % myMoney)\n",
    "\n",
    "# 소수점 3자리까지 표현하되 전체 글자수는 10글자 (빈자리 공백)\n",
    "# 소수점이 자리수에 포함됨\n",
    "# -> 오른쪽 정렬\n",
    "print(\"[%10.3f]원 입니다.\" % myMoney)\n",
    "\n",
    "# 소수점 3자리까지 표현하되 전체 글자수는 10글자 (빈자리 0)\n",
    "# -> 빈 자리를 0으로 채우는 경우는 오른쪽 정렬만 가능함.\n",
    "print(\"[%010.3f]원 입니다.\" % myMoney)\n"
   ]
  },
  {
   "cell_type": "code",
   "execution_count": 80,
   "id": "b368643e",
   "metadata": {},
   "outputs": [
    {
     "name": "stdout",
     "output_type": "stream",
     "text": [
      "I eat 3 apples\n",
      "개강일은 2023년 1월 26일 입니다.\n",
      "종강일은 2023년 10월 20일 입니다.\n",
      "생일은 2023년 1월 31일 입니다.\n",
      "좋은 교과서는 이 책입니다.\n"
     ]
    }
   ],
   "source": [
    "# 0번째 위치에 format()함수에 전달된 0번째 값을 대입\n",
    "msg1 = \"I eat {0} apples\"\n",
    "print( msg1.format(3) )\n",
    "\n",
    "# 여러 개의 값을 혼용하기\n",
    "msg2 = \"{0}은 {1}년 {2}월 {3}일 입니다.\"\n",
    "print( msg2.format(\"개강일\", 2023, 1, 26) )\n",
    "\n",
    "# 이름으로 넣기 --> format() 메서드에 전달되는 파라미터 순서는 영향이 없다.\n",
    "msg3 = \"{name}은 {yy}년 {mm}월 {dd}일 입니다.\"\n",
    "print( msg3.format(mm=10, name=\"종강일\", dd=20, yy=2023) )\n",
    "\n",
    "# 혼합사용 -> 숫자형식의 치환문자가 format() 메서드 안에서 먼저 위치해야 한다.\n",
    "msg4 = \"{0}은 {yy}년 {mm}월 {dd}일 입니다.\"\n",
    "print( msg4.format(\"생일\", yy=2023, mm=1, dd=31) )\n",
    "\n",
    "# 인덱스 번호는 format() 함수 내의 순서 -> 형식 문자열 안에서는 자유롭게 배치 가능\n",
    "fmt5 = \"{1} {name}는 이 {0}입니다.\"\n",
    "rst = fmt5.format(\"책\", \"좋은\", name=\"교과서\")\n",
    "print(rst)\n"
   ]
  },
  {
   "cell_type": "markdown",
   "id": "adc5eb52",
   "metadata": {},
   "source": [
    "## 문자열 관련 함수"
   ]
  },
  {
   "cell_type": "code",
   "execution_count": 81,
   "id": "380313c4",
   "metadata": {},
   "outputs": [
    {
     "name": "stdout",
     "output_type": "stream",
     "text": [
      "12\n"
     ]
    }
   ],
   "source": [
    "mystr = \"Hello Python\"\n",
    "length = len(mystr)\n",
    "print(length)"
   ]
  },
  {
   "cell_type": "code",
   "execution_count": 82,
   "id": "9d6a1948",
   "metadata": {},
   "outputs": [
    {
     "name": "stdout",
     "output_type": "stream",
     "text": [
      "9\n"
     ]
    }
   ],
   "source": [
    "print( len(\"안녕하세요 파이썬\") )"
   ]
  },
  {
   "cell_type": "code",
   "execution_count": 83,
   "id": "58ef575e",
   "metadata": {},
   "outputs": [
    {
     "name": "stdout",
     "output_type": "stream",
     "text": [
      "<class 'str'>\n",
      "123\n",
      "<class 'str'>\n",
      "123.45\n",
      "<class 'str'>\n",
      "True\n"
     ]
    }
   ],
   "source": [
    "num1 = 123\n",
    "num1_s = str(num1)\n",
    "print(type(num1_s))\n",
    "print(num1_s)\n",
    "\n",
    "\n",
    "# 실수를 문자열로 변환 --> 데이터 타입과 결과값 확인\n",
    "num2 = 123.45\n",
    "num2_s = str(num2)\n",
    "print(type(num2_s))\n",
    "print(num2_s)\n",
    "\n",
    "# 불리언을 문자열로 변환 --> 데이터 타입과 결과값 확인\n",
    "bool1 = True\n",
    "bool1_s = str(bool1)\n",
    "print(type(bool1_s))\n",
    "print(bool1_s)\n"
   ]
  },
  {
   "cell_type": "code",
   "execution_count": 84,
   "id": "8833b761",
   "metadata": {},
   "outputs": [
    {
     "name": "stdout",
     "output_type": "stream",
     "text": [
      "4\n",
      "0\n",
      "1\n",
      "0\n"
     ]
    }
   ],
   "source": [
    "# 실습을 위한 샘플 문자열\n",
    "mystr = \"파이썬은 웹 프로그래밍이나 데이터 분석에 많이 사용되는 언어입니다.\"\n",
    "# 글자 카운트\n",
    "print( mystr.count(\"이\") )\n",
    "print( mystr.count(\"가\") )\n",
    "\n",
    "# 단어 카운트\n",
    "print( mystr.count(\"파이썬\") )\n",
    "print( mystr.count(\"Python\") )"
   ]
  },
  {
   "cell_type": "code",
   "execution_count": 85,
   "id": "3f038e22",
   "metadata": {},
   "outputs": [
    {
     "name": "stdout",
     "output_type": "stream",
     "text": [
      "1\n",
      "-1\n",
      "12\n",
      "-1\n"
     ]
    }
   ],
   "source": [
    "# 실습을 위한 문자열\n",
    "message = \"내가 좋아하는 것에만 집중하기로 했다.\"\n",
    "# 글자의 위치(=인덱스) 조회 (찾지 못할 경우 -1을 반환한다.)\n",
    "print( message.find(\"가\") )\n",
    "print( message.find(\"나\") )\n",
    "\n",
    "# 단어의 시작 위치 조회 (찾지 못할 경우 -1을 반환한다.)\n",
    "# -> 단어 첫 글자의 인덱스를 리턴한다.\n",
    "print( message.find(\"집중\") )\n",
    "print( message.find(\"파이썬\") )"
   ]
  },
  {
   "cell_type": "code",
   "execution_count": 86,
   "id": "4b10f69f",
   "metadata": {},
   "outputs": [
    {
     "name": "stdout",
     "output_type": "stream",
     "text": [
      "11\n",
      "-1\n",
      "11\n",
      "-1\n"
     ]
    }
   ],
   "source": [
    "# 실습을 위한 문자열\n",
    "sentence = \"사람의 사람에 의한 사람을 위한\"\n",
    "# 글자 검색\n",
    "# -> 마지막으로 나타나는 글자의 위치를 왼쪽에서 0부터 카운트\n",
    "# -> 찾지 못할 경우 -1을 리턴\n",
    "print( sentence.rfind(\"사\") )\n",
    "print( sentence.rfind(\"자\") )\n",
    "\n",
    "# 단어 검색\n",
    "print( sentence.rfind(\"사람\") )\n",
    "print( sentence.rfind(\"인간\") )"
   ]
  },
  {
   "cell_type": "code",
   "execution_count": 87,
   "id": "cf15e551",
   "metadata": {},
   "outputs": [
    {
     "name": "stdout",
     "output_type": "stream",
     "text": [
      "True\n",
      "False\n",
      "True\n",
      "False\n"
     ]
    }
   ],
   "source": [
    "# 문자열이 대문자로 구성된 경우 True\n",
    "test3 = \"HELLO\"\n",
    "print(test3.isupper())\n",
    "# 문자열이 대문자로 구성되지 않은 경우 False\n",
    "test4 = \"Hello\"\n",
    "print(test4.isupper())\n",
    "\n",
    "# 문자열이 소문자로 구성된 경우 True\n",
    "test5 = \"hello\"\n",
    "print(test5.islower())\n",
    "# 문자열이 소문자로 구성되지 않은 경우 False\n",
    "test6 = \"Hello\"\n",
    "print(test6.islower())"
   ]
  },
  {
   "cell_type": "code",
   "execution_count": 88,
   "id": "d90ad183",
   "metadata": {},
   "outputs": [
    {
     "name": "stdout",
     "output_type": "stream",
     "text": [
      "HELLO PYTHON\n",
      "hello python\n",
      "Hello Python\n",
      "hELLO pYTHON\n",
      "Hello python\n",
      "Hello Python\n"
     ]
    }
   ],
   "source": [
    "mystr = \"Hello Python\" # 실습을 위한 문자열\n",
    "up = mystr.upper() # 모든 글자를 대문자로 변환한 결과를 리턴한다.\n",
    "print( up )\n",
    "\n",
    "lw = mystr.lower() # 모든 글자를 소문자로 변환한 결과를 리턴한다.\n",
    "print( lw )\n",
    "\n",
    "print(mystr) # 원본 문자열은 변화없다.\n",
    "\n",
    "# 대문자는 소문자로, 소문자는 대문자로 변환한 결과를 반환한다.\n",
    "print( mystr.swapcase() )\n",
    "\n",
    "# 문장의 첫 글자를 대문자로 변환한 결과를 반환한다.\n",
    "# -> 나머지 모든 글자는 소문자 처리함\n",
    "print( mystr.capitalize() )\n",
    "\n",
    "# 각 단어의 첫 글자를 대문자로 변환한 결과를 반환한다.\n",
    "print( mystr.title() )"
   ]
  },
  {
   "cell_type": "code",
   "execution_count": 89,
   "id": "428f9e85",
   "metadata": {},
   "outputs": [
    {
     "name": "stdout",
     "output_type": "stream",
     "text": [
      "[ python ]\n",
      "[python]\n",
      "[python ]\n",
      "[ python]\n"
     ]
    }
   ],
   "source": [
    "# 실습을 위한 문자열 (앞,뒤에 공백이 포함되어 있다.)\n",
    "k = \" python \"\n",
    "print(\"[\" + k + \"]\")\n",
    "# 앞뒤 공백 제거\n",
    "x = k.strip()\n",
    "print(\"[\" + x + \"]\")\n",
    "# 왼쪽 공백 제거\n",
    "y = k.lstrip()\n",
    "print(\"[\" + y + \"]\")\n",
    "# 오른쪽 공백 제거\n",
    "z = k.rstrip()\n",
    "print(\"[\" + z + \"]\")"
   ]
  },
  {
   "cell_type": "code",
   "execution_count": 90,
   "id": "895909a4",
   "metadata": {},
   "outputs": [
    {
     "name": "stdout",
     "output_type": "stream",
     "text": [
      "Hello Python\n",
      "Hello World\n"
     ]
    }
   ],
   "source": [
    "myMessage = \"Hello World\"\n",
    "# 변수.replace(A, B), 변수에서 A를 B로 변경한 결과를 반환\n",
    "newMsg = myMessage.replace(\"World\", \"Python\")\n",
    "print(newMsg)\n",
    "# 원본은 변화 없음\n",
    "print(myMessage)"
   ]
  },
  {
   "cell_type": "code",
   "execution_count": 91,
   "id": "2693101d",
   "metadata": {},
   "outputs": [
    {
     "name": "stdout",
     "output_type": "stream",
     "text": [
      "['파이썬', '데이터분석', '머신러닝']\n"
     ]
    }
   ],
   "source": [
    "# 문자열을 잘라서 리스트로 변환하기\n",
    "sample1 = \"파이썬,데이터분석,머신러닝\"\n",
    "slist1 = sample1.split(\",\") # <-- 문자열을 잘라낼 기준값을 파라미터로 지정\n",
    "print(slist1)"
   ]
  },
  {
   "cell_type": "code",
   "execution_count": 92,
   "id": "88ab323d",
   "metadata": {},
   "outputs": [
    {
     "name": "stdout",
     "output_type": "stream",
     "text": [
      "['파이썬', '데이터분석', '머신러닝']\n"
     ]
    }
   ],
   "source": [
    "# split() 메서드에 파라미터가 없을 경우 공백을 기준으로 잘라낸다.\n",
    "sample2 = \"파이썬 데이터분석 머신러닝\"\n",
    "slist2 = sample2.split()\n",
    "print(slist2)"
   ]
  },
  {
   "cell_type": "code",
   "execution_count": 93,
   "id": "51e962b1",
   "metadata": {},
   "outputs": [
    {
     "name": "stdout",
     "output_type": "stream",
     "text": [
      "True\n",
      "False\n"
     ]
    }
   ],
   "source": [
    "# 숫자로만 구성된 문자열인 경우 True\n",
    "test1 = \"123\"\n",
    "print(test1.isnumeric())\n",
    "\n",
    "# 숫자로만 구성되지 않은 문자열인 경우 False\n",
    "test2 = \"Hello123\"\n",
    "print(test2.isnumeric())"
   ]
  },
  {
   "cell_type": "code",
   "execution_count": 1,
   "id": "f62f0690",
   "metadata": {},
   "outputs": [
    {
     "name": "stdout",
     "output_type": "stream",
     "text": [
      "[5, 4]\n"
     ]
    }
   ],
   "source": [
    "def solution(numer1, denom1, numer2, denom2):\n",
    "    answer = [0, 0] # 결과를 저장할 배열 초기화\n",
    "    # 두 분수를 같은 분모로 통분하여 분자 계산\n",
    "    numer3 = denom2 * numer1 + numer2 * denom1 # 새 분자\n",
    "    denom3 = denom1 * denom2 # 새 분모\n",
    "    # 최대공약수를 이용하여 기약분수 만들기\n",
    "    i = numer3 # 최대공약수 탐색을 위한 초기값 설정\n",
    "    for i in range(numer3, 0, -1): # numer3부터 1까지 거꾸로 탐색\n",
    "    # 분자와 분모가 i로 나누어 떨어지면 최대공약수\n",
    "        if numer3 % i == 0 and denom3 % i == 0:\n",
    "            break # 최대공약수를 찾으면 루프 종료\n",
    "    answer[0] = numer3 // i # 분자를 최대공약수로 나누어 기약분수로 변환\n",
    "    answer[1] = denom3 // i # 분모를 최대공약수로 나누어 기약분수로 변환\n",
    "    return answer # 기약분수를 반환\n",
    "\n",
    "print(solution(1,2,3,4))"
   ]
  },
  {
   "cell_type": "code",
   "execution_count": null,
   "id": "d9b2dde0",
   "metadata": {},
   "outputs": [],
   "source": []
  }
 ],
 "metadata": {
  "kernelspec": {
   "display_name": "Python 3",
   "language": "python",
   "name": "python3"
  },
  "language_info": {
   "codemirror_mode": {
    "name": "ipython",
    "version": 3
   },
   "file_extension": ".py",
   "mimetype": "text/x-python",
   "name": "python",
   "nbconvert_exporter": "python",
   "pygments_lexer": "ipython3",
   "version": "3.13.9"
  }
 },
 "nbformat": 4,
 "nbformat_minor": 5
}
