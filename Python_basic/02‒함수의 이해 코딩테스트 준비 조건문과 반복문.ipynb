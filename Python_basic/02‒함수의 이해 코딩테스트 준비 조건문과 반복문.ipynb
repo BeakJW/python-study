{
 "cells": [
  {
   "cell_type": "markdown",
   "id": "0fdea00a",
   "metadata": {},
   "source": [
    "# LAB02 함수의 이해 조건문과 반복문"
   ]
  },
  {
   "cell_type": "code",
   "execution_count": 1,
   "id": "2e1c7a5d",
   "metadata": {},
   "outputs": [
    {
     "name": "stdout",
     "output_type": "stream",
     "text": [
      "<class 'int'>\n"
     ]
    }
   ],
   "source": [
    "# 정수형 변수의 데이터 타입 확인\n",
    "age = 20\n",
    "typeOfAge = type(age)\n",
    "print (typeOfAge)\n"
   ]
  },
  {
   "cell_type": "code",
   "execution_count": 2,
   "id": "5c4bb117",
   "metadata": {},
   "outputs": [
    {
     "name": "stdout",
     "output_type": "stream",
     "text": [
      "<class 'str'>\n"
     ]
    }
   ],
   "source": [
    "# 실수형 변수의 데이터 타입 확인\n",
    "message = \"Hello Python\"\n",
    "typeofmessage = type(message)\n",
    "print(typeofmessage)"
   ]
  },
  {
   "cell_type": "code",
   "execution_count": 3,
   "id": "82827af4",
   "metadata": {},
   "outputs": [
    {
     "name": "stdout",
     "output_type": "stream",
     "text": [
      "<class 'float'>\n"
     ]
    }
   ],
   "source": [
    "# 문자열 변수의 데이터 타입 확인\n",
    "pi = 3.14\n",
    "typeofpi = type(pi)\n",
    "print(typeofpi)"
   ]
  },
  {
   "cell_type": "code",
   "execution_count": 4,
   "id": "1e98c5c8",
   "metadata": {},
   "outputs": [
    {
     "name": "stdout",
     "output_type": "stream",
     "text": [
      "<class 'bool'>\n"
     ]
    }
   ],
   "source": [
    "# 논리형 변수의 데이터 타입 확인\n",
    "ok = True\n",
    "typeofok = type(ok)\n",
    "print(typeofok)"
   ]
  },
  {
   "cell_type": "code",
   "execution_count": 5,
   "id": "86685608",
   "metadata": {},
   "outputs": [
    {
     "name": "stdout",
     "output_type": "stream",
     "text": [
      "Life is short 100 3.14 True\n"
     ]
    }
   ],
   "source": [
    "# 출력하고자 하는 모든 형태의 값을 파라미터로 전달한다.\n",
    "# -> 문자열 이외의 다른 데이터 타입의 변수도 사용 가능함\n",
    "a=100\n",
    "b=3.14\n",
    "c=True\n",
    "print (\"Life\",\"is\", \"short\",a,b,c)"
   ]
  },
  {
   "cell_type": "code",
   "execution_count": 6,
   "id": "b856badc",
   "metadata": {},
   "outputs": [
    {
     "name": "stdout",
     "output_type": "stream",
     "text": [
      "123\n",
      "<class 'str'>\n"
     ]
    }
   ],
   "source": [
    "msg1 = input(\"메세지를 입력하세요\")\n",
    "print(msg1)\n",
    "\n",
    "t=type(msg1)\n",
    "print(t)"
   ]
  },
  {
   "cell_type": "code",
   "execution_count": 7,
   "id": "77f21ed7",
   "metadata": {},
   "outputs": [
    {
     "name": "stdout",
     "output_type": "stream",
     "text": [
      "123\n",
      "<class 'int'>\n"
     ]
    }
   ],
   "source": [
    "msg2 = input(\"정수를 입력하세요\")\n",
    "num = int(msg2)\n",
    "print (num)\n",
    "\n",
    "num_type = type(num)\n",
    "print(num_type)"
   ]
  },
  {
   "cell_type": "code",
   "execution_count": 8,
   "id": "d21d8170",
   "metadata": {},
   "outputs": [
    {
     "name": "stdout",
     "output_type": "stream",
     "text": [
      "123.0\n",
      "<class 'float'>\n"
     ]
    }
   ],
   "source": [
    "msg3 = input(\"실수를 입력하세요\")\n",
    "fnum = float(msg3)\n",
    "print(fnum)\n",
    "\n",
    "fnum_type = type(fnum)\n",
    "print(fnum_type)"
   ]
  },
  {
   "cell_type": "code",
   "execution_count": 9,
   "id": "d63f6c5a",
   "metadata": {},
   "outputs": [
    {
     "name": "stdout",
     "output_type": "stream",
     "text": [
      "100.0\n",
      "<class 'float'>\n"
     ]
    }
   ],
   "source": [
    "num1 = 100\n",
    "num2 = float(num1)\n",
    "print(num2)\n",
    "\n",
    "t1 = type(num2)\n",
    "print(t1)"
   ]
  },
  {
   "cell_type": "code",
   "execution_count": 10,
   "id": "0e36a4c1",
   "metadata": {},
   "outputs": [
    {
     "name": "stdout",
     "output_type": "stream",
     "text": [
      "123\n",
      "<class 'int'>\n"
     ]
    }
   ],
   "source": [
    "num3 = 123.78\n",
    "num4 = int(num3)\n",
    "print(num4)\n",
    "\n",
    "\n",
    "t2 = type(num4)\n",
    "print(t2)"
   ]
  },
  {
   "cell_type": "code",
   "execution_count": 11,
   "id": "a77bc2c5",
   "metadata": {},
   "outputs": [
    {
     "name": "stdout",
     "output_type": "stream",
     "text": [
      "123\n",
      "<class 'int'>\n"
     ]
    }
   ],
   "source": [
    "num3 = 123.78\n",
    "num4 = int(num3)\n",
    "print(num4)\n",
    "\n",
    "t2 = type(num4)\n",
    "print(t2)"
   ]
  },
  {
   "cell_type": "code",
   "execution_count": 12,
   "id": "69378d5c",
   "metadata": {},
   "outputs": [
    {
     "name": "stdout",
     "output_type": "stream",
     "text": [
      "<class 'int'> <class 'str'>\n"
     ]
    }
   ],
   "source": [
    "num1 = 100\n",
    "s1= str(num1)\n",
    "print(type(num1),type(s1))"
   ]
  },
  {
   "cell_type": "code",
   "execution_count": 13,
   "id": "f23e3314",
   "metadata": {},
   "outputs": [
    {
     "name": "stdout",
     "output_type": "stream",
     "text": [
      "<class 'float'> <class 'str'>\n"
     ]
    }
   ],
   "source": [
    "num2= 3.14\n",
    "s2 = str(num2)\n",
    "print (type(num2),type(s2))"
   ]
  },
  {
   "cell_type": "code",
   "execution_count": 14,
   "id": "7b7a2ecf",
   "metadata": {},
   "outputs": [
    {
     "name": "stdout",
     "output_type": "stream",
     "text": [
      "256\n"
     ]
    }
   ],
   "source": [
    "a = pow(2,8)\n",
    "print (a)"
   ]
  },
  {
   "cell_type": "code",
   "execution_count": 15,
   "id": "bbab8313",
   "metadata": {},
   "outputs": [
    {
     "name": "stdout",
     "output_type": "stream",
     "text": [
      "100 100 12.345\n"
     ]
    }
   ],
   "source": [
    "a= abs(100)\n",
    "b= abs(-100)\n",
    "c= abs(-12.345)\n",
    "\n",
    "print (a,b,c)"
   ]
  },
  {
   "cell_type": "code",
   "execution_count": 16,
   "id": "59a37c7a",
   "metadata": {},
   "outputs": [
    {
     "name": "stdout",
     "output_type": "stream",
     "text": [
      "124\n",
      "123.8\n"
     ]
    }
   ],
   "source": [
    "n = round(123.78)\n",
    "print(n)\n",
    "\n",
    "n2 = round(123.76,1)\n",
    "print (n2)"
   ]
  },
  {
   "cell_type": "code",
   "execution_count": 17,
   "id": "86792dbb",
   "metadata": {},
   "outputs": [],
   "source": [
    "def say_hello():\n",
    "    print(\"HELLO PYTHON\")\n",
    "    print(\"안녕 파이썬\")"
   ]
  },
  {
   "cell_type": "code",
   "execution_count": 18,
   "id": "065ff7a3",
   "metadata": {},
   "outputs": [
    {
     "name": "stdout",
     "output_type": "stream",
     "text": [
      "HELLO PYTHON\n",
      "안녕 파이썬\n"
     ]
    }
   ],
   "source": [
    "say_hello()"
   ]
  },
  {
   "cell_type": "code",
   "execution_count": 19,
   "id": "00eea026",
   "metadata": {},
   "outputs": [],
   "source": [
    "def f(x):\n",
    "    y =x+1\n",
    "    print(y)"
   ]
  },
  {
   "cell_type": "code",
   "execution_count": 20,
   "id": "34acc2d8",
   "metadata": {},
   "outputs": [
    {
     "name": "stdout",
     "output_type": "stream",
     "text": [
      "3\n"
     ]
    }
   ],
   "source": [
    "f(2)"
   ]
  },
  {
   "cell_type": "code",
   "execution_count": 21,
   "id": "f71fcf58",
   "metadata": {},
   "outputs": [
    {
     "name": "stdout",
     "output_type": "stream",
     "text": [
      "4\n"
     ]
    }
   ],
   "source": [
    "f(3)"
   ]
  },
  {
   "cell_type": "code",
   "execution_count": 22,
   "id": "397cebb5",
   "metadata": {},
   "outputs": [],
   "source": [
    "def foo(count):\n",
    "    x = count * 10\n",
    "    print(x)"
   ]
  },
  {
   "cell_type": "code",
   "execution_count": 23,
   "id": "f35eac43",
   "metadata": {},
   "outputs": [
    {
     "name": "stdout",
     "output_type": "stream",
     "text": [
      "20\n"
     ]
    }
   ],
   "source": [
    "foo(2)"
   ]
  },
  {
   "cell_type": "code",
   "execution_count": 24,
   "id": "804a11db",
   "metadata": {},
   "outputs": [],
   "source": [
    "##foo() ->오류 발생"
   ]
  },
  {
   "cell_type": "code",
   "execution_count": 25,
   "id": "23e987df",
   "metadata": {},
   "outputs": [],
   "source": [
    "def hello(x,y):\n",
    "    z = x + y\n",
    "    print(z)"
   ]
  },
  {
   "cell_type": "code",
   "execution_count": 26,
   "id": "12a1229d",
   "metadata": {},
   "outputs": [
    {
     "name": "stdout",
     "output_type": "stream",
     "text": [
      "3\n"
     ]
    }
   ],
   "source": [
    "hello(2,1)"
   ]
  },
  {
   "cell_type": "code",
   "execution_count": 27,
   "id": "fb75c7b1",
   "metadata": {},
   "outputs": [
    {
     "name": "stdout",
     "output_type": "stream",
     "text": [
      "8\n"
     ]
    }
   ],
   "source": [
    "hello(5,3)"
   ]
  },
  {
   "cell_type": "code",
   "execution_count": 28,
   "id": "ddfa1baa",
   "metadata": {},
   "outputs": [],
   "source": [
    "def sum1(x,y,z=0):\n",
    "    answer = x +y + z\n",
    "    print(answer)"
   ]
  },
  {
   "cell_type": "code",
   "execution_count": 29,
   "id": "d5d6afae",
   "metadata": {},
   "outputs": [
    {
     "name": "stdout",
     "output_type": "stream",
     "text": [
      "6\n"
     ]
    }
   ],
   "source": [
    "sum1(1,2,3)"
   ]
  },
  {
   "cell_type": "code",
   "execution_count": 30,
   "id": "194d806f",
   "metadata": {},
   "outputs": [
    {
     "name": "stdout",
     "output_type": "stream",
     "text": [
      "30\n"
     ]
    }
   ],
   "source": [
    "sum1(10,20)"
   ]
  },
  {
   "cell_type": "code",
   "execution_count": 31,
   "id": "124ab588",
   "metadata": {},
   "outputs": [],
   "source": [
    "def sum2(a,b,c=0,d=0):\n",
    "    answer = a+b+c+d\n",
    "    print(answer)"
   ]
  },
  {
   "cell_type": "code",
   "execution_count": 32,
   "id": "f010bbec",
   "metadata": {},
   "outputs": [
    {
     "name": "stdout",
     "output_type": "stream",
     "text": [
      "10\n"
     ]
    }
   ],
   "source": [
    "sum2(d=3,c=4,b=2,a=1)"
   ]
  },
  {
   "cell_type": "code",
   "execution_count": 33,
   "id": "dfd3bc95",
   "metadata": {},
   "outputs": [
    {
     "name": "stdout",
     "output_type": "stream",
     "text": [
      "3\n"
     ]
    }
   ],
   "source": [
    "sum2(1,b=2)"
   ]
  },
  {
   "cell_type": "code",
   "execution_count": 34,
   "id": "c54d9291",
   "metadata": {},
   "outputs": [],
   "source": [
    "def plus(x,y):\n",
    "    z = x+y\n",
    "    return z"
   ]
  },
  {
   "cell_type": "code",
   "execution_count": 35,
   "id": "11fe4241",
   "metadata": {},
   "outputs": [
    {
     "name": "stdout",
     "output_type": "stream",
     "text": [
      "30\n"
     ]
    }
   ],
   "source": [
    "a = plus(10,20)\n",
    "print(a)"
   ]
  },
  {
   "cell_type": "code",
   "execution_count": 36,
   "id": "21fe97b6",
   "metadata": {},
   "outputs": [
    {
     "name": "stdout",
     "output_type": "stream",
     "text": [
      "300\n"
     ]
    }
   ],
   "source": [
    "print(plus(100,200))"
   ]
  },
  {
   "cell_type": "code",
   "execution_count": 37,
   "id": "4a97046b",
   "metadata": {},
   "outputs": [
    {
     "name": "stdout",
     "output_type": "stream",
     "text": [
      "112\n"
     ]
    }
   ],
   "source": [
    "b = plus(5,7)+100\n",
    "print(b)"
   ]
  },
  {
   "cell_type": "code",
   "execution_count": 38,
   "id": "de2c9d58",
   "metadata": {},
   "outputs": [],
   "source": [
    "def foo(x,y):\n",
    "    return 0\n",
    "    z = x+y\n",
    "    return z\n"
   ]
  },
  {
   "cell_type": "code",
   "execution_count": 39,
   "id": "ca41caac",
   "metadata": {},
   "outputs": [
    {
     "name": "stdout",
     "output_type": "stream",
     "text": [
      "0\n"
     ]
    }
   ],
   "source": [
    "print(foo(100,200))"
   ]
  },
  {
   "cell_type": "code",
   "execution_count": 40,
   "id": "01c22d94",
   "metadata": {},
   "outputs": [],
   "source": [
    "a = 100\n",
    "b = 200\n",
    "\n",
    "def foo():\n",
    "    k = a+b\n",
    "    print(k)"
   ]
  },
  {
   "cell_type": "code",
   "execution_count": 41,
   "id": "c77914b5",
   "metadata": {},
   "outputs": [
    {
     "name": "stdout",
     "output_type": "stream",
     "text": [
      "300\n"
     ]
    }
   ],
   "source": [
    "foo()"
   ]
  },
  {
   "cell_type": "code",
   "execution_count": 42,
   "id": "6445ae6c",
   "metadata": {},
   "outputs": [],
   "source": [
    "## print(k)"
   ]
  },
  {
   "cell_type": "markdown",
   "id": "56e29a2b",
   "metadata": {},
   "source": [
    "## 조건문"
   ]
  },
  {
   "cell_type": "code",
   "execution_count": 43,
   "id": "da749b06",
   "metadata": {},
   "outputs": [
    {
     "name": "stdout",
     "output_type": "stream",
     "text": [
      "택시를 타고\n",
      "집에가자\n"
     ]
    }
   ],
   "source": [
    "money = 10000\n",
    "# money = 0\n",
    "if money:\n",
    "    print(\"택시를 타고\")\n",
    "\n",
    "print(\"집에가자\")"
   ]
  },
  {
   "cell_type": "code",
   "execution_count": 44,
   "id": "181962ba",
   "metadata": {},
   "outputs": [
    {
     "name": "stdout",
     "output_type": "stream",
     "text": [
      "Python\n",
      "프로그래밍\n"
     ]
    }
   ],
   "source": [
    "name = \"Python\"\n",
    "\n",
    "if name:\n",
    "    print(name)\n",
    "\n",
    "print(\"프로그래밍\")"
   ]
  },
  {
   "cell_type": "code",
   "execution_count": 45,
   "id": "19c1c6aa",
   "metadata": {},
   "outputs": [
    {
     "name": "stdout",
     "output_type": "stream",
     "text": [
      "20살이 아닙니다\n",
      "성인입니다\n"
     ]
    }
   ],
   "source": [
    "myage = int(input('나이를 입력하세요'))\n",
    "\n",
    "if myage  == 19:\n",
    "    print(\"19살입니다\")\n",
    "\n",
    "if myage != 19:\n",
    "    print(\"20살이 아닙니다\")\n",
    "\n",
    "if myage > 19:\n",
    "    print(\"성인입니다\")\n",
    "\n",
    "if myage <= 19:\n",
    "    print(\"청소년입니다\")\n"
   ]
  },
  {
   "cell_type": "code",
   "execution_count": 46,
   "id": "2fd2a74d",
   "metadata": {},
   "outputs": [
    {
     "name": "stdout",
     "output_type": "stream",
     "text": [
      "c학점이 아닙니다\n"
     ]
    }
   ],
   "source": [
    "point = int(input(\"점수를 입력하세요\"))\n",
    "\n",
    "if point > 70 and point <= 80:\n",
    "    print(\"c학점입니다\")\n",
    "\n",
    "if point <= 70 or point > 80:\n",
    "    print(\"c학점이 아닙니다\")"
   ]
  },
  {
   "cell_type": "code",
   "execution_count": 47,
   "id": "49e58114",
   "metadata": {},
   "outputs": [
    {
     "name": "stdout",
     "output_type": "stream",
     "text": [
      "한국사람입니다...(1)\n",
      "한국사람입니다...(4)\n",
      "한국사람입니다...(5)\n"
     ]
    }
   ],
   "source": [
    "iskorean = True\n",
    "#iskorean = False\n",
    "\n",
    "if iskorean == True:\n",
    "    print(\"한국사람입니다...(1)\")\n",
    "\n",
    "if iskorean == False:\n",
    "    print(\"한국사람입니다...(2)\")\n",
    "\n",
    "if iskorean != True:\n",
    "    print(\"한국사람입니다...(3)\")\n",
    "\n",
    "if iskorean != False:\n",
    "    print(\"한국사람입니다...(4)\")\n",
    "\n",
    "if iskorean:\n",
    "    print(\"한국사람입니다...(5)\")\n",
    "\n",
    "if not iskorean:\n",
    "    print(\"한국사람입니다...(6)\")\n",
    "\n"
   ]
  },
  {
   "cell_type": "code",
   "execution_count": 48,
   "id": "ace8753d",
   "metadata": {},
   "outputs": [
    {
     "name": "stdout",
     "output_type": "stream",
     "text": [
      "시험시작\n",
      "합격입니다\n",
      "시험 끗\n"
     ]
    }
   ],
   "source": [
    "print(\"시험시작\")\n",
    "\n",
    "score = int(input(\"점수를 입력하세요\"))\n",
    "\n",
    "if score >= 60:\n",
    "    print(\"합격입니다\")\n",
    "else:\n",
    "    print(\"불합격입니다\")\n",
    "\n",
    "print(\"시험 끗\")"
   ]
  },
  {
   "cell_type": "code",
   "execution_count": 2,
   "id": "6b5dd2ad",
   "metadata": {},
   "outputs": [
    {
     "name": "stdout",
     "output_type": "stream",
     "text": [
      "한국사람이 아닙니다(2)\n",
      "한국사람이 아닙니다(3)\n"
     ]
    }
   ],
   "source": [
    "answer = input(\"한국인입니까? (Y/N)\")\n",
    "\n",
    "if answer == \"Y\":\n",
    "    iskorean = True\n",
    "else:\n",
    "    iskorean = False\n",
    "\n",
    "if iskorean:\n",
    "    print(\"한국사람 입니다(1)\")\n",
    "else:\n",
    "    print(\"한국사람이 아닙니다(2)\")\n",
    "\n",
    "if not iskorean:\n",
    "    print(\"한국사람이 아닙니다(3)\")\n",
    "else:\n",
    "    print(\"한국사람 입니다(4)\")\n"
   ]
  },
  {
   "cell_type": "code",
   "execution_count": 7,
   "id": "855d597e",
   "metadata": {},
   "outputs": [
    {
     "name": "stdout",
     "output_type": "stream",
     "text": [
      "시험시작\n",
      "A학점\n",
      "시험 끗\n"
     ]
    }
   ],
   "source": [
    "print(\"시험시작\")\n",
    "\n",
    "point = int(input(\"점수를 입력하세요\"))\n",
    "\n",
    "if point > 90:\n",
    "    print(\"A학점\")\n",
    "elif point >80:\n",
    "    print(\"B학점\")\n",
    "elif point >80:\n",
    "    print(\"C학점\")\n",
    "elif point >80:\n",
    "    print(\"D학점\")\n",
    "elif point >80:\n",
    "    print(\"F학점\")\n",
    "\n",
    "print(\"시험 끗\")"
   ]
  },
  {
   "cell_type": "code",
   "execution_count": 8,
   "id": "b14652e3",
   "metadata": {},
   "outputs": [
    {
     "name": "stdout",
     "output_type": "stream",
     "text": [
      "x= 1\n",
      "x= 2\n",
      "x= 3\n",
      "x= 4\n",
      "x= 5\n",
      "x= 6\n",
      "x= 7\n",
      "x= 8\n",
      "x= 9\n",
      "x= 10\n",
      "x의 최종값 = 11\n"
     ]
    }
   ],
   "source": [
    "x=1\n",
    "while x <=10:\n",
    "    print(\"x=\",x)\n",
    "    x+=1\n",
    "print (\"x의 최종값 =\",x)"
   ]
  },
  {
   "cell_type": "code",
   "execution_count": 9,
   "id": "b99fa803",
   "metadata": {},
   "outputs": [
    {
     "name": "stdout",
     "output_type": "stream",
     "text": [
      "12 x 1 = 12\n",
      "12 x 2 = 24\n",
      "12 x 3 = 36\n",
      "12 x 4 = 48\n",
      "12 x 5 = 60\n",
      "12 x 6 = 72\n",
      "12 x 7 = 84\n",
      "12 x 8 = 96\n",
      "12 x 9 = 108\n"
     ]
    }
   ],
   "source": [
    "x=int(input(\"숫자를 입력하세요\"))\n",
    "\n",
    "y=1\n",
    "while y <10:\n",
    "    z = x*y\n",
    "    print(x,\"x\",y,\"=\",z)\n",
    "    y+=1"
   ]
  },
  {
   "cell_type": "code",
   "execution_count": 13,
   "id": "8dfbcb7d",
   "metadata": {},
   "outputs": [
    {
     "name": "stdout",
     "output_type": "stream",
     "text": [
      "x = 1 -> sum = 1\n",
      "x = 2 -> sum = 3\n",
      "x = 3 -> sum = 6\n",
      "x = 4 -> sum = 10\n",
      "x = 5 -> sum = 15\n",
      "x = 6 -> sum = 21\n",
      "x = 7 -> sum = 28\n",
      "x = 8 -> sum = 36\n",
      "x = 9 -> sum = 45\n",
      "x = 10 -> sum = 55\n"
     ]
    }
   ],
   "source": [
    "x=1\n",
    "sum=0\n",
    "while x <=10:\n",
    "    sum += x\n",
    "    print(\"x =\", x,\"-> sum =\",sum)\n",
    "    x+=1"
   ]
  },
  {
   "cell_type": "code",
   "execution_count": 15,
   "id": "d68baa3f",
   "metadata": {},
   "outputs": [
    {
     "name": "stdout",
     "output_type": "stream",
     "text": [
      "0\n",
      "10\n",
      "20\n",
      "30\n",
      "40\n"
     ]
    }
   ],
   "source": [
    "a=0\n",
    "while a <50:\n",
    "    print(a)\n",
    "    a+=10"
   ]
  },
  {
   "cell_type": "code",
   "execution_count": 16,
   "id": "aabe7d82",
   "metadata": {},
   "outputs": [
    {
     "name": "stdout",
     "output_type": "stream",
     "text": [
      "10\n",
      "8\n",
      "6\n",
      "4\n",
      "2\n"
     ]
    }
   ],
   "source": [
    "b=10\n",
    "while b >0:\n",
    "    print(b)\n",
    "    b-=2"
   ]
  },
  {
   "cell_type": "code",
   "execution_count": 18,
   "id": "e9ce0f95",
   "metadata": {},
   "outputs": [
    {
     "name": "stdout",
     "output_type": "stream",
     "text": [
      "x= 1\n",
      "x= 2\n",
      "x= 3\n",
      "x= 4\n",
      "x= 5\n",
      "x= 6\n",
      "x= 7\n",
      "x= 8\n",
      "x= 9\n",
      "x= 10\n",
      "x의 최종값 10\n"
     ]
    }
   ],
   "source": [
    "for x in range(1,11):\n",
    "    print(\"x=\",x)\n",
    "print (\"x의 최종값\",x)"
   ]
  },
  {
   "cell_type": "code",
   "execution_count": 20,
   "id": "07f3cd80",
   "metadata": {},
   "outputs": [
    {
     "name": "stdout",
     "output_type": "stream",
     "text": [
      "123 x 1 = 123\n",
      "123 x 2 = 246\n",
      "123 x 3 = 369\n",
      "123 x 4 = 492\n",
      "123 x 5 = 615\n",
      "123 x 6 = 738\n",
      "123 x 7 = 861\n",
      "123 x 8 = 984\n",
      "123 x 9 = 1107\n"
     ]
    }
   ],
   "source": [
    "x = int(input(\"숫자를 입력하세여\"))\n",
    "\n",
    "for y in range(1,10):\n",
    "    z = x*y\n",
    "    print (x,\"x\",y,\"=\",z)"
   ]
  },
  {
   "cell_type": "code",
   "execution_count": 21,
   "id": "dc054660",
   "metadata": {},
   "outputs": [
    {
     "name": "stdout",
     "output_type": "stream",
     "text": [
      "x= 1 ->sum 1\n",
      "x= 2 ->sum 3\n",
      "x= 3 ->sum 6\n",
      "x= 4 ->sum 10\n",
      "x= 5 ->sum 15\n",
      "x= 6 ->sum 21\n",
      "x= 7 ->sum 28\n",
      "x= 8 ->sum 36\n",
      "x= 9 ->sum 45\n",
      "x= 10 ->sum 55\n"
     ]
    }
   ],
   "source": [
    "sum = 0\n",
    "\n",
    "for x in range(1,11):\n",
    "    sum+=x\n",
    "    print (\"x=\",x,\"->sum\",sum)"
   ]
  },
  {
   "cell_type": "code",
   "execution_count": 22,
   "id": "a3ed8a3f",
   "metadata": {},
   "outputs": [
    {
     "name": "stdout",
     "output_type": "stream",
     "text": [
      "0\n",
      "10\n",
      "20\n",
      "30\n",
      "40\n"
     ]
    }
   ],
   "source": [
    "for a in range(0,50,10):\n",
    "    print(a)"
   ]
  },
  {
   "cell_type": "code",
   "execution_count": 24,
   "id": "894183ef",
   "metadata": {},
   "outputs": [
    {
     "name": "stdout",
     "output_type": "stream",
     "text": [
      "10\n",
      "8\n",
      "6\n",
      "4\n",
      "2\n"
     ]
    }
   ],
   "source": [
    "for b in range(10,0,-2):\n",
    "    print(b)"
   ]
  },
  {
   "cell_type": "code",
   "execution_count": null,
   "id": "314e1c8c",
   "metadata": {},
   "outputs": [],
   "source": []
  }
 ],
 "metadata": {
  "kernelspec": {
   "display_name": "Python 3",
   "language": "python",
   "name": "python3"
  },
  "language_info": {
   "codemirror_mode": {
    "name": "ipython",
    "version": 3
   },
   "file_extension": ".py",
   "mimetype": "text/x-python",
   "name": "python",
   "nbconvert_exporter": "python",
   "pygments_lexer": "ipython3",
   "version": "3.13.9"
  }
 },
 "nbformat": 4,
 "nbformat_minor": 5
}
