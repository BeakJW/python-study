{
 "cells": [
  {
   "cell_type": "code",
   "execution_count": 3,
   "id": "fa6ff8fb",
   "metadata": {},
   "outputs": [
    {
     "name": "stdout",
     "output_type": "stream",
     "text": [
      "[2, 3]\n"
     ]
    }
   ],
   "source": [
    "## 짝수 홀수 개수\n",
    "\n",
    "def solution(num_list):\n",
    "    jjak = 0\n",
    "    hol = 0\n",
    "    \n",
    "    for i in num_list:\n",
    "        if i%2==0:\n",
    "            jjak +=1\n",
    "        else:\n",
    "            hol +=1\n",
    "        \n",
    "    return [jjak,hol]\n",
    "\n",
    "print(solution([1, 2, 3, 4, 5]))"
   ]
  },
  {
   "cell_type": "code",
   "execution_count": null,
   "id": "d9d9b1e1",
   "metadata": {},
   "outputs": [],
   "source": [
    "## 짝수는 싫어요\n",
    "\n",
    "def solution(n):\n",
    "    answer = []\n",
    "    \n",
    "    for i in range(n+1):\n",
    "        if i%2 ==1:\n",
    "            answer.append(i)\n",
    "    \n",
    "    return answer"
   ]
  }
 ],
 "metadata": {
  "kernelspec": {
   "display_name": "Python 3",
   "language": "python",
   "name": "python3"
  },
  "language_info": {
   "codemirror_mode": {
    "name": "ipython",
    "version": 3
   },
   "file_extension": ".py",
   "mimetype": "text/x-python",
   "name": "python",
   "nbconvert_exporter": "python",
   "pygments_lexer": "ipython3",
   "version": "3.13.9"
  }
 },
 "nbformat": 4,
 "nbformat_minor": 5
}
