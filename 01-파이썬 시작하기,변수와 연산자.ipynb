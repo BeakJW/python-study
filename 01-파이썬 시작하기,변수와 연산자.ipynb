{
 "cells": [
  {
   "cell_type": "markdown",
   "id": "8cd437bb",
   "metadata": {},
   "source": [
    "# Lab 01 -  파이썬 시작하기, 변수와 연산자\n",
    "## #03. 첫 번째 프로그램\n",
    "### 소스코드 작성하기"
   ]
  },
  {
   "cell_type": "code",
   "execution_count": 1,
   "id": "353e408f",
   "metadata": {},
   "outputs": [
    {
     "name": "stdout",
     "output_type": "stream",
     "text": [
      "Hello world\n"
     ]
    }
   ],
   "source": [
    "# 메시지를 출력하는 명령어\n",
    "print(\"Hello world\")\n"
   ]
  },
  {
   "cell_type": "code",
   "execution_count": 2,
   "id": "986198ba",
   "metadata": {},
   "outputs": [
    {
     "name": "stdout",
     "output_type": "stream",
     "text": [
      "200\n"
     ]
    }
   ],
   "source": [
    "a = 100 # 100을 의미하는 a라는 데이터 생성\n",
    "b = 100 # 200을 의미하는 b라는 데이터 생성\n",
    "\n",
    "# 합산 결과 출력하기\n",
    "print (a+b)"
   ]
  },
  {
   "cell_type": "markdown",
   "id": "58db6c15",
   "metadata": {},
   "source": [
    "## #04. 변수의 이해\n",
    "\n",
    "### 다양한 변수 만들기"
   ]
  },
  {
   "cell_type": "code",
   "execution_count": 3,
   "id": "0417d617",
   "metadata": {},
   "outputs": [
    {
     "name": "stdout",
     "output_type": "stream",
     "text": [
      "123\n",
      "-456\n"
     ]
    }
   ],
   "source": [
    "# 변수 만들기 (오른쪽에서 왼쪽으로 대입 -> 최초대입을 초기화 라고 함)\n",
    "# -> 이름 = 값\n",
    "a = 123\n",
    "b = -456\n",
    "print(a)\n",
    "print(b)"
   ]
  },
  {
   "cell_type": "code",
   "execution_count": 4,
   "id": "93e20e41",
   "metadata": {},
   "outputs": [
    {
     "name": "stdout",
     "output_type": "stream",
     "text": [
      "10000\n"
     ]
    }
   ],
   "source": [
    "#한 번 할당된 변수는 다른 값으로 변경 가능\n",
    "a = 10000\n",
    "print(a)"
   ]
  },
  {
   "cell_type": "code",
   "execution_count": 5,
   "id": "ae4b2dc8",
   "metadata": {},
   "outputs": [
    {
     "name": "stdout",
     "output_type": "stream",
     "text": [
      "1.2\n",
      "-3.45\n"
     ]
    }
   ],
   "source": [
    "# 실수형 변수 만들기\n",
    "c = 1.2\n",
    "d = -3.45\n",
    "print(c)\n",
    "print(d)"
   ]
  },
  {
   "cell_type": "markdown",
   "id": "156e9ec7",
   "metadata": {},
   "source": [
    "### 논리형 변수"
   ]
  },
  {
   "cell_type": "code",
   "execution_count": 6,
   "id": "c6365545",
   "metadata": {},
   "outputs": [
    {
     "name": "stdout",
     "output_type": "stream",
     "text": [
      "True\n"
     ]
    }
   ],
   "source": [
    "a = True\n",
    "print(a)"
   ]
  },
  {
   "cell_type": "code",
   "execution_count": 7,
   "id": "4cb2813d",
   "metadata": {},
   "outputs": [
    {
     "name": "stdout",
     "output_type": "stream",
     "text": [
      "False\n"
     ]
    }
   ],
   "source": [
    "b = False\n",
    "print(b)"
   ]
  },
  {
   "cell_type": "markdown",
   "id": "c393b4d0",
   "metadata": {},
   "source": [
    "### 문자열 변수"
   ]
  },
  {
   "cell_type": "code",
   "execution_count": 8,
   "id": "6baedcec",
   "metadata": {},
   "outputs": [
    {
     "name": "stdout",
     "output_type": "stream",
     "text": [
      "안녕하세요> 파이썬\n"
     ]
    }
   ],
   "source": [
    "# 문자열 변수\n",
    "msg = '안녕하세요> 파이썬'\n",
    "print(msg)"
   ]
  },
  {
   "cell_type": "markdown",
   "id": "ed5228d7",
   "metadata": {},
   "source": [
    "### 내용이 없는 변수"
   ]
  },
  {
   "cell_type": "code",
   "execution_count": 9,
   "id": "b569be7f",
   "metadata": {},
   "outputs": [
    {
     "name": "stdout",
     "output_type": "stream",
     "text": [
      "None\n"
     ]
    }
   ],
   "source": [
    "#   내용이 없는 변수\n",
    "hello = None\n",
    "print(hello)"
   ]
  },
  {
   "cell_type": "markdown",
   "id": "c4d31ade",
   "metadata": {},
   "source": [
    "## #05. 연산자의 활용\n",
    "\n",
    "### 대입 연산자를 활용한 swap 처리"
   ]
  },
  {
   "cell_type": "code",
   "execution_count": 10,
   "id": "ecc771c2",
   "metadata": {},
   "outputs": [
    {
     "name": "stdout",
     "output_type": "stream",
     "text": [
      "1\n",
      "2\n",
      "2\n",
      "1\n"
     ]
    }
   ],
   "source": [
    "a = 1\n",
    "b = 2\n",
    "print(a)\n",
    "print(b)\n",
    "\n",
    "a,b = b,a\n",
    "print(a)\n",
    "print(b)"
   ]
  },
  {
   "cell_type": "markdown",
   "id": "04d2cb28",
   "metadata": {},
   "source": [
    "### 산술 연산자 사용하기"
   ]
  },
  {
   "cell_type": "code",
   "execution_count": 11,
   "id": "0e365939",
   "metadata": {},
   "outputs": [
    {
     "name": "stdout",
     "output_type": "stream",
     "text": [
      "7\n"
     ]
    }
   ],
   "source": [
    "# 연살 결과는 새로운 변수에 할당하거나 직접 출력 가능\n",
    "a = 3\n",
    "b = 4\n",
    "c = a + b\n",
    "print(c)"
   ]
  },
  {
   "cell_type": "code",
   "execution_count": 12,
   "id": "7ad3184e",
   "metadata": {},
   "outputs": [
    {
     "name": "stdout",
     "output_type": "stream",
     "text": [
      "-1\n",
      "12\n",
      "0.75\n"
     ]
    }
   ],
   "source": [
    "# 연산결과 직접 출력\n",
    "print(a-b)\n",
    "print(a*b)\n",
    "print(a/b)"
   ]
  },
  {
   "cell_type": "markdown",
   "id": "0b7ec723",
   "metadata": {},
   "source": [
    "### 나눗셈과 거급제곱"
   ]
  },
  {
   "cell_type": "code",
   "execution_count": 13,
   "id": "9fcfc1d8",
   "metadata": {},
   "outputs": [
    {
     "name": "stdout",
     "output_type": "stream",
     "text": [
      "3.3333333333333335\n"
     ]
    }
   ],
   "source": [
    "# 나눗셈의 몫을 구한다\n",
    "# -> 처리 가능한 단위까지 계산함(마지막 오차발생)\n",
    "print (10/3)"
   ]
  },
  {
   "cell_type": "code",
   "execution_count": 14,
   "id": "1e5ada21",
   "metadata": {},
   "outputs": [
    {
     "name": "stdout",
     "output_type": "stream",
     "text": [
      "3\n"
     ]
    }
   ],
   "source": [
    "# 나눗셈에서 소수점 아래를 버리고 몫만 계산\n",
    "print (10//3)"
   ]
  },
  {
   "cell_type": "code",
   "execution_count": 15,
   "id": "d457995c",
   "metadata": {},
   "outputs": [
    {
     "name": "stdout",
     "output_type": "stream",
     "text": [
      "243\n"
     ]
    }
   ],
   "source": [
    "# 나눗셈의 나머지를 구한다\n",
    "# -> 정수 단위에서만 연찬 후 종료\n",
    "print(3 ** 5)"
   ]
  },
  {
   "cell_type": "markdown",
   "id": "079774ce",
   "metadata": {},
   "source": [
    "### 단항 연산자"
   ]
  },
  {
   "cell_type": "code",
   "execution_count": 16,
   "id": "04472c16",
   "metadata": {},
   "outputs": [
    {
     "name": "stdout",
     "output_type": "stream",
     "text": [
      "1\n"
     ]
    }
   ],
   "source": [
    "a = 1\n",
    "a += 100\n",
    "a *= 10\n",
    "a //= 3\n",
    "a %= 5\n",
    "print (a)"
   ]
  },
  {
   "cell_type": "markdown",
   "id": "aeaa5193",
   "metadata": {},
   "source": [
    "### 비교 연산자"
   ]
  },
  {
   "cell_type": "code",
   "execution_count": 17,
   "id": "cb46070e",
   "metadata": {},
   "outputs": [
    {
     "name": "stdout",
     "output_type": "stream",
     "text": [
      "False\n",
      "True\n",
      "True\n",
      "True\n",
      "False\n",
      "False\n"
     ]
    }
   ],
   "source": [
    "# 결과값이 True 혹은 False가 된다.\n",
    "print(100==50)\n",
    "print(100!=50)\n",
    "print(100>=50)\n",
    "print(100>50)\n",
    "print(100<50)\n",
    "print(100<=50)"
   ]
  },
  {
   "cell_type": "code",
   "execution_count": 18,
   "id": "177d3d33",
   "metadata": {},
   "outputs": [
    {
     "name": "stdout",
     "output_type": "stream",
     "text": [
      "True\n"
     ]
    }
   ],
   "source": [
    "# 비교연산도 하나의 수식이므로 결과를 다른 변수에 할당 가능함\n",
    "result = 100 > 50\n",
    "print (result)"
   ]
  },
  {
   "cell_type": "markdown",
   "id": "de17b1bc",
   "metadata": {},
   "source": [
    "### 논리 연산자"
   ]
  },
  {
   "cell_type": "code",
   "execution_count": 19,
   "id": "6f14569b",
   "metadata": {},
   "outputs": [
    {
     "name": "stdout",
     "output_type": "stream",
     "text": [
      "True\n",
      "False\n",
      "False\n",
      "False\n"
     ]
    }
   ],
   "source": [
    "# 논리 연신자 (and) --> 전체가 True인 경우만 결과값이 True\n",
    "print (True and True)\n",
    "print (True and False)\n",
    "print (False and True)\n",
    "print (False and False)"
   ]
  },
  {
   "cell_type": "code",
   "execution_count": 20,
   "id": "8be09154",
   "metadata": {},
   "outputs": [
    {
     "name": "stdout",
     "output_type": "stream",
     "text": [
      "True\n",
      "True\n",
      "True\n",
      "False\n"
     ]
    }
   ],
   "source": [
    "# 논리연산자 (or) --> 하나라도 True가 포함되어 있다면 결과값이 True\n",
    "print (True or True)\n",
    "print (True or False)\n",
    "print (False or True)\n",
    "print (False or False)"
   ]
  },
  {
   "cell_type": "code",
   "execution_count": 21,
   "id": "3d14efbf",
   "metadata": {},
   "outputs": [
    {
     "name": "stdout",
     "output_type": "stream",
     "text": [
      "False\n"
     ]
    }
   ],
   "source": [
    "#True에 대한 부정\n",
    "print(not True)"
   ]
  },
  {
   "cell_type": "code",
   "execution_count": 22,
   "id": "bb5228b3",
   "metadata": {},
   "outputs": [
    {
     "name": "stdout",
     "output_type": "stream",
     "text": [
      "True\n"
     ]
    }
   ],
   "source": [
    "#False에 대한 부정\n",
    "print(not False)"
   ]
  },
  {
   "cell_type": "code",
   "execution_count": 23,
   "id": "2867f75e",
   "metadata": {},
   "outputs": [
    {
     "name": "stdout",
     "output_type": "stream",
     "text": [
      "False\n"
     ]
    }
   ],
   "source": [
    "#논리값을 저장하는 변수를 부정하여 그 결과를 다른 변수에 할당\n",
    "mybool = True\n",
    "reverse = not mybool\n",
    "\n",
    "print(reverse)"
   ]
  },
  {
   "cell_type": "markdown",
   "id": "86e4ebd1",
   "metadata": {},
   "source": [
    "### 비교 연산과 논리 연산의 결합"
   ]
  },
  {
   "cell_type": "code",
   "execution_count": 24,
   "id": "8473db84",
   "metadata": {},
   "outputs": [
    {
     "name": "stdout",
     "output_type": "stream",
     "text": [
      "True\n"
     ]
    }
   ],
   "source": [
    "# 비교연산의 결과값은 bool형식이므로 논리연산이 가능함\n",
    "a = 100>50\n",
    "b=20>10\n",
    "print (a and b)"
   ]
  },
  {
   "cell_type": "code",
   "execution_count": 25,
   "id": "a0d6836e",
   "metadata": {},
   "outputs": [
    {
     "name": "stdout",
     "output_type": "stream",
     "text": [
      "False\n"
     ]
    }
   ],
   "source": [
    "# \"비교 연산 --> 논리 연산\"의 순서로 처리됨\n",
    "c = 100 >= 100 and 50 ==10\n",
    "print(c)"
   ]
  },
  {
   "cell_type": "code",
   "execution_count": 26,
   "id": "893eee3e",
   "metadata": {},
   "outputs": [
    {
     "name": "stdout",
     "output_type": "stream",
     "text": [
      "True\n"
     ]
    }
   ],
   "source": [
    "print(100 != 200 and 100 == 100)"
   ]
  },
  {
   "cell_type": "markdown",
   "id": "db90753d",
   "metadata": {},
   "source": [
    "### 완전 항등 연산자 'is'"
   ]
  },
  {
   "cell_type": "code",
   "execution_count": 27,
   "id": "f7b159cb",
   "metadata": {},
   "outputs": [],
   "source": [
    "# 비교를 위한 변수값 정의\n",
    "x = 100\n",
    "y = 100.0"
   ]
  },
  {
   "cell_type": "code",
   "execution_count": 28,
   "id": "8e6ff2c7",
   "metadata": {},
   "outputs": [
    {
     "name": "stdout",
     "output_type": "stream",
     "text": [
      "True\n",
      "False\n"
     ]
    }
   ],
   "source": [
    "# 단순 비교 연산자는 정수와 실수를 구분하지 않는다.\n",
    "print(x == y) # 1과 1.0을 같다고 판별하므로 True\n",
    "print(x != y) # 1과 1.0을 다르다고 판별하므로 false"
   ]
  },
  {
   "cell_type": "code",
   "execution_count": 29,
   "id": "9481568e",
   "metadata": {},
   "outputs": [
    {
     "name": "stdout",
     "output_type": "stream",
     "text": [
      "False\n",
      "True\n"
     ]
    }
   ],
   "source": [
    "# is 연산자는 비교하는 값의 데이터 타입까지 일치해야만 True\n",
    "print (x is y)\n",
    "print (x is not y)"
   ]
  }
 ],
 "metadata": {
  "kernelspec": {
   "display_name": "Python 3",
   "language": "python",
   "name": "python3"
  },
  "language_info": {
   "codemirror_mode": {
    "name": "ipython",
    "version": 3
   },
   "file_extension": ".py",
   "mimetype": "text/x-python",
   "name": "python",
   "nbconvert_exporter": "python",
   "pygments_lexer": "ipython3",
   "version": "3.13.9"
  }
 },
 "nbformat": 4,
 "nbformat_minor": 5
}
