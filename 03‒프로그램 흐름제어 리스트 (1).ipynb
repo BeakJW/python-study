{
 "cells": [
  {
   "cell_type": "markdown",
   "id": "94810f5b",
   "metadata": {},
   "source": [
    "### LAB03‒ 프로그램 흐름제어 / 리스트 (1)"
   ]
  },
  {
   "cell_type": "markdown",
   "id": "f11d5ac7",
   "metadata": {},
   "source": [
    "## 1.프로그램 흐름제어"
   ]
  },
  {
   "cell_type": "code",
   "execution_count": null,
   "id": "b74fb2cb",
   "metadata": {},
   "outputs": [],
   "source": [
    "point = int(input(\"점수를 입력하세요: \"))\n",
    "\n",
    "if point >70:\n",
    "    print(\"패스입니다\")\n",
    "\n",
    "    if point > 90:\n",
    "        print(\"A입니다\")\n",
    "    elif point > 80:\n",
    "        print(\"B입니다\")\n",
    "    else:\n",
    "        print(\"C입니다\")\n",
    "else:\n",
    "    print (\"패스하지 못했습니다.\")"
   ]
  },
  {
   "cell_type": "code",
   "execution_count": null,
   "id": "37db0bcb",
   "metadata": {},
   "outputs": [],
   "source": [
    "number = int(input(\"숫자를 입력하세요: \"))\n",
    "\n",
    "x = 0\n",
    "y = 0\n",
    "\n",
    "for i in range(1,number+1):\n",
    "    if i%2==0:\n",
    "        print(i,\"--> 짝\")\n",
    "        x+=i\n",
    "    else:\n",
    "        print(i,\"--> 홀수\")\n",
    "        y += i\n",
    "print(\"짝수들의 합:\",x)\n",
    "print(\"홀수들의 합:\",y)\n",
    "\n"
   ]
  },
  {
   "cell_type": "code",
   "execution_count": 12,
   "id": "9272a34f",
   "metadata": {},
   "outputs": [
    {
     "name": "stdout",
     "output_type": "stream",
     "text": [
      "0\n",
      "------\n",
      "1\n",
      "------\n",
      "2\n",
      "------\n",
      "3\n",
      "------\n",
      "4\n"
     ]
    }
   ],
   "source": [
    "for i in range(0,5):\n",
    "    print(i)\n",
    "\n",
    "    if i+ 1 <5:\n",
    "        print(\"------\")"
   ]
  },
  {
   "cell_type": "code",
   "execution_count": 14,
   "id": "2888789d",
   "metadata": {},
   "outputs": [
    {
     "name": "stdout",
     "output_type": "stream",
     "text": [
      "15\n",
      "30\n",
      "45\n",
      "60\n",
      "75\n",
      "90\n"
     ]
    }
   ],
   "source": [
    "x=3\n",
    "y=5\n",
    "\n",
    "for i in range(1,101):\n",
    "    if i%x==0 and i%y==0:\n",
    "        print(i)"
   ]
  },
  {
   "cell_type": "code",
   "execution_count": null,
   "id": "e9e842e7",
   "metadata": {},
   "outputs": [
    {
     "name": "stdout",
     "output_type": "stream",
     "text": [
      "i에 대한 반복 수행 시작 : ㅑ--> 0\n",
      "::: i=5 0 , 0\n",
      "::: i=5 0 , 1\n",
      "::: i=5 0 , 2\n",
      "::: i=5 0 , 3\n",
      "::: i=5 0 , 4\n",
      "i에 대한 반복 수행 종료\n",
      "---------------------\n",
      "i에 대한 반복 수행 시작 : ㅑ--> 1\n",
      "::: i=5 1 , 0\n",
      "::: i=5 1 , 1\n",
      "::: i=5 1 , 2\n",
      "::: i=5 1 , 3\n",
      "::: i=5 1 , 4\n",
      "i에 대한 반복 수행 종료\n",
      "---------------------\n",
      "i에 대한 반복 수행 시작 : ㅑ--> 2\n",
      "::: i=5 2 , 0\n",
      "::: i=5 2 , 1\n",
      "::: i=5 2 , 2\n",
      "::: i=5 2 , 3\n",
      "::: i=5 2 , 4\n",
      "i에 대한 반복 수행 종료\n"
     ]
    }
   ],
   "source": [
    "for i in range(0,3):\n",
    "    print(\"i에 대한 반복 수행 시작 : -->\",i)\n",
    "\n",
    "    for j in range(0,5):\n",
    "        print(\"::: i=5\",i,\",\",j)\n",
    "    \n",
    "    print(\"i에 대한 반복 수행 종료\")\n",
    "\n",
    "    if i +1 <3:\n",
    "        print(\"---------------------\")"
   ]
  },
  {
   "cell_type": "code",
   "execution_count": 3,
   "id": "a59a9337",
   "metadata": {},
   "outputs": [
    {
     "name": "stdout",
     "output_type": "stream",
     "text": [
      "2 x 1 = 2\n",
      "2 x 2 = 4\n",
      "2 x 3 = 6\n",
      "2 x 4 = 8\n",
      "2 x 5 = 10\n",
      "2 x 6 = 12\n",
      "2 x 7 = 14\n",
      "2 x 8 = 16\n",
      "2 x 9 = 18\n",
      "---------\n",
      "3 x 1 = 3\n",
      "3 x 2 = 6\n",
      "3 x 3 = 9\n",
      "3 x 4 = 12\n",
      "3 x 5 = 15\n",
      "3 x 6 = 18\n",
      "3 x 7 = 21\n",
      "3 x 8 = 24\n",
      "3 x 9 = 27\n",
      "---------\n",
      "4 x 1 = 4\n",
      "4 x 2 = 8\n",
      "4 x 3 = 12\n",
      "4 x 4 = 16\n",
      "4 x 5 = 20\n",
      "4 x 6 = 24\n",
      "4 x 7 = 28\n",
      "4 x 8 = 32\n",
      "4 x 9 = 36\n",
      "---------\n",
      "5 x 1 = 5\n",
      "5 x 2 = 10\n",
      "5 x 3 = 15\n",
      "5 x 4 = 20\n",
      "5 x 5 = 25\n",
      "5 x 6 = 30\n",
      "5 x 7 = 35\n",
      "5 x 8 = 40\n",
      "5 x 9 = 45\n",
      "---------\n",
      "6 x 1 = 6\n",
      "6 x 2 = 12\n",
      "6 x 3 = 18\n",
      "6 x 4 = 24\n",
      "6 x 5 = 30\n",
      "6 x 6 = 36\n",
      "6 x 7 = 42\n",
      "6 x 8 = 48\n",
      "6 x 9 = 54\n",
      "---------\n",
      "7 x 1 = 7\n",
      "7 x 2 = 14\n",
      "7 x 3 = 21\n",
      "7 x 4 = 28\n",
      "7 x 5 = 35\n",
      "7 x 6 = 42\n",
      "7 x 7 = 49\n",
      "7 x 8 = 56\n",
      "7 x 9 = 63\n",
      "---------\n",
      "8 x 1 = 8\n",
      "8 x 2 = 16\n",
      "8 x 3 = 24\n",
      "8 x 4 = 32\n",
      "8 x 5 = 40\n",
      "8 x 6 = 48\n",
      "8 x 7 = 56\n",
      "8 x 8 = 64\n",
      "8 x 9 = 72\n",
      "---------\n",
      "9 x 1 = 9\n",
      "9 x 2 = 18\n",
      "9 x 3 = 27\n",
      "9 x 4 = 36\n",
      "9 x 5 = 45\n",
      "9 x 6 = 54\n",
      "9 x 7 = 63\n",
      "9 x 8 = 72\n",
      "9 x 9 = 81\n"
     ]
    }
   ],
   "source": [
    "for i in range(2,10):\n",
    "    for j in range(1,10):\n",
    "        k=i*j\n",
    "        print(i,\"x\",j,\"=\",k)\n",
    "\n",
    "    if i+1 <10:\n",
    "        print(\"---------\")"
   ]
  },
  {
   "cell_type": "code",
   "execution_count": 9,
   "id": "5ef30353",
   "metadata": {},
   "outputs": [
    {
     "name": "stdout",
     "output_type": "stream",
     "text": [
      "*\n",
      "**\n",
      "***\n",
      "****\n",
      "*****\n"
     ]
    }
   ],
   "source": [
    "for i in range(0,5):\n",
    "    star = \"\"\n",
    "\n",
    "    for j in range(0,i+1):\n",
    "        star +=\"*\"\n",
    "\n",
    "    print(star)"
   ]
  },
  {
   "cell_type": "code",
   "execution_count": 7,
   "id": "fecd6225",
   "metadata": {},
   "outputs": [
    {
     "name": "stdout",
     "output_type": "stream",
     "text": [
      "Hello python:: 1\n",
      "Hello python:: 3\n",
      "Hello python:: 5\n",
      "Hello python:: 7\n",
      "Hello python:: 9\n"
     ]
    }
   ],
   "source": [
    "y=0\n",
    "while True:\n",
    "    y+=1\n",
    "\n",
    "    if y%2 ==0:\n",
    "        continue\n",
    "    if y>10:\n",
    "        break\n",
    "\n",
    "    print(\"Hello python::\",y)"
   ]
  },
  {
   "cell_type": "code",
   "execution_count": 10,
   "id": "97e285da",
   "metadata": {},
   "outputs": [
    {
     "name": "stdout",
     "output_type": "stream",
     "text": [
      "1 5\n",
      "경우의 수 1\n",
      "2 4\n",
      "경우의 수 2\n",
      "3 3\n",
      "경우의 수 3\n",
      "4 2\n",
      "경우의 수 4\n",
      "5 1\n",
      "경우의 수 5\n",
      "경우의 수 5\n"
     ]
    }
   ],
   "source": [
    "count = 0\n",
    "\n",
    "for i in range(1,7):\n",
    "    for j in range(1,7):\n",
    "        if i+j==6:\n",
    "            count +=1\n",
    "            print (i,j)\n",
    "    print (\"경우의 수\",count)"
   ]
  },
  {
   "cell_type": "code",
   "execution_count": 14,
   "id": "9f2dec22",
   "metadata": {},
   "outputs": [
    {
     "name": "stdout",
     "output_type": "stream",
     "text": [
      "*****\n",
      "****\n",
      "***\n",
      "**\n",
      "*\n"
     ]
    }
   ],
   "source": [
    "for i in range(0,5):\n",
    "    star = \"\"\n",
    "\n",
    "    for j in range(0,5-i):\n",
    "        star +=\"*\"\n",
    "\n",
    "    print(star)"
   ]
  },
  {
   "cell_type": "markdown",
   "id": "753edaf2",
   "metadata": {},
   "source": [
    "## 2.리스트의 이해"
   ]
  },
  {
   "cell_type": "code",
   "execution_count": 16,
   "id": "de2f9afc",
   "metadata": {},
   "outputs": [
    {
     "name": "stdout",
     "output_type": "stream",
     "text": [
      "[98, 82, 73, 64, 100]\n"
     ]
    }
   ],
   "source": [
    "grade = [98,82,73,64,100]\n",
    "print(grade)"
   ]
  },
  {
   "cell_type": "code",
   "execution_count": 17,
   "id": "db7af8ad",
   "metadata": {},
   "outputs": [
    {
     "name": "stdout",
     "output_type": "stream",
     "text": [
      "['철수', '영희', '나영', '민식', '호영']\n"
     ]
    }
   ],
   "source": [
    "names = [\"철수\",\"영희\",\"나영\",\"민식\",\"호영\"]\n",
    "print(names)"
   ]
  },
  {
   "cell_type": "code",
   "execution_count": 18,
   "id": "dbc136a2",
   "metadata": {},
   "outputs": [
    {
     "name": "stdout",
     "output_type": "stream",
     "text": [
      "['철수', 17, 162.4, 68.5, '남자', True]\n"
     ]
    }
   ],
   "source": [
    "student=[\"철수\",17,162.4,68.5,\"남자\",True]\n",
    "print(student)"
   ]
  },
  {
   "cell_type": "code",
   "execution_count": 20,
   "id": "d5f003f5",
   "metadata": {},
   "outputs": [
    {
     "name": "stdout",
     "output_type": "stream",
     "text": [
      "10\n",
      "20\n",
      "30\n"
     ]
    }
   ],
   "source": [
    "items = [10,20,30]\n",
    "print(items[0])\n",
    "print(items[1])\n",
    "print(items[2])"
   ]
  },
  {
   "cell_type": "code",
   "execution_count": 22,
   "id": "bd9ceb23",
   "metadata": {},
   "outputs": [
    {
     "name": "stdout",
     "output_type": "stream",
     "text": [
      "[100, 200, 300]\n",
      "[0, 50, 100]\n"
     ]
    }
   ],
   "source": [
    "mydata = [100,200,300]\n",
    "print(mydata)\n",
    "\n",
    "mydata[0]= 0\n",
    "mydata[1] =mydata[1] - 150\n",
    "mydata[2] //=3\n",
    "print(mydata)"
   ]
  },
  {
   "cell_type": "code",
   "execution_count": 23,
   "id": "e68ba43c",
   "metadata": {},
   "outputs": [
    {
     "name": "stdout",
     "output_type": "stream",
     "text": [
      "[10, 20, 30]\n",
      "[40, 50, 60]\n"
     ]
    }
   ],
   "source": [
    "list1 = [10, 20, 30]\n",
    "list2 = [40, 50, 60]\n",
    "print(list1)\n",
    "print(list2)"
   ]
  },
  {
   "cell_type": "code",
   "execution_count": 24,
   "id": "ddad410f",
   "metadata": {},
   "outputs": [
    {
     "name": "stdout",
     "output_type": "stream",
     "text": [
      "[10, 20, 30, 40, 50, 60]\n"
     ]
    }
   ],
   "source": [
    "list3 = list1 + list2\n",
    "print(list3)"
   ]
  },
  {
   "cell_type": "code",
   "execution_count": 25,
   "id": "88fc6c15",
   "metadata": {},
   "outputs": [
    {
     "name": "stdout",
     "output_type": "stream",
     "text": [
      "[10, 20, 30, 10, 20, 30, 10, 20, 30, 10, 20, 30, 10, 20, 30]\n"
     ]
    }
   ],
   "source": [
    "list4 = list1 * 5\n",
    "print(list4)"
   ]
  },
  {
   "cell_type": "code",
   "execution_count": 26,
   "id": "eabf1f88",
   "metadata": {},
   "outputs": [
    {
     "name": "stdout",
     "output_type": "stream",
     "text": [
      "[['철수', 98], ['영희', 82], ['나영', 73]]\n"
     ]
    }
   ],
   "source": [
    "stud1 = [ \"철수\", 98 ]\n",
    "stud2 = [ \"영희\", 82 ]\n",
    "stud3 = [ \"나영\", 73 ]\n",
    "# 리스트를 원소로 갖는 새로운 리스트 정의\n",
    "studentGroup = [ stud1, stud2, stud3 ]\n",
    "print(studentGroup)"
   ]
  },
  {
   "cell_type": "code",
   "execution_count": 27,
   "id": "1a6100be",
   "metadata": {},
   "outputs": [
    {
     "name": "stdout",
     "output_type": "stream",
     "text": [
      "[['민식', 64, 172.3], ['호영', 100, 175.8], ['철민', 89, 168.7]]\n"
     ]
    }
   ],
   "source": [
    "studentGroup2 = [\n",
    "[\"민식\", 64, 172.3],\n",
    "[\"호영\", 100, 175.8],\n",
    "[\"철민\", 89, 168.7]\n",
    "]\n",
    "print(studentGroup2)"
   ]
  },
  {
   "cell_type": "code",
   "execution_count": 28,
   "id": "71290ec3",
   "metadata": {},
   "outputs": [],
   "source": [
    "학생 = [ [\"민식\", 64, 172.3], [\"호영\", 100, 175.8], [\"철민\", 89, 168.7] ]"
   ]
  },
  {
   "cell_type": "code",
   "execution_count": 31,
   "id": "c3f99239",
   "metadata": {},
   "outputs": [
    {
     "name": "stdout",
     "output_type": "stream",
     "text": [
      "['민식', 64, 172.3]\n",
      "['호영', 100, 175.8]\n",
      "['철민', 89, 168.7]\n"
     ]
    }
   ],
   "source": [
    "print(학생[0])\n",
    "print(학생[1])\n",
    "print(학생[2])"
   ]
  },
  {
   "cell_type": "code",
   "execution_count": 32,
   "id": "1ac383e2",
   "metadata": {},
   "outputs": [
    {
     "name": "stdout",
     "output_type": "stream",
     "text": [
      "이름:  민식  몸무게:  64  키:  172.3\n",
      "이름:  호영  몸무게:  100  키:  175.8\n",
      "이름:  철민  몸무게:  89  키:  168.7\n"
     ]
    }
   ],
   "source": [
    "학생 = [ [\"민식\", 64, 172.3], [\"호영\", 100, 175.8], [\"철민\", 89, 168.7] ]\n",
    "print(\"이름: \", 학생[0][0], \" 몸무게: \", 학생[0][1], \" 키: \", 학생[0][2])\n",
    "print(\"이름: \", 학생[1][0], \" 몸무게: \", 학생[1][1], \" 키: \", 학생[1][2])\n",
    "print(\"이름: \", 학생[2][0], \" 몸무게: \", 학생[2][1], \" 키: \", 학생[2][2])"
   ]
  },
  {
   "cell_type": "code",
   "execution_count": 33,
   "id": "0bcac3a8",
   "metadata": {},
   "outputs": [
    {
     "name": "stdout",
     "output_type": "stream",
     "text": [
      "상품:  티셔츠 , 사이즈:  M , 색상:  빨강 , 가격: 15000\n",
      "상품:  청바지 , 사이즈:  32 , 색상:  청색 , 가격: 45000 , 브랜드:  리바이스\n",
      "상품:  운동화 , 사이즈:  270 , 색상:  검정 , 가격: 60000 , 브랜드:  나이키 , 재질: 가죽\n"
     ]
    }
   ],
   "source": [
    "items = [\n",
    "[\"티셔츠\", \"M\", \"빨강\", 15000],\n",
    "[\"청바지\", 32, \"청색\", 45000, \"리바이스\"],\n",
    "[\"운동화\", 270, \"검정\", 60000, \"나이키\", \"가죽\"]\n",
    "]\n",
    "print(\"상품: \", items[0][0], \", 사이즈: \", str(items[0][1]), \", 색상: \",\n",
    "items[0][2], \", 가격: \" + str(items[0][3]),)\n",
    "print(\"상품: \", items[1][0], \", 사이즈: \", str(items[1][1]), \", 색상: \",\n",
    "items[1][2], \", 가격: \" + str(items[1][3]), \", 브랜드: \", items[1][4])\n",
    "print(\"상품: \", items[2][0], \", 사이즈: \", str(items[2][1]), \", 색상: \",\n",
    "items[2][2], \", 가격: \" + str(items[2][3]), \", 브랜드: \", items[2][4],\n",
    "\", 재질: \" + items[2][5])"
   ]
  },
  {
   "cell_type": "code",
   "execution_count": 34,
   "id": "7a2319be",
   "metadata": {},
   "outputs": [
    {
     "name": "stdout",
     "output_type": "stream",
     "text": [
      "20\n",
      "30\n"
     ]
    }
   ],
   "source": [
    "mylist = [10,20,30]\n",
    "print(mylist[1])\n",
    "print(mylist[2])"
   ]
  },
  {
   "cell_type": "code",
   "execution_count": 35,
   "id": "a8c4e609",
   "metadata": {},
   "outputs": [
    {
     "name": "stdout",
     "output_type": "stream",
     "text": [
      "10\n"
     ]
    }
   ],
   "source": [
    "first = mylist[0]\n",
    "print(first)"
   ]
  },
  {
   "cell_type": "code",
   "execution_count": 37,
   "id": "7496eb27",
   "metadata": {},
   "outputs": [
    {
     "name": "stdout",
     "output_type": "stream",
     "text": [
      "[10, 200, 30]\n"
     ]
    }
   ],
   "source": [
    "mylist[1]=200\n",
    "print(mylist)"
   ]
  },
  {
   "cell_type": "code",
   "execution_count": 38,
   "id": "a84006c2",
   "metadata": {},
   "outputs": [
    {
     "name": "stdout",
     "output_type": "stream",
     "text": [
      "[70, 80]\n"
     ]
    }
   ],
   "source": [
    "mylist=[60,70,80,90,100]\n",
    "print(mylist[1:3])"
   ]
  },
  {
   "cell_type": "code",
   "execution_count": 39,
   "id": "8e82f629",
   "metadata": {},
   "outputs": [
    {
     "name": "stdout",
     "output_type": "stream",
     "text": [
      "[70, 80]\n"
     ]
    }
   ],
   "source": [
    "print(mylist[1:-2])"
   ]
  },
  {
   "cell_type": "code",
   "execution_count": 40,
   "id": "98b2e31d",
   "metadata": {},
   "outputs": [
    {
     "name": "stdout",
     "output_type": "stream",
     "text": [
      "[40, 50]\n",
      "[10, 20, 30]\n",
      "[10, 20, 30, 40, 50]\n"
     ]
    }
   ],
   "source": [
    "mylist=[10,20,30,40,50]\n",
    "print(mylist[3:])\n",
    "print(mylist[:3])\n",
    "print(mylist[:])\n"
   ]
  },
  {
   "cell_type": "code",
   "execution_count": 43,
   "id": "583c77b6",
   "metadata": {},
   "outputs": [
    {
     "name": "stdout",
     "output_type": "stream",
     "text": [
      "[1, 20, 30, 40, 5]\n",
      "[1, 5]\n"
     ]
    }
   ],
   "source": [
    "foo =[1,2,3,4,5]\n",
    "\n",
    "foo[1:4]=[20,30,40]\n",
    "\n",
    "print (foo)\n",
    "\n",
    "foo[1:4] = []\n",
    "print(foo)"
   ]
  },
  {
   "cell_type": "code",
   "execution_count": 45,
   "id": "7a816cc5",
   "metadata": {},
   "outputs": [
    {
     "name": "stdout",
     "output_type": "stream",
     "text": [
      "[6, 100, 200, 300, 400, 500, 600, 10]\n",
      "[6, 1000, 2000]\n"
     ]
    }
   ],
   "source": [
    "hello = [6,7,8,9,10]\n",
    "\n",
    "hello[1:4] = [100,200,300,400,500,600]\n",
    "print (hello)\n",
    "\n",
    "hello[1:8] = [1000,2000]\n",
    "print(hello)\n"
   ]
  },
  {
   "cell_type": "markdown",
   "id": "b3dc7010",
   "metadata": {},
   "source": [
    "## 4. 리스트의 원소 복사"
   ]
  },
  {
   "cell_type": "code",
   "execution_count": 46,
   "id": "9d9c978a",
   "metadata": {},
   "outputs": [
    {
     "name": "stdout",
     "output_type": "stream",
     "text": [
      "100\n",
      "100\n"
     ]
    }
   ],
   "source": [
    "a = 100\n",
    "b = a\n",
    "print(a)\n",
    "print(b)"
   ]
  },
  {
   "cell_type": "code",
   "execution_count": 47,
   "id": "a3e1ce4a",
   "metadata": {},
   "outputs": [
    {
     "name": "stdout",
     "output_type": "stream",
     "text": [
      "100\n",
      "200\n"
     ]
    }
   ],
   "source": [
    "b=200\n",
    "print(a)\n",
    "print(b)"
   ]
  },
  {
   "cell_type": "code",
   "execution_count": 48,
   "id": "0eb76667",
   "metadata": {},
   "outputs": [
    {
     "name": "stdout",
     "output_type": "stream",
     "text": [
      "[1, 2, 3]\n",
      "[1, 2, 3]\n"
     ]
    }
   ],
   "source": [
    "foo= [1,2,3]\n",
    "bar = foo\n",
    "print(bar)\n",
    "print(foo)"
   ]
  },
  {
   "cell_type": "code",
   "execution_count": 49,
   "id": "65c8e24f",
   "metadata": {},
   "outputs": [],
   "source": [
    "bar = [1,2,3]\n",
    "cp1 = [0,0,0]\n",
    "\n",
    "cp1[0] = bar[0]\n",
    "cp1[1] = bar[1]\n",
    "cp1[2] = bar[2]"
   ]
  },
  {
   "cell_type": "code",
   "execution_count": 50,
   "id": "2f00a67e",
   "metadata": {},
   "outputs": [
    {
     "name": "stdout",
     "output_type": "stream",
     "text": [
      "[1, 2, 3]\n",
      "[1, 2, 1000]\n"
     ]
    }
   ],
   "source": [
    "cp1[2] = 1000\n",
    "print(bar)\n",
    "print(cp1)"
   ]
  },
  {
   "cell_type": "code",
   "execution_count": 51,
   "id": "f7ffd310",
   "metadata": {},
   "outputs": [
    {
     "name": "stdout",
     "output_type": "stream",
     "text": [
      "[100, 200, 300]\n",
      "[100, 12345, 300]\n"
     ]
    }
   ],
   "source": [
    "hello = [100,200,300]\n",
    "cp2=hello[:]\n",
    "\n",
    "cp2[1] =12345\n",
    "print(hello)\n",
    "print(cp2)\n"
   ]
  },
  {
   "cell_type": "code",
   "execution_count": null,
   "id": "76b5ba75",
   "metadata": {},
   "outputs": [
    {
     "name": "stdout",
     "output_type": "stream",
     "text": [
      "['hello', 'python', 'world']\n",
      "['nice', 'python', 'world']\n"
     ]
    }
   ],
   "source": [
    "world = [\"hello\",\"python\",\"world\"]\n",
    "cp3 = world.copy()\n",
    "\n",
    "cp3[0]=\"nice\"\n",
    "print(world)\n",
    "print(cp3)"
   ]
  },
  {
   "cell_type": "code",
   "execution_count": 55,
   "id": "b34bde60",
   "metadata": {},
   "outputs": [],
   "source": [
    "grade = (98,82,73,64,123)"
   ]
  },
  {
   "cell_type": "code",
   "execution_count": 57,
   "id": "c797aeff",
   "metadata": {},
   "outputs": [
    {
     "name": "stdout",
     "output_type": "stream",
     "text": [
      "(98, 82, 73, 64, 123)\n"
     ]
    }
   ],
   "source": [
    "print(grade)"
   ]
  },
  {
   "cell_type": "code",
   "execution_count": 59,
   "id": "79577839",
   "metadata": {},
   "outputs": [
    {
     "name": "stdout",
     "output_type": "stream",
     "text": [
      "('철수', '영희', '나영', '민식', '호영')\n"
     ]
    }
   ],
   "source": [
    "names=(\"철수\",\"영희\",\"나영\",\"민식\",\"호영\")\n",
    "print(names)"
   ]
  },
  {
   "cell_type": "code",
   "execution_count": 60,
   "id": "cc8c42ba",
   "metadata": {},
   "outputs": [],
   "source": [
    "stud1 = (\"철수\",98)"
   ]
  },
  {
   "cell_type": "code",
   "execution_count": 61,
   "id": "cdf575c0",
   "metadata": {},
   "outputs": [
    {
     "name": "stdout",
     "output_type": "stream",
     "text": [
      "('철수', 98)\n"
     ]
    }
   ],
   "source": [
    "print(stud1)"
   ]
  },
  {
   "cell_type": "code",
   "execution_count": 63,
   "id": "48796023",
   "metadata": {},
   "outputs": [
    {
     "name": "stdout",
     "output_type": "stream",
     "text": [
      "철수\n",
      "98\n"
     ]
    }
   ],
   "source": [
    "print(stud1[0])\n",
    "print(stud1[1])"
   ]
  },
  {
   "cell_type": "code",
   "execution_count": 64,
   "id": "9fa531b1",
   "metadata": {},
   "outputs": [
    {
     "name": "stdout",
     "output_type": "stream",
     "text": [
      "[2, 1]\n",
      "몫: 2 ,나머지:  1\n"
     ]
    }
   ],
   "source": [
    "def divmod(a,b):\n",
    "    return[a//b,a%b]\n",
    "\n",
    "result = divmod(7,3)\n",
    "print(result)\n",
    "\n",
    "x,y = divmod(7,3)\n",
    "print(\"몫:\",x,\",나머지: \", y)"
   ]
  },
  {
   "cell_type": "code",
   "execution_count": 65,
   "id": "b8106b9d",
   "metadata": {},
   "outputs": [
    {
     "name": "stdout",
     "output_type": "stream",
     "text": [
      "원소가 포함됨\n"
     ]
    }
   ],
   "source": [
    "mylist=[10,20,30]\n",
    "\n",
    "if mylist:\n",
    "    print(\"원소가 포함됨\")\n",
    "else:\n",
    "    print(\"원소가 포함되지 않음\")"
   ]
  },
  {
   "cell_type": "code",
   "execution_count": 66,
   "id": "32d97627",
   "metadata": {},
   "outputs": [
    {
     "name": "stdout",
     "output_type": "stream",
     "text": [
      "원소가 포함되지 않음\n"
     ]
    }
   ],
   "source": [
    "mylist=[]\n",
    "\n",
    "if mylist:\n",
    "    print(\"원소가 포함됨\")\n",
    "else:\n",
    "    print(\"원소가 포함되지 않음\")"
   ]
  },
  {
   "cell_type": "code",
   "execution_count": 70,
   "id": "01228fd3",
   "metadata": {},
   "outputs": [
    {
     "name": "stdout",
     "output_type": "stream",
     "text": [
      "True\n",
      "False\n"
     ]
    }
   ],
   "source": [
    "mylist=[3,5,7,1,9]\n",
    "target = 7\n",
    "\n",
    "find = target in mylist\n",
    "print(find)\n",
    "\n",
    "not_find = target not in mylist\n",
    "print(not_find)"
   ]
  },
  {
   "cell_type": "code",
   "execution_count": 71,
   "id": "939b42e4",
   "metadata": {},
   "outputs": [
    {
     "name": "stdout",
     "output_type": "stream",
     "text": [
      "사용 가능한 아이디입니다\n"
     ]
    }
   ],
   "source": [
    "user_id_list = [\"mike\",\"tom\",\"jane\"]\n",
    "\n",
    "user_id = input(\"아이디를 입력하세요: \")\n",
    "\n",
    "if user_id not in user_id_list:\n",
    "    print(\"사용 가능한 아이디입니다\")\n",
    "else:\n",
    "    print(\"죄송합니다. 해당 아이디는 사용 중입니다.\")"
   ]
  },
  {
   "cell_type": "code",
   "execution_count": 72,
   "id": "4066eb0b",
   "metadata": {},
   "outputs": [
    {
     "name": "stdout",
     "output_type": "stream",
     "text": [
      "10\n",
      "20\n",
      "30\n",
      "40\n",
      "50\n"
     ]
    }
   ],
   "source": [
    "mylist = [10,20,30,40,50]\n",
    "size = len(mylist)\n",
    "i = 0\n",
    "\n",
    "while i < size:\n",
    "    print(mylist[i])\n",
    "    i+=1"
   ]
  },
  {
   "cell_type": "code",
   "execution_count": 73,
   "id": "61f41806",
   "metadata": {},
   "outputs": [
    {
     "name": "stdout",
     "output_type": "stream",
     "text": [
      "sum: 300 avg:  60.0\n"
     ]
    }
   ],
   "source": [
    "score = [91,53,12,54,90]\n",
    "subject=len(score)\n",
    "i=0\n",
    "sum = 0\n",
    "\n",
    "while i < subject:\n",
    "    sum += score[i]\n",
    "    i+=1\n",
    "\n",
    "avg = sum/subject\n",
    "\n",
    "print(\"sum:\",sum,\"avg: \",avg)"
   ]
  },
  {
   "cell_type": "code",
   "execution_count": null,
   "id": "9a9aeb16",
   "metadata": {},
   "outputs": [],
   "source": []
  }
 ],
 "metadata": {
  "kernelspec": {
   "display_name": "Python 3",
   "language": "python",
   "name": "python3"
  },
  "language_info": {
   "codemirror_mode": {
    "name": "ipython",
    "version": 3
   },
   "file_extension": ".py",
   "mimetype": "text/x-python",
   "name": "python",
   "nbconvert_exporter": "python",
   "pygments_lexer": "ipython3",
   "version": "3.13.9"
  }
 },
 "nbformat": 4,
 "nbformat_minor": 5
}
