{
 "cells": [
  {
   "cell_type": "code",
   "execution_count": 3,
   "id": "fa6ff8fb",
   "metadata": {},
   "outputs": [
    {
     "name": "stdout",
     "output_type": "stream",
     "text": [
      "[2, 3]\n"
     ]
    }
   ],
   "source": [
    "## 짝수 홀수 개수\n",
    "\n",
    "def solution(num_list):\n",
    "    jjak = 0\n",
    "    hol = 0\n",
    "    \n",
    "    for i in num_list:\n",
    "        if i%2==0:\n",
    "            jjak +=1\n",
    "        else:\n",
    "            hol +=1\n",
    "        \n",
    "    return [jjak,hol]\n",
    "\n",
    "print(solution([1, 2, 3, 4, 5]))"
   ]
  },
  {
   "cell_type": "code",
   "execution_count": 1,
   "id": "d9d9b1e1",
   "metadata": {},
   "outputs": [],
   "source": [
    "## 짝수는 싫어요\n",
    "\n",
    "def solution(n):\n",
    "    answer = []\n",
    "    \n",
    "    for i in range(n+1):\n",
    "        if i%2 ==1:\n",
    "            answer.append(i)\n",
    "    \n",
    "    return answer"
   ]
  },
  {
   "cell_type": "code",
   "execution_count": 1,
   "id": "3ce6974c",
   "metadata": {},
   "outputs": [],
   "source": [
    "## 공 던지기\n",
    "\n",
    "def solution(numbers, k):\n",
    "    loc = 0\n",
    "    for i in range(k-1):\n",
    "        loc = (loc+2) % len(numbers)\n",
    "        \n",
    "    return numbers[loc]"
   ]
  },
  {
   "cell_type": "code",
   "execution_count": null,
   "id": "8a3ec920",
   "metadata": {},
   "outputs": [],
   "source": [
    "# 배열 두배 만들기\n",
    "\n",
    "def solution(numbers):\n",
    "    answer = []\n",
    "    \n",
    "    for num in numbers:\n",
    "        answer.append(num*2)\n",
    "    \n",
    "    return answer"
   ]
  },
  {
   "cell_type": "code",
   "execution_count": 2,
   "id": "068aa5a9",
   "metadata": {},
   "outputs": [],
   "source": [
    "#배열 뒤집기\n",
    "\n",
    "def solution(num_list):\n",
    "    answer = num_list \n",
    "    \n",
    "    answer.reverse()\n",
    "        \n",
    "    return answer"
   ]
  },
  {
   "cell_type": "code",
   "execution_count": 3,
   "id": "c3ae243c",
   "metadata": {},
   "outputs": [],
   "source": [
    "# 배열의 평균 값\n",
    "def solution(numbers):\n",
    "    \n",
    "    \n",
    "    answer = sum(numbers)/len(numbers)\n",
    "    return answer"
   ]
  },
  {
   "cell_type": "code",
   "execution_count": 4,
   "id": "edbfdebe",
   "metadata": {},
   "outputs": [],
   "source": [
    "#대문자와 소문자\n",
    "\n",
    "def solution(my_string):\n",
    "    answer = \"\"\n",
    "    \n",
    "    for i in my_string:\n",
    "        if i.isupper():\n",
    "            answer += i.lower()\n",
    "        else:\n",
    "            answer += i.upper()\n",
    "    \n",
    "    return answer"
   ]
  },
  {
   "cell_type": "code",
   "execution_count": 5,
   "id": "308a6a1c",
   "metadata": {},
   "outputs": [],
   "source": [
    "#문자 반복 출력하기\n",
    "\n",
    "def solution(my_string, n):\n",
    "    answer = ''\n",
    "    \n",
    "    for i in my_string:\n",
    "        answer += i*n\n",
    "    return answer"
   ]
  },
  {
   "cell_type": "code",
   "execution_count": 6,
   "id": "221c2d86",
   "metadata": {},
   "outputs": [],
   "source": [
    "# 문자열 계산하기\n",
    "\n",
    "def solution(my_string):\n",
    "    parts = my_string.split()\n",
    "    \n",
    "    answer = int(parts[0])\n",
    "    \n",
    "    for i in range(1, len(parts), 2):\n",
    "        op = parts[i]\n",
    "        num = int(parts[i+1])\n",
    "        \n",
    "        if op == '+':\n",
    "            answer += num\n",
    "        elif op == '-':\n",
    "            answer -= num\n",
    "    \n",
    "    return answer"
   ]
  },
  {
   "cell_type": "code",
   "execution_count": null,
   "id": "3097d681",
   "metadata": {},
   "outputs": [],
   "source": [
    "# 뒤집힌 문자열\n",
    "\n",
    "def solution(my_string):\n",
    "    return my_string[::-1]\n"
   ]
  },
  {
   "cell_type": "code",
   "execution_count": 7,
   "id": "70b5e69d",
   "metadata": {},
   "outputs": [],
   "source": [
    "#모스 부호\n",
    "\n",
    "def solution(letter):\n",
    "    morse = { \n",
    "        '.-':'a','-...':'b','-.-.':'c','-..':'d','.':'e','..-.':'f',\n",
    "        '--.':'g','....':'h','..':'i','.---':'j','-.-':'k','.-..':'l',\n",
    "        '--':'m','-.':'n','---':'o','.--.':'p','--.-':'q','.-.':'r',\n",
    "        '...':'s','-':'t','..-':'u','...-':'v','.--':'w','-..-':'x',\n",
    "        '-.--':'y','--..':'z'\n",
    "    }\n",
    "    \n",
    "    answer = []\n",
    "    letter = letter.split(' ')\n",
    "    \n",
    "    for i in letter:\n",
    "        answer.append(morse[i])\n",
    "    \n",
    "    return ''.join(answer)"
   ]
  },
  {
   "cell_type": "code",
   "execution_count": 8,
   "id": "353da9f8",
   "metadata": {},
   "outputs": [],
   "source": [
    "# 중앙값 구하기\n",
    "def solution(array):\n",
    "    array.sort()\n",
    "    return array[len(array) // 2]"
   ]
  },
  {
   "cell_type": "code",
   "execution_count": 9,
   "id": "9726fa8c",
   "metadata": {},
   "outputs": [],
   "source": [
    "# 최댓값 만들기\n",
    "\n",
    "def solution(numbers):\n",
    "    numbers.sort()\n",
    "    answer = numbers[-1]*numbers[-2]\n",
    "    return answer"
   ]
  },
  {
   "cell_type": "code",
   "execution_count": 10,
   "id": "f0c7a17c",
   "metadata": {},
   "outputs": [],
   "source": [
    "#삼각형의 완성조건\n",
    "\n",
    "def solution(sides):\n",
    "    long = max(sides)\n",
    "    total = sum(sides) - long\n",
    "    \n",
    "    if long < total:\n",
    "        return 1\n",
    "    else:\n",
    "        return 2"
   ]
  },
  {
   "cell_type": "code",
   "execution_count": 11,
   "id": "3946cf04",
   "metadata": {},
   "outputs": [],
   "source": [
    "# 3,6,9 게임\n",
    "\n",
    "def solution(order):\n",
    "    answer = 0\n",
    "    list = [int(d) for d in str(order)]\n",
    "    \n",
    "    for i in list:\n",
    "        if i == 3 or i == 6 or i == 9:\n",
    "            answer += 1\n",
    "    \n",
    "    return answer"
   ]
  },
  {
   "cell_type": "code",
   "execution_count": null,
   "id": "4f717d18",
   "metadata": {},
   "outputs": [],
   "source": []
  }
 ],
 "metadata": {
  "kernelspec": {
   "display_name": "Python 3",
   "language": "python",
   "name": "python3"
  },
  "language_info": {
   "codemirror_mode": {
    "name": "ipython",
    "version": 3
   },
   "file_extension": ".py",
   "mimetype": "text/x-python",
   "name": "python",
   "nbconvert_exporter": "python",
   "pygments_lexer": "ipython3",
   "version": "3.13.9"
  }
 },
 "nbformat": 4,
 "nbformat_minor": 5
}
